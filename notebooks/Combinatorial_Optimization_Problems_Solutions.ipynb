{
 "cells": [
  {
   "cell_type": "markdown",
   "metadata": {},
   "source": [
    "<table width = \"100%\">\n",
    "  <tr style=\"background-color:white;\">\n",
    "    <!-- QWorld Logo -->\n",
    "    <td style=\"text-align:left;width:200px;\"> \n",
    "        <img src=\"../images/QWorld.png\"> </td>\n",
    "    <td style=\"text-align:right;vertical-align:bottom;font-size:16px;\"> \n",
    "        Prepared by <a href=\"https://gitlab.com/Sourabh499\" target=\"_blank\"> Sourabh Nutakki </a></td>\n",
    "    </tr> \n",
    " </table>\n",
    " \n",
    "<hr>"
   ]
  },
  {
   "cell_type": "markdown",
   "metadata": {},
   "source": [
    "# Solutions For Combinatorial Optimization Problems"
   ]
  },
  {
   "cell_type": "markdown",
   "metadata": {},
   "source": [
    "### Task 1:\n",
    "Find the shortest possible route, for the given graph,covering all the cities and the route ending at the starting point, using the Naive Solution.\n",
    "\n",
    "<img src=\"../images/tsp2.png\" width=\"250\">\n",
    "\n",
    "### Solution\n",
    "The total number of routes possible for the given graph is 3!=6. Then we calculate the distance(weight) covered in each of the routes. \n",
    "\n",
    "- A$\\to$B$\\to$C$\\to$A = 11+14+14 = 39\n",
    "\n",
    "- A$\\to$C$\\to$B$\\to$A = 8+12+6 = 26\n",
    "\n",
    "- B$\\to$C$\\to$A$\\to$B = 14+14+11 = 39\n",
    "\n",
    "- B$\\to$A$\\to$C$\\to$B = 6+8+12 = 26\n",
    "\n",
    "- C$\\to$A$\\to$B$\\to$C = 14+11+14 = 39\n",
    "\n",
    "- C$\\to$B$\\to$A$\\to$C = 12+6+8 = 26\n",
    "\n",
    "We find that the optimal(shortest) routes are, A$\\to$C$\\to$B$\\to$A, B$\\to$A$\\to$C$\\to$B and C$\\to$B$\\to$A$\\to$C. \n",
    "\n",
    "---"
   ]
  },
  {
   "cell_type": "markdown",
   "metadata": {},
   "source": [
    "### Task 2:\n",
    "Assign colors to each vertex of the given graph and give it's chromatic number. \n",
    "\n",
    "<img src=\"../images/gc5.png\" width=\"250\">\n",
    "\n",
    "### Solution\n",
    "Let's start with vertex A. Assign the color red to it. Since, all the vertices adjacent to A are non-adjacent to each other, we can assign the same color, blue, to the vertices B, E and F. Vertices G and H can be assigned a previously used color, red. Vertices C, I and J are adjacent to vertices of colors, both red and blue, hence, they need to be assigned a new color, green. And finally, since the vertex D is adjacent to vertices of colors, blue and green, we assign it the color red. Therefore, the chromatic number is 3 and the resultant graph is,\n",
    "\n",
    "<img src=\"../images/gc6.png\" width=\"250\">\n",
    "\n",
    "---"
   ]
  },
  {
   "cell_type": "markdown",
   "metadata": {},
   "source": [
    "### Task 3: \n",
    "In the given graph, the maximum cut is shown. Determine the number of edges it covers. \n",
    "\n",
    "<img src=\"../images/max_cut_2.png\" width=\"250\">\n",
    "\n",
    "### Solution\n",
    "The first step would be to name the vertices. \n",
    "\n",
    "<img src=\"../images/max_cut_3.png\" width=\"250\">\n",
    "\n",
    "The edges which satisfy the max-cut solution are, \n",
    "\n",
    "- e$_{1}$ = AB\n",
    "- e$_{2}$ = BC\n",
    "- e$_{3}$ = CD\n",
    "- e$_{4}$ = BE\n",
    "- e$_{5}$ = DE\n",
    "- e$_{6}$ = DF\n",
    "- e$_{7}$ = EG\n",
    "- e$_{8}$ = FG\n",
    "\n",
    "The number of edges is determined to be 8. Hence, the maximum cut of the given graph is 8.\n",
    "\n",
    "***"
   ]
  }
 ],
 "metadata": {
  "kernelspec": {
   "display_name": "Python 3",
   "language": "python",
   "name": "python3"
  },
  "language_info": {
   "codemirror_mode": {
    "name": "ipython",
    "version": 3
   },
   "file_extension": ".py",
   "mimetype": "text/x-python",
   "name": "python",
   "nbconvert_exporter": "python",
   "pygments_lexer": "ipython3",
   "version": "3.8.5"
  },
  "latex_envs": {
   "LaTeX_envs_menu_present": true,
   "autoclose": true,
   "autocomplete": true,
   "bibliofile": "biblio.bib",
   "cite_by": "apalike",
   "current_citInitial": 1,
   "eqLabelWithNumbers": true,
   "eqNumInitial": 1,
   "hotkeys": {
    "equation": "Ctrl-E",
    "itemize": "Ctrl-I"
   },
   "labels_anchors": false,
   "latex_user_defs": false,
   "report_style_numbering": false,
   "user_envs_cfg": false
  },
  "toc": {
   "base_numbering": 1,
   "nav_menu": {},
   "number_sections": true,
   "sideBar": true,
   "skip_h1_title": false,
   "title_cell": "Table of Contents",
   "title_sidebar": "Contents",
   "toc_cell": false,
   "toc_position": {},
   "toc_section_display": true,
   "toc_window_display": false
  }
 },
 "nbformat": 4,
 "nbformat_minor": 2
}
