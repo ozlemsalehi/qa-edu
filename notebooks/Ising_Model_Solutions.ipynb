{
 "cells": [
  {
   "cell_type": "markdown",
   "metadata": {},
   "source": [
    "<table width = \"100%\">\n",
    "  <tr style=\"background-color:white;\">\n",
    "    <!-- QWorld Logo -->\n",
    "    <td style=\"text-align:left;width:200px;\"> \n",
    "        <img src=\"../images/QWorld.png\"> </td>\n",
    "    <td style=\"text-align:right;vertical-align:bottom;font-size:16px;\"> \n",
    "        Prepared by <a href=\"https://gitlab.com/pjr1363\" target=\"_blank\"> Paul Joseph Robin </a></td>\n",
    "    </tr> \n",
    " </table>\n",
    " \n",
    "<hr>"
   ]
  },
  {
   "cell_type": "markdown",
   "metadata": {},
   "source": [
    "# Solutions for Ising Model"
   ]
  },
  {
   "cell_type": "markdown",
   "metadata": {},
   "source": [
    "<a id=\"Task1\"></a>\n",
    "### Task 1"
   ]
  },
  {
   "cell_type": "markdown",
   "metadata": {},
   "source": [
    "##### The possible scenarios are outlined here:\n",
    "| $s_1$ \t| $s_2$ \t| $s_3$ \t| $H$ \t|\n",
    "|-------\t|-------\t|-------\t|-----\t|\n",
    "| -1    \t| -1    \t| -1    \t| 144 \t|\n",
    "| -1    \t| -1    \t| 1     \t| 0   \t|\n",
    "| -1    \t| 1     \t| -1    \t| 64  \t|\n",
    "| -1    \t| 1     \t| 1     \t| 16  \t|\n",
    "| 1     \t| -1    \t| -1    \t| 16  \t|\n",
    "| 1     \t| -1    \t| 1     \t| 64  \t|\n",
    "| 1     \t| 1     \t| -1    \t| 0   \t|\n",
    "| 1     \t| 1     \t| 1     \t| 144 \t|"
   ]
  },
  {
   "cell_type": "markdown",
   "metadata": {},
   "source": [
    "The lowest energy state corresponds to $\\{-1, -1, 1\\}$ or just the complement $\\{1, 1, -1\\}$. \n",
    "\n",
    "This calculation could be automated by writing a code!"
   ]
  },
  {
   "cell_type": "markdown",
   "metadata": {},
   "source": [
    "The **maximal energy states** in either model represents the solution for the MaxCut problem. While the value of energy is not the the same, the solution is essentially the same. Also, note the *degenerate states*."
   ]
  },
  {
   "cell_type": "markdown",
   "metadata": {},
   "source": [
    "--- "
   ]
  }
 ],
 "metadata": {
  "kernelspec": {
   "display_name": "Python 3",
   "language": "python",
   "name": "python3"
  },
  "language_info": {
   "codemirror_mode": {
    "name": "ipython",
    "version": 3
   },
   "file_extension": ".py",
   "mimetype": "text/x-python",
   "name": "python",
   "nbconvert_exporter": "python",
   "pygments_lexer": "ipython3",
   "version": "3.7.6"
  }
 },
 "nbformat": 4,
 "nbformat_minor": 4
}
