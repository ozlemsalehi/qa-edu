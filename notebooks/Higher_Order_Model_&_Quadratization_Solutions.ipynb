{
 "cells": [
  {
   "cell_type": "markdown",
   "metadata": {},
   "source": [
    " "
   ]
  },
  {
   "cell_type": "markdown",
   "metadata": {},
   "source": [
    "<table width = \"100%\">\n",
    "  <tr style=\"background-color:white;\">\n",
    "    <!-- QWorld Logo -->\n",
    "    <td style=\"text-align:left;width:200px;\"> \n",
    "        <img src=\"../images/QWorld.png\"> </td>\n",
    "    <td style=\"text-align:right;vertical-align:bottom;font-size:16px;\"> \n",
    "        Prepared by <a href=\"https://gitlab.com/pjr1363\" target=\"_blank\"> Paul Joseph Robin </a></td>\n",
    "    </tr> \n",
    " </table>\n",
    " \n",
    "<hr>"
   ]
  },
  {
   "cell_type": "markdown",
   "metadata": {},
   "source": [
    "##  Solutions for Higher Order Problems"
   ]
  },
  {
   "cell_type": "markdown",
   "metadata": {},
   "source": [
    "<a id=\"Task1\"></a>\n",
    "### Task 1"
   ]
  },
  {
   "cell_type": "markdown",
   "metadata": {},
   "source": [
    "The objective function is:\n",
    "$$f (x_1, x_2, x_3) = 5x_1 + 7x_1 x_2 - 3x_1 x_2 x_3$$\n",
    "\n",
    "Let $y_{23}$ := $x_2 x_3$. So by Rosenberg's method, the quadratic objective function becomes\n",
    "$$f (x_1, x_2, y_{23}) = 5x_1 + 7x_1 x_2 - 3x_1 y_{23} + C (x_2x_3 - 2x_2y_{23} - 2x_3 y_{23} + 3y_{23} )$$ \n",
    "\n",
    "> It can be verified that this indeed satisfies the constraint $x_2x_3 = y_{23}$:\n",
    ">\n",
    "> Let $y_{23} = x_2x_3 = 1$\n",
    ">\n",
    "> $\\Rightarrow x_2 = 1, x_3 = 1$, which leads to the penalty term being zero.\n",
    "\n"
   ]
  },
  {
   "cell_type": "markdown",
   "metadata": {},
   "source": [
    "---"
   ]
  },
  {
   "cell_type": "markdown",
   "metadata": {},
   "source": [
    "<a id=\"Task2\"></a>\n",
    "### Task 2"
   ]
  },
  {
   "cell_type": "code",
   "execution_count": 1,
   "metadata": {},
   "outputs": [],
   "source": [
    "from ipywidgets import interact, fixed\n",
    "import itertools\n",
    "\n",
    "x  = [0, 1]\n",
    "vq = [p for p in itertools.product(x, repeat=4)] \n",
    "\n",
    "def obj(vq, C):\n",
    "    values = []\n",
    "    for q in range(len(vq)):\n",
    "        x1, x2, x3, y23 = [x//1 for x in vq[q]]\n",
    "        \n",
    "        values.append(5*x2 + 7*x1*x2 - 3*x1*y23 + C*(x2*x3 - 2*x2*y23 - 2*x3*y23 + 3*y23) )\n",
    "    return values"
   ]
  },
  {
   "cell_type": "code",
   "execution_count": 2,
   "metadata": {},
   "outputs": [
    {
     "data": {
      "text/plain": [
       "[1, 2, 3, 4, 5, 6]"
      ]
     },
     "execution_count": 2,
     "metadata": {},
     "output_type": "execute_result"
    }
   ],
   "source": [
    "C = [i for i in range(1, 7)]\n",
    "C    # Values of C at which obj is evaluated"
   ]
  },
  {
   "cell_type": "code",
   "execution_count": 3,
   "metadata": {},
   "outputs": [],
   "source": [
    "cols = []\n",
    "colnames = []\n",
    "\n",
    "for c in C:\n",
    "    cols.append(obj(vq, c))    # Calc the values\n",
    "    colnames.append(\"C = {}\".format(c))"
   ]
  },
  {
   "cell_type": "code",
   "execution_count": 4,
   "metadata": {},
   "outputs": [
    {
     "data": {
      "text/html": [
       "<style  type=\"text/css\" >\n",
       "</style><table id=\"T_33fb8312_0f16_11ec_ab49_51087e498020\" ><thead>    <tr>        <th class=\"col_heading level0 col0\" >$x_1$</th>        <th class=\"col_heading level0 col1\" >$x_2$</th>        <th class=\"col_heading level0 col2\" >$x_3$</th>        <th class=\"col_heading level0 col3\" >$y_{23}$</th>        <th class=\"col_heading level0 col4\" >C = 1</th>        <th class=\"col_heading level0 col5\" >C = 2</th>        <th class=\"col_heading level0 col6\" >C = 3</th>        <th class=\"col_heading level0 col7\" >C = 4</th>        <th class=\"col_heading level0 col8\" >C = 5</th>        <th class=\"col_heading level0 col9\" >C = 6</th>    </tr></thead><tbody>\n",
       "                <tr>\n",
       "                                <td id=\"T_33fb8312_0f16_11ec_ab49_51087e498020row0_col0\" class=\"data row0 col0\" >0</td>\n",
       "                        <td id=\"T_33fb8312_0f16_11ec_ab49_51087e498020row0_col1\" class=\"data row0 col1\" >0</td>\n",
       "                        <td id=\"T_33fb8312_0f16_11ec_ab49_51087e498020row0_col2\" class=\"data row0 col2\" >0</td>\n",
       "                        <td id=\"T_33fb8312_0f16_11ec_ab49_51087e498020row0_col3\" class=\"data row0 col3\" >0</td>\n",
       "                        <td id=\"T_33fb8312_0f16_11ec_ab49_51087e498020row0_col4\" class=\"data row0 col4\" >0</td>\n",
       "                        <td id=\"T_33fb8312_0f16_11ec_ab49_51087e498020row0_col5\" class=\"data row0 col5\" >0</td>\n",
       "                        <td id=\"T_33fb8312_0f16_11ec_ab49_51087e498020row0_col6\" class=\"data row0 col6\" >0</td>\n",
       "                        <td id=\"T_33fb8312_0f16_11ec_ab49_51087e498020row0_col7\" class=\"data row0 col7\" >0</td>\n",
       "                        <td id=\"T_33fb8312_0f16_11ec_ab49_51087e498020row0_col8\" class=\"data row0 col8\" >0</td>\n",
       "                        <td id=\"T_33fb8312_0f16_11ec_ab49_51087e498020row0_col9\" class=\"data row0 col9\" >0</td>\n",
       "            </tr>\n",
       "            <tr>\n",
       "                                <td id=\"T_33fb8312_0f16_11ec_ab49_51087e498020row1_col0\" class=\"data row1 col0\" >0</td>\n",
       "                        <td id=\"T_33fb8312_0f16_11ec_ab49_51087e498020row1_col1\" class=\"data row1 col1\" >0</td>\n",
       "                        <td id=\"T_33fb8312_0f16_11ec_ab49_51087e498020row1_col2\" class=\"data row1 col2\" >0</td>\n",
       "                        <td id=\"T_33fb8312_0f16_11ec_ab49_51087e498020row1_col3\" class=\"data row1 col3\" >1</td>\n",
       "                        <td id=\"T_33fb8312_0f16_11ec_ab49_51087e498020row1_col4\" class=\"data row1 col4\" >3</td>\n",
       "                        <td id=\"T_33fb8312_0f16_11ec_ab49_51087e498020row1_col5\" class=\"data row1 col5\" >6</td>\n",
       "                        <td id=\"T_33fb8312_0f16_11ec_ab49_51087e498020row1_col6\" class=\"data row1 col6\" >9</td>\n",
       "                        <td id=\"T_33fb8312_0f16_11ec_ab49_51087e498020row1_col7\" class=\"data row1 col7\" >12</td>\n",
       "                        <td id=\"T_33fb8312_0f16_11ec_ab49_51087e498020row1_col8\" class=\"data row1 col8\" >15</td>\n",
       "                        <td id=\"T_33fb8312_0f16_11ec_ab49_51087e498020row1_col9\" class=\"data row1 col9\" >18</td>\n",
       "            </tr>\n",
       "            <tr>\n",
       "                                <td id=\"T_33fb8312_0f16_11ec_ab49_51087e498020row2_col0\" class=\"data row2 col0\" >0</td>\n",
       "                        <td id=\"T_33fb8312_0f16_11ec_ab49_51087e498020row2_col1\" class=\"data row2 col1\" >0</td>\n",
       "                        <td id=\"T_33fb8312_0f16_11ec_ab49_51087e498020row2_col2\" class=\"data row2 col2\" >1</td>\n",
       "                        <td id=\"T_33fb8312_0f16_11ec_ab49_51087e498020row2_col3\" class=\"data row2 col3\" >0</td>\n",
       "                        <td id=\"T_33fb8312_0f16_11ec_ab49_51087e498020row2_col4\" class=\"data row2 col4\" >0</td>\n",
       "                        <td id=\"T_33fb8312_0f16_11ec_ab49_51087e498020row2_col5\" class=\"data row2 col5\" >0</td>\n",
       "                        <td id=\"T_33fb8312_0f16_11ec_ab49_51087e498020row2_col6\" class=\"data row2 col6\" >0</td>\n",
       "                        <td id=\"T_33fb8312_0f16_11ec_ab49_51087e498020row2_col7\" class=\"data row2 col7\" >0</td>\n",
       "                        <td id=\"T_33fb8312_0f16_11ec_ab49_51087e498020row2_col8\" class=\"data row2 col8\" >0</td>\n",
       "                        <td id=\"T_33fb8312_0f16_11ec_ab49_51087e498020row2_col9\" class=\"data row2 col9\" >0</td>\n",
       "            </tr>\n",
       "            <tr>\n",
       "                                <td id=\"T_33fb8312_0f16_11ec_ab49_51087e498020row3_col0\" class=\"data row3 col0\" >0</td>\n",
       "                        <td id=\"T_33fb8312_0f16_11ec_ab49_51087e498020row3_col1\" class=\"data row3 col1\" >0</td>\n",
       "                        <td id=\"T_33fb8312_0f16_11ec_ab49_51087e498020row3_col2\" class=\"data row3 col2\" >1</td>\n",
       "                        <td id=\"T_33fb8312_0f16_11ec_ab49_51087e498020row3_col3\" class=\"data row3 col3\" >1</td>\n",
       "                        <td id=\"T_33fb8312_0f16_11ec_ab49_51087e498020row3_col4\" class=\"data row3 col4\" >1</td>\n",
       "                        <td id=\"T_33fb8312_0f16_11ec_ab49_51087e498020row3_col5\" class=\"data row3 col5\" >2</td>\n",
       "                        <td id=\"T_33fb8312_0f16_11ec_ab49_51087e498020row3_col6\" class=\"data row3 col6\" >3</td>\n",
       "                        <td id=\"T_33fb8312_0f16_11ec_ab49_51087e498020row3_col7\" class=\"data row3 col7\" >4</td>\n",
       "                        <td id=\"T_33fb8312_0f16_11ec_ab49_51087e498020row3_col8\" class=\"data row3 col8\" >5</td>\n",
       "                        <td id=\"T_33fb8312_0f16_11ec_ab49_51087e498020row3_col9\" class=\"data row3 col9\" >6</td>\n",
       "            </tr>\n",
       "            <tr>\n",
       "                                <td id=\"T_33fb8312_0f16_11ec_ab49_51087e498020row4_col0\" class=\"data row4 col0\" >0</td>\n",
       "                        <td id=\"T_33fb8312_0f16_11ec_ab49_51087e498020row4_col1\" class=\"data row4 col1\" >1</td>\n",
       "                        <td id=\"T_33fb8312_0f16_11ec_ab49_51087e498020row4_col2\" class=\"data row4 col2\" >0</td>\n",
       "                        <td id=\"T_33fb8312_0f16_11ec_ab49_51087e498020row4_col3\" class=\"data row4 col3\" >0</td>\n",
       "                        <td id=\"T_33fb8312_0f16_11ec_ab49_51087e498020row4_col4\" class=\"data row4 col4\" >5</td>\n",
       "                        <td id=\"T_33fb8312_0f16_11ec_ab49_51087e498020row4_col5\" class=\"data row4 col5\" >5</td>\n",
       "                        <td id=\"T_33fb8312_0f16_11ec_ab49_51087e498020row4_col6\" class=\"data row4 col6\" >5</td>\n",
       "                        <td id=\"T_33fb8312_0f16_11ec_ab49_51087e498020row4_col7\" class=\"data row4 col7\" >5</td>\n",
       "                        <td id=\"T_33fb8312_0f16_11ec_ab49_51087e498020row4_col8\" class=\"data row4 col8\" >5</td>\n",
       "                        <td id=\"T_33fb8312_0f16_11ec_ab49_51087e498020row4_col9\" class=\"data row4 col9\" >5</td>\n",
       "            </tr>\n",
       "            <tr>\n",
       "                                <td id=\"T_33fb8312_0f16_11ec_ab49_51087e498020row5_col0\" class=\"data row5 col0\" >0</td>\n",
       "                        <td id=\"T_33fb8312_0f16_11ec_ab49_51087e498020row5_col1\" class=\"data row5 col1\" >1</td>\n",
       "                        <td id=\"T_33fb8312_0f16_11ec_ab49_51087e498020row5_col2\" class=\"data row5 col2\" >0</td>\n",
       "                        <td id=\"T_33fb8312_0f16_11ec_ab49_51087e498020row5_col3\" class=\"data row5 col3\" >1</td>\n",
       "                        <td id=\"T_33fb8312_0f16_11ec_ab49_51087e498020row5_col4\" class=\"data row5 col4\" >6</td>\n",
       "                        <td id=\"T_33fb8312_0f16_11ec_ab49_51087e498020row5_col5\" class=\"data row5 col5\" >7</td>\n",
       "                        <td id=\"T_33fb8312_0f16_11ec_ab49_51087e498020row5_col6\" class=\"data row5 col6\" >8</td>\n",
       "                        <td id=\"T_33fb8312_0f16_11ec_ab49_51087e498020row5_col7\" class=\"data row5 col7\" >9</td>\n",
       "                        <td id=\"T_33fb8312_0f16_11ec_ab49_51087e498020row5_col8\" class=\"data row5 col8\" >10</td>\n",
       "                        <td id=\"T_33fb8312_0f16_11ec_ab49_51087e498020row5_col9\" class=\"data row5 col9\" >11</td>\n",
       "            </tr>\n",
       "            <tr>\n",
       "                                <td id=\"T_33fb8312_0f16_11ec_ab49_51087e498020row6_col0\" class=\"data row6 col0\" >0</td>\n",
       "                        <td id=\"T_33fb8312_0f16_11ec_ab49_51087e498020row6_col1\" class=\"data row6 col1\" >1</td>\n",
       "                        <td id=\"T_33fb8312_0f16_11ec_ab49_51087e498020row6_col2\" class=\"data row6 col2\" >1</td>\n",
       "                        <td id=\"T_33fb8312_0f16_11ec_ab49_51087e498020row6_col3\" class=\"data row6 col3\" >0</td>\n",
       "                        <td id=\"T_33fb8312_0f16_11ec_ab49_51087e498020row6_col4\" class=\"data row6 col4\" >6</td>\n",
       "                        <td id=\"T_33fb8312_0f16_11ec_ab49_51087e498020row6_col5\" class=\"data row6 col5\" >7</td>\n",
       "                        <td id=\"T_33fb8312_0f16_11ec_ab49_51087e498020row6_col6\" class=\"data row6 col6\" >8</td>\n",
       "                        <td id=\"T_33fb8312_0f16_11ec_ab49_51087e498020row6_col7\" class=\"data row6 col7\" >9</td>\n",
       "                        <td id=\"T_33fb8312_0f16_11ec_ab49_51087e498020row6_col8\" class=\"data row6 col8\" >10</td>\n",
       "                        <td id=\"T_33fb8312_0f16_11ec_ab49_51087e498020row6_col9\" class=\"data row6 col9\" >11</td>\n",
       "            </tr>\n",
       "            <tr>\n",
       "                                <td id=\"T_33fb8312_0f16_11ec_ab49_51087e498020row7_col0\" class=\"data row7 col0\" >0</td>\n",
       "                        <td id=\"T_33fb8312_0f16_11ec_ab49_51087e498020row7_col1\" class=\"data row7 col1\" >1</td>\n",
       "                        <td id=\"T_33fb8312_0f16_11ec_ab49_51087e498020row7_col2\" class=\"data row7 col2\" >1</td>\n",
       "                        <td id=\"T_33fb8312_0f16_11ec_ab49_51087e498020row7_col3\" class=\"data row7 col3\" >1</td>\n",
       "                        <td id=\"T_33fb8312_0f16_11ec_ab49_51087e498020row7_col4\" class=\"data row7 col4\" >5</td>\n",
       "                        <td id=\"T_33fb8312_0f16_11ec_ab49_51087e498020row7_col5\" class=\"data row7 col5\" >5</td>\n",
       "                        <td id=\"T_33fb8312_0f16_11ec_ab49_51087e498020row7_col6\" class=\"data row7 col6\" >5</td>\n",
       "                        <td id=\"T_33fb8312_0f16_11ec_ab49_51087e498020row7_col7\" class=\"data row7 col7\" >5</td>\n",
       "                        <td id=\"T_33fb8312_0f16_11ec_ab49_51087e498020row7_col8\" class=\"data row7 col8\" >5</td>\n",
       "                        <td id=\"T_33fb8312_0f16_11ec_ab49_51087e498020row7_col9\" class=\"data row7 col9\" >5</td>\n",
       "            </tr>\n",
       "            <tr>\n",
       "                                <td id=\"T_33fb8312_0f16_11ec_ab49_51087e498020row8_col0\" class=\"data row8 col0\" >1</td>\n",
       "                        <td id=\"T_33fb8312_0f16_11ec_ab49_51087e498020row8_col1\" class=\"data row8 col1\" >0</td>\n",
       "                        <td id=\"T_33fb8312_0f16_11ec_ab49_51087e498020row8_col2\" class=\"data row8 col2\" >0</td>\n",
       "                        <td id=\"T_33fb8312_0f16_11ec_ab49_51087e498020row8_col3\" class=\"data row8 col3\" >0</td>\n",
       "                        <td id=\"T_33fb8312_0f16_11ec_ab49_51087e498020row8_col4\" class=\"data row8 col4\" >0</td>\n",
       "                        <td id=\"T_33fb8312_0f16_11ec_ab49_51087e498020row8_col5\" class=\"data row8 col5\" >0</td>\n",
       "                        <td id=\"T_33fb8312_0f16_11ec_ab49_51087e498020row8_col6\" class=\"data row8 col6\" >0</td>\n",
       "                        <td id=\"T_33fb8312_0f16_11ec_ab49_51087e498020row8_col7\" class=\"data row8 col7\" >0</td>\n",
       "                        <td id=\"T_33fb8312_0f16_11ec_ab49_51087e498020row8_col8\" class=\"data row8 col8\" >0</td>\n",
       "                        <td id=\"T_33fb8312_0f16_11ec_ab49_51087e498020row8_col9\" class=\"data row8 col9\" >0</td>\n",
       "            </tr>\n",
       "            <tr>\n",
       "                                <td id=\"T_33fb8312_0f16_11ec_ab49_51087e498020row9_col0\" class=\"data row9 col0\" >1</td>\n",
       "                        <td id=\"T_33fb8312_0f16_11ec_ab49_51087e498020row9_col1\" class=\"data row9 col1\" >0</td>\n",
       "                        <td id=\"T_33fb8312_0f16_11ec_ab49_51087e498020row9_col2\" class=\"data row9 col2\" >0</td>\n",
       "                        <td id=\"T_33fb8312_0f16_11ec_ab49_51087e498020row9_col3\" class=\"data row9 col3\" >1</td>\n",
       "                        <td id=\"T_33fb8312_0f16_11ec_ab49_51087e498020row9_col4\" class=\"data row9 col4\" >0</td>\n",
       "                        <td id=\"T_33fb8312_0f16_11ec_ab49_51087e498020row9_col5\" class=\"data row9 col5\" >3</td>\n",
       "                        <td id=\"T_33fb8312_0f16_11ec_ab49_51087e498020row9_col6\" class=\"data row9 col6\" >6</td>\n",
       "                        <td id=\"T_33fb8312_0f16_11ec_ab49_51087e498020row9_col7\" class=\"data row9 col7\" >9</td>\n",
       "                        <td id=\"T_33fb8312_0f16_11ec_ab49_51087e498020row9_col8\" class=\"data row9 col8\" >12</td>\n",
       "                        <td id=\"T_33fb8312_0f16_11ec_ab49_51087e498020row9_col9\" class=\"data row9 col9\" >15</td>\n",
       "            </tr>\n",
       "            <tr>\n",
       "                                <td id=\"T_33fb8312_0f16_11ec_ab49_51087e498020row10_col0\" class=\"data row10 col0\" >1</td>\n",
       "                        <td id=\"T_33fb8312_0f16_11ec_ab49_51087e498020row10_col1\" class=\"data row10 col1\" >0</td>\n",
       "                        <td id=\"T_33fb8312_0f16_11ec_ab49_51087e498020row10_col2\" class=\"data row10 col2\" >1</td>\n",
       "                        <td id=\"T_33fb8312_0f16_11ec_ab49_51087e498020row10_col3\" class=\"data row10 col3\" >0</td>\n",
       "                        <td id=\"T_33fb8312_0f16_11ec_ab49_51087e498020row10_col4\" class=\"data row10 col4\" >0</td>\n",
       "                        <td id=\"T_33fb8312_0f16_11ec_ab49_51087e498020row10_col5\" class=\"data row10 col5\" >0</td>\n",
       "                        <td id=\"T_33fb8312_0f16_11ec_ab49_51087e498020row10_col6\" class=\"data row10 col6\" >0</td>\n",
       "                        <td id=\"T_33fb8312_0f16_11ec_ab49_51087e498020row10_col7\" class=\"data row10 col7\" >0</td>\n",
       "                        <td id=\"T_33fb8312_0f16_11ec_ab49_51087e498020row10_col8\" class=\"data row10 col8\" >0</td>\n",
       "                        <td id=\"T_33fb8312_0f16_11ec_ab49_51087e498020row10_col9\" class=\"data row10 col9\" >0</td>\n",
       "            </tr>\n",
       "            <tr>\n",
       "                                <td id=\"T_33fb8312_0f16_11ec_ab49_51087e498020row11_col0\" class=\"data row11 col0\" >1</td>\n",
       "                        <td id=\"T_33fb8312_0f16_11ec_ab49_51087e498020row11_col1\" class=\"data row11 col1\" >0</td>\n",
       "                        <td id=\"T_33fb8312_0f16_11ec_ab49_51087e498020row11_col2\" class=\"data row11 col2\" >1</td>\n",
       "                        <td id=\"T_33fb8312_0f16_11ec_ab49_51087e498020row11_col3\" class=\"data row11 col3\" >1</td>\n",
       "                        <td id=\"T_33fb8312_0f16_11ec_ab49_51087e498020row11_col4\" class=\"data row11 col4\" >-2</td>\n",
       "                        <td id=\"T_33fb8312_0f16_11ec_ab49_51087e498020row11_col5\" class=\"data row11 col5\" >-1</td>\n",
       "                        <td id=\"T_33fb8312_0f16_11ec_ab49_51087e498020row11_col6\" class=\"data row11 col6\" >0</td>\n",
       "                        <td id=\"T_33fb8312_0f16_11ec_ab49_51087e498020row11_col7\" class=\"data row11 col7\" >1</td>\n",
       "                        <td id=\"T_33fb8312_0f16_11ec_ab49_51087e498020row11_col8\" class=\"data row11 col8\" >2</td>\n",
       "                        <td id=\"T_33fb8312_0f16_11ec_ab49_51087e498020row11_col9\" class=\"data row11 col9\" >3</td>\n",
       "            </tr>\n",
       "            <tr>\n",
       "                                <td id=\"T_33fb8312_0f16_11ec_ab49_51087e498020row12_col0\" class=\"data row12 col0\" >1</td>\n",
       "                        <td id=\"T_33fb8312_0f16_11ec_ab49_51087e498020row12_col1\" class=\"data row12 col1\" >1</td>\n",
       "                        <td id=\"T_33fb8312_0f16_11ec_ab49_51087e498020row12_col2\" class=\"data row12 col2\" >0</td>\n",
       "                        <td id=\"T_33fb8312_0f16_11ec_ab49_51087e498020row12_col3\" class=\"data row12 col3\" >0</td>\n",
       "                        <td id=\"T_33fb8312_0f16_11ec_ab49_51087e498020row12_col4\" class=\"data row12 col4\" >12</td>\n",
       "                        <td id=\"T_33fb8312_0f16_11ec_ab49_51087e498020row12_col5\" class=\"data row12 col5\" >12</td>\n",
       "                        <td id=\"T_33fb8312_0f16_11ec_ab49_51087e498020row12_col6\" class=\"data row12 col6\" >12</td>\n",
       "                        <td id=\"T_33fb8312_0f16_11ec_ab49_51087e498020row12_col7\" class=\"data row12 col7\" >12</td>\n",
       "                        <td id=\"T_33fb8312_0f16_11ec_ab49_51087e498020row12_col8\" class=\"data row12 col8\" >12</td>\n",
       "                        <td id=\"T_33fb8312_0f16_11ec_ab49_51087e498020row12_col9\" class=\"data row12 col9\" >12</td>\n",
       "            </tr>\n",
       "            <tr>\n",
       "                                <td id=\"T_33fb8312_0f16_11ec_ab49_51087e498020row13_col0\" class=\"data row13 col0\" >1</td>\n",
       "                        <td id=\"T_33fb8312_0f16_11ec_ab49_51087e498020row13_col1\" class=\"data row13 col1\" >1</td>\n",
       "                        <td id=\"T_33fb8312_0f16_11ec_ab49_51087e498020row13_col2\" class=\"data row13 col2\" >0</td>\n",
       "                        <td id=\"T_33fb8312_0f16_11ec_ab49_51087e498020row13_col3\" class=\"data row13 col3\" >1</td>\n",
       "                        <td id=\"T_33fb8312_0f16_11ec_ab49_51087e498020row13_col4\" class=\"data row13 col4\" >10</td>\n",
       "                        <td id=\"T_33fb8312_0f16_11ec_ab49_51087e498020row13_col5\" class=\"data row13 col5\" >11</td>\n",
       "                        <td id=\"T_33fb8312_0f16_11ec_ab49_51087e498020row13_col6\" class=\"data row13 col6\" >12</td>\n",
       "                        <td id=\"T_33fb8312_0f16_11ec_ab49_51087e498020row13_col7\" class=\"data row13 col7\" >13</td>\n",
       "                        <td id=\"T_33fb8312_0f16_11ec_ab49_51087e498020row13_col8\" class=\"data row13 col8\" >14</td>\n",
       "                        <td id=\"T_33fb8312_0f16_11ec_ab49_51087e498020row13_col9\" class=\"data row13 col9\" >15</td>\n",
       "            </tr>\n",
       "            <tr>\n",
       "                                <td id=\"T_33fb8312_0f16_11ec_ab49_51087e498020row14_col0\" class=\"data row14 col0\" >1</td>\n",
       "                        <td id=\"T_33fb8312_0f16_11ec_ab49_51087e498020row14_col1\" class=\"data row14 col1\" >1</td>\n",
       "                        <td id=\"T_33fb8312_0f16_11ec_ab49_51087e498020row14_col2\" class=\"data row14 col2\" >1</td>\n",
       "                        <td id=\"T_33fb8312_0f16_11ec_ab49_51087e498020row14_col3\" class=\"data row14 col3\" >0</td>\n",
       "                        <td id=\"T_33fb8312_0f16_11ec_ab49_51087e498020row14_col4\" class=\"data row14 col4\" >13</td>\n",
       "                        <td id=\"T_33fb8312_0f16_11ec_ab49_51087e498020row14_col5\" class=\"data row14 col5\" >14</td>\n",
       "                        <td id=\"T_33fb8312_0f16_11ec_ab49_51087e498020row14_col6\" class=\"data row14 col6\" >15</td>\n",
       "                        <td id=\"T_33fb8312_0f16_11ec_ab49_51087e498020row14_col7\" class=\"data row14 col7\" >16</td>\n",
       "                        <td id=\"T_33fb8312_0f16_11ec_ab49_51087e498020row14_col8\" class=\"data row14 col8\" >17</td>\n",
       "                        <td id=\"T_33fb8312_0f16_11ec_ab49_51087e498020row14_col9\" class=\"data row14 col9\" >18</td>\n",
       "            </tr>\n",
       "            <tr>\n",
       "                                <td id=\"T_33fb8312_0f16_11ec_ab49_51087e498020row15_col0\" class=\"data row15 col0\" >1</td>\n",
       "                        <td id=\"T_33fb8312_0f16_11ec_ab49_51087e498020row15_col1\" class=\"data row15 col1\" >1</td>\n",
       "                        <td id=\"T_33fb8312_0f16_11ec_ab49_51087e498020row15_col2\" class=\"data row15 col2\" >1</td>\n",
       "                        <td id=\"T_33fb8312_0f16_11ec_ab49_51087e498020row15_col3\" class=\"data row15 col3\" >1</td>\n",
       "                        <td id=\"T_33fb8312_0f16_11ec_ab49_51087e498020row15_col4\" class=\"data row15 col4\" >9</td>\n",
       "                        <td id=\"T_33fb8312_0f16_11ec_ab49_51087e498020row15_col5\" class=\"data row15 col5\" >9</td>\n",
       "                        <td id=\"T_33fb8312_0f16_11ec_ab49_51087e498020row15_col6\" class=\"data row15 col6\" >9</td>\n",
       "                        <td id=\"T_33fb8312_0f16_11ec_ab49_51087e498020row15_col7\" class=\"data row15 col7\" >9</td>\n",
       "                        <td id=\"T_33fb8312_0f16_11ec_ab49_51087e498020row15_col8\" class=\"data row15 col8\" >9</td>\n",
       "                        <td id=\"T_33fb8312_0f16_11ec_ab49_51087e498020row15_col9\" class=\"data row15 col9\" >9</td>\n",
       "            </tr>\n",
       "    </tbody></table>"
      ],
      "text/plain": [
       "<pandas.io.formats.style.Styler at 0x7f0dd4596250>"
      ]
     },
     "execution_count": 4,
     "metadata": {},
     "output_type": "execute_result"
    }
   ],
   "source": [
    "import pandas as pd\n",
    "\n",
    "df = pd.DataFrame(vq, columns =[r'$x_1$', r'$x_2$', r'$x_3$', r'$y_{23}$'])\n",
    "for i in range(len(C)):\n",
    "    df[colnames[i]] = cols[i]\n",
    "df.style.hide_index()"
   ]
  },
  {
   "cell_type": "markdown",
   "metadata": {},
   "source": [
    "It is observed that for values of $C$ less than $4$, we get a 'false positive', ie, the assignment $(1, 0, 1)$ returns the lowest energy configuration despite not satisfying the constraint $x_2x_3 = y_{23}$. It can easily be visualized that $C = 4$ is the correct penalty value satisfying the constraints."
   ]
  },
  {
   "cell_type": "markdown",
   "metadata": {},
   "source": [
    "---"
   ]
  },
  {
   "cell_type": "markdown",
   "metadata": {},
   "source": [
    "<a id=\"Task3\"></a>\n",
    "### Task 3"
   ]
  },
  {
   "cell_type": "markdown",
   "metadata": {},
   "source": [
    "The SAT problem in CNF notation is:\n",
    "$$(x_1 \\vee x_2 \\vee x_3) \\wedge (x_1 \\vee x_4 \\vee \\overline{x_3})$$\n",
    "\n",
    "Converting \n",
    "$$\\text{max}\\quad (x_1 + x_2 + x_3 -x_1x_2 - x_2x_3 - x_1x_3 +x_1x_2x_3) + (1 - x_3 + x_1x_3 + x_4x_3 - x_1x_3x_4) $$\n",
    "\n",
    "Substitute $y_{13}$ := $x_1 x_3$. The quadratic objective function becomes\n",
    "$$\\text{max}\\quad (1 + x_1 + x_2 -x_1x_2 - x_2x_3 + x_4x_3 - y_{13}x_4 + y_{13}x_2) - C (x_1x_3 - 2x_1y_{13} - 2x_3 y_{13} + 3y_{13} ) $$\n",
    "\n",
    "\n",
    "<!--Expressing this in the matrix formulation $$\\max \\quad 1 + {x^T Q x}$$\n",
    "\n",
    "$$\n",
    "Q = \\begin{bmatrix}\n",
    "        1   &  -1  &  -C  &  0 & 2C \\\\ \n",
    "        0   &  1  &  -1   &  0 & 1 \\\\ \n",
    "        0   &  0   &  0  &  1 & 2C \\\\ \n",
    "        0   &  0   &  0   &  0 & -1\\\\ \n",
    "        0   &  0   &  0   &  0 & -3C\n",
    "    \\end{bmatrix}\n",
    "$$\n",
    "\n",
    "Converting to the equivalent minimization problem,\n",
    "$$\\min \\quad -1 - {x^T Q x}$$\n",
    "-->\n",
    "\n"
   ]
  },
  {
   "cell_type": "markdown",
   "metadata": {},
   "source": [
    "**In Max 3-SAT problems, the value of the objective function indicates the number of satisfied clauses. In the above task, values 1 and 2 would represent one and two satisfied clauses respectively**.\n",
    "\n",
    "It can be verified that $X := (0, 1, 0, 1)$ with $y_{23} = 0$ and $X := (0, 1, 1, 0)$ with $y_{23} = 0$, would return the value of objective function to be 2 and 1 respectively."
   ]
  },
  {
   "cell_type": "markdown",
   "metadata": {},
   "source": [
    "---"
   ]
  },
  {
   "cell_type": "markdown",
   "metadata": {},
   "source": [
    " "
   ]
  }
 ],
 "metadata": {
  "kernelspec": {
   "display_name": "Python 3",
   "language": "python",
   "name": "python3"
  },
  "language_info": {
   "codemirror_mode": {
    "name": "ipython",
    "version": 3
   },
   "file_extension": ".py",
   "mimetype": "text/x-python",
   "name": "python",
   "nbconvert_exporter": "python",
   "pygments_lexer": "ipython3",
   "version": "3.7.6"
  }
 },
 "nbformat": 4,
 "nbformat_minor": 4
}
