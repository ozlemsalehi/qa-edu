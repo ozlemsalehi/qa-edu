{
 "cells": [
  {
   "cell_type": "markdown",
   "metadata": {},
   "source": [
    "<table width = \"100%\">\n",
    "  <tr style=\"background-color:white;\">\n",
    "    <!-- QWorld Logo -->\n",
    "    <td style=\"text-align:left;width:200px;\"> \n",
    "        <img src=\"../images/QWorld.png\"> </td>\n",
    "    <td style=\"text-align:right;vertical-align:bottom;font-size:16px;\"> \n",
    "        Prepared by <a href=\"https://gitlab.com/Sourabh499\" target=\"_blank\"> Sourabh Nutakki </a></td>\n",
    "    </tr> \n",
    " </table>\n",
    " \n",
    "<hr>"
   ]
  },
  {
   "cell_type": "markdown",
   "metadata": {},
   "source": [
    "# Combinatorial Optimization Problems"
   ]
  },
  {
   "cell_type": "markdown",
   "metadata": {},
   "source": [
    "Combinatorial Optimization is concerned with finding an optimal or close to optimal solution among a finite collection of possibilities. From a computer science perspective, combinatorial optimization seeks to improve an algorithm by using mathematical methods either to reduce the size of the set of possible solutions or to make the search itself faster. They are employed in the navigation system in cars, the software used to create timetables for high schools, decision support systems in production and logistic environments, determining the optimal way to deliver packages etc. since, in many such problems, exhaustive search is not tractable. Now we'll proceed with some examples of combinatorial optimization problems. "
   ]
  },
  {
   "cell_type": "markdown",
   "metadata": {},
   "source": [
    "## Travelling Salesman Problem"
   ]
  },
  {
   "cell_type": "markdown",
   "metadata": {},
   "source": [
    "Given a set of cities and distance between every pair of cities, the problem is to find the shortest possible route such that a salesman visits every city exactly once and returns to the starting point.\n",
    "\n",
    "<img src=\"../images/tsp1.png\" width=\"250\">\n",
    "\n",
    "A path through a graph that visits each vertex(city) exactly once is called a hamiltonian path or a hamiltonian cycle. \n",
    "\n",
    "<img src=\"../images/Hamiltonian_path.svg\" width=\"250\">\n",
    "\n",
    "This problem is an NP-complete problem. This means it doesn't have an efficient algorithm to find the optimal solution. But, here we discuss an approach that provides an approximate solution.\n",
    "### Naive Solution(Brute-Force Method)\n",
    "This approach calculates and compares all possible permutations of routes or paths to determine the shortest unique solution. The first step should be to calculate the total number of routes and then draw and list all the possible routes. Calculate the distance of each route and then choose the shortest one—this is the required solution. Even though this approach provides an exact solution instead of an approximate, it's not feasible to use this method for problems involving a large number of cities. \n",
    "\n",
    "### Task 1: \n",
    "Find the shortest possible route, for the given graph,covering all the cities and the route ending at the starting point, using the Naive Solution.\n",
    "\n",
    "<img src=\"../images/tsp2.png\" width=\"250\">\n",
    "\n",
    "### Solution\n",
    "[click for our solution](Combinatorial_Optimization_Problems_Solutions.ipynb#Task-1:)\n",
    "\n",
    "---"
   ]
  },
  {
   "cell_type": "markdown",
   "metadata": {},
   "source": [
    "## Graph Coloring Problem"
   ]
  },
  {
   "cell_type": "markdown",
   "metadata": {},
   "source": [
    "Graph Coloring is the procedure of assignment of colors to each vertex of a graph such that no adjacent vertices get the same color. The objective is to minimize the number of colors while coloring a graph. The smallest number of colors required to color a graph is called its chromatic number of that graph.\n",
    "\n",
    "<img src=\"../images/gc1.png\" width=\"250\">\n",
    "\n",
    "This problem is a NP-complete problem, hence, it doesn't have an optimal solution. But a heuristic technique to solve it is:\n",
    "\n",
    "Initially, name the vertices in some order. Then, choose the first vertex and color it with the first color. Then, choose the next vertex and color it with the lowest numbered color that has not been colored on any vertices adjacent to it. If all the adjacent vertices are colored with this color, assign a new color to it. Repeat this step until all the vertices are colored.\n",
    "### Example 1:\n",
    "Assign colors to each vertex of the given graph and give it's chromatic number. \n",
    "\n",
    "<img src=\"../images/gc2.png\" width=\"250\">\n",
    "\n",
    "### Solution\n",
    "We first name the vertices.\n",
    "\n",
    "<img src=\"../images/gc3.png\" width=\"250\">\n",
    "\n",
    "Let's start with vertex E. Assign the color blue to it. Then assign the color orange to vertex D. Then assign the color blue to vertex A, since it is used on a non-adjacent vertex. Similarly assign the color orange to vertex B. Then we assign the color green to vertex C, since the previously used colors are assigned to vertices adjacent to vertex C. Similarly, we assign the color red to vertex F. Therefore, the chromatic number is 4 and the resultant graph is, \n",
    "\n",
    "<img src=\"../images/gc4.png\" width=\"250\">\n",
    "\n",
    "### Task 2:\n",
    "Assign colors to each vertex of the given graph and give it's chromatic number. \n",
    "\n",
    "<img src=\"../images/gc5.png\" width=\"250\">\n",
    "\n",
    "### Solution\n",
    "[click for our solution](Combinatorial_Optimization_Problems_Solutions.ipynb#Task-2:)\n",
    "\n",
    "---"
   ]
  },
  {
   "cell_type": "markdown",
   "metadata": {},
   "source": [
    "## Max Cut"
   ]
  },
  {
   "cell_type": "markdown",
   "metadata": {},
   "source": [
    "Given a graph, the problem is to split the vertices into two disjoint groups so that there are as many edges as possible between the groups. The partition of two adjacent vertices into disjoint sets is called a cut. The aim of this problem is to find a cut in such a way that the cut covers the maximum number of edges. \n",
    "\n",
    "<img src=\"../images/max__cut_1.png\" width=\"250\">\n",
    "\n",
    "A Bipartite Graph is a graph whose vertices can be divided into two independent sets, U and V such that every edge (u, v) either connects a vertex from U to V or a vertex from V to U. We can also say that there is no edge that connects vertices of same set. Hence, in this case, since all of the adjacent vertices are in different sets, the bipartite graphs solution to the Max-Cut problem is simply the total number of edges. \n",
    "\n",
    "<img src=\"../images/bipartite_graph_1.jpg\" width=\"250\">\n",
    "\n",
    "For all other variations, the max cut problem is NP-hard, but a few simple variations can be solved by intuition. \n",
    "\n",
    "### Example 2: \n",
    "Find the maximum cut of the given graph.\n",
    "\n",
    "<img src=\"../images/bipartite_graph_2.png\" width=\"250\">\n",
    "\n",
    "### Solution\n",
    "In the given graph, we can assign the vertices A, B, C, E and F to an arbitary set U, and the vertex D to the set V. Therefore, set U = {A, B, C, E, F} and set V = {D}. Since, the two sets are disjoint(i.e. no common vertices) and there are no edges between two vertices of the same set, we can say this graph is bipartite. Hence, the maximum cut of the given graph is equal to the number of edges present in the graph, which is 5. The resulting graph will be, \n",
    "\n",
    "<img src=\"../images/bipartite_graph_3.png\" width=\"250\">\n",
    "\n",
    "### Task 3: \n",
    "In the given graph, the maximum cut is shown. Determine the number of edges it covers. \n",
    "\n",
    "<img src=\"../images/max_cut_2.png\" width=\"250\">\n",
    "\n",
    "### Solution\n",
    "[click for our solution](Combinatorial_Optimization_Problems_Solutions.ipynb#Task-3:)\n",
    "\n",
    "***"
   ]
  },
  {
   "cell_type": "markdown",
   "metadata": {},
   "source": [
    "## Note:\n",
    "All of the algorithms discussed in this notebook are either extremely inaccurate or inefficient when dealing with large graphs. Hence, we use QUBO Formulation to solve this issue. You will learn more about this in the next notebook. \n",
    "\n",
    "***"
   ]
  },
  {
   "cell_type": "markdown",
   "metadata": {},
   "source": [
    "## Alternate Approaches To The Travelling Salesman Problem (Optional)"
   ]
  },
  {
   "cell_type": "markdown",
   "metadata": {},
   "source": [
    "### The Nearest Neighbor Method\n",
    "This is logically, the simplest method. The key to this method is to always visit the nearest destination and then go back to the first city when all other cities are visited. The first step should be to choose a random city as the starting point. From here, move to the closest unvisited city. Repeat this until all the cities are visited. Finally, move back to the starting point. \n",
    "### Example 3:\n",
    "Find the shortest possible route, for the given graph,covering all the cities and the route ending at the starting point, using the Nearest Neighbour method.\n",
    "\n",
    "<img src=\"../images/tsp3.png\" width=\"250\">\n",
    "\n",
    "### Solution\n",
    "Let's choose A as the starting point. The closest city to it is B. Then we go to E, D and finally C. For the final step we go back to starting point, A. Hence, the solution is A$\\to$B$\\to$E$\\to$D$\\to$C.\n",
    "\n",
    "---"
   ]
  }
 ],
 "metadata": {
  "kernelspec": {
   "display_name": "Python 3",
   "language": "python",
   "name": "python3"
  },
  "language_info": {
   "codemirror_mode": {
    "name": "ipython",
    "version": 3
   },
   "file_extension": ".py",
   "mimetype": "text/x-python",
   "name": "python",
   "nbconvert_exporter": "python",
   "pygments_lexer": "ipython3",
   "version": "3.8.5"
  },
  "latex_envs": {
   "LaTeX_envs_menu_present": true,
   "autoclose": true,
   "autocomplete": true,
   "bibliofile": "biblio.bib",
   "cite_by": "apalike",
   "current_citInitial": 1,
   "eqLabelWithNumbers": true,
   "eqNumInitial": 1,
   "hotkeys": {
    "equation": "Ctrl-E",
    "itemize": "Ctrl-I"
   },
   "labels_anchors": false,
   "latex_user_defs": false,
   "report_style_numbering": false,
   "user_envs_cfg": false
  },
  "toc": {
   "base_numbering": 1,
   "nav_menu": {},
   "number_sections": true,
   "sideBar": true,
   "skip_h1_title": false,
   "title_cell": "Table of Contents",
   "title_sidebar": "Contents",
   "toc_cell": false,
   "toc_position": {},
   "toc_section_display": true,
   "toc_window_display": false
  }
 },
 "nbformat": 4,
 "nbformat_minor": 2
}
