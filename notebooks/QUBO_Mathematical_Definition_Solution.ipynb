{
 "cells": [
  {
   "cell_type": "markdown",
   "id": "716b5c5a",
   "metadata": {},
   "source": [
    "<table width = \"100%\">\n",
    "  <tr style=\"background-color:white;\">\n",
    "    <!-- QWorld Logo -->\n",
    "    <td style=\"text-align:left;width:200px;\"> \n",
    "        <a href=\"https://qworld.net/\" target=\"_blank\"><img src=\"../images/QWorld.png\"> </a></td>\n",
    "    <td style=\"text-align:right;vertical-align:bottom;font-size:16px;\"> \n",
    "        Prepared by <a href=\"https://gitlab.com/AkashNarayanan\" target=\"_blank\"> Akash Narayanan B </a></td>    \n",
    "</table>\n",
    "<hr>"
   ]
  },
  {
   "cell_type": "markdown",
   "id": "fbf48ba5",
   "metadata": {},
   "source": [
    "# Task 1\n",
    "\n",
    "Find out what assignment of $x_1$ and $x_2$ minimizes the objective function\n",
    "\n",
    "$$f(x_1, x_2) = 5x_1 + 7x_1 x_2 - 3x_2$$\n",
    "\n",
    "## Solution\n",
    "\n",
    "When we assign $x_1 = 0$ and $x_2 = 1$, the value of the given objective function turns out to be $-3$. This is the lowest possible value out of the four permutations.\n",
    "\n",
    "We can also calculate the value of the objective function analytically.\n",
    "\n",
    "## Analytical Solution\n",
    "\n",
    "- $x_1 = 0$ and $x_2 = 0$\n",
    "\n",
    "    $f(0, 0) = 5(0) + 7(0)(0) - 3(0) = 0$\n",
    "  \n",
    "\n",
    "- $x_1 = 0$ and $x_2 = 1$\n",
    "\n",
    "    $f(0, 1) = 5(0) + 7(0)(1) - 3(1) = -3$\n",
    "\n",
    "\n",
    "- $x_1 = 1$ and $x_2 = 0$\n",
    "    \n",
    "    $f(1, 0) = 5(1) + 7(1)(0) - 3(0) = 5$\n",
    "\n",
    "\n",
    "- $x_1 = 1$ and $x_2 = 1$\n",
    "\n",
    "    $f(1, 1) = 5(1) + 7(1)(1) - 3(1) = 9$\n",
    "    \n",
    "Therefore, assigning $x_1 = 0$ and $x_2 = 1$ minimizes the given objective function."
   ]
  },
  {
   "cell_type": "markdown",
   "id": "7b7b51e6",
   "metadata": {},
   "source": [
    "# Task 2\n",
    "\n",
    "Let us now consider an objective function with four binary decision variables. Find out what assignment of $x_1$, $x_2$, $x_3$ and $x_4$ minimizes the following objective function\n",
    "\n",
    "$$f(x_1, x_2, x_3, x_4) = - 5x_1 - 3x_2 - 8x_3 - 6x_4 + 4x_1 x_2 + 8x_1 x_3 + 2x_2 x_3 + 10x_3 x_4$$\n",
    "\n",
    "## Solution\n",
    "\n",
    "When we assign $x_1 = x_4 = 1$ and $x_2 = x_3 = 0$, the value of the objective function is $-11$. This is the lowest possible value out of the 16 possible permutations."
   ]
  },
  {
   "cell_type": "markdown",
   "id": "160e4ff7",
   "metadata": {},
   "source": [
    "# Task 3\n",
    "\n",
    "Let's repeat Task 1 this time using the matrix form. Find the vector $x$ that minimizes the following objective function\n",
    "\n",
    "$$f(x_1, x_2) = 5x_1 + 7x_1 x_2 - 3x_2$$\n",
    "\n",
    "## Solution\n",
    "\n",
    "There are two variables. So we have to compute a $2 \\times 2$ matrix.\n",
    "\n",
    "$$\n",
    "Q = \\begin{bmatrix}\n",
    "        5   &  7    \\\\ \n",
    "        0   &  -3   \\\\ \n",
    "    \\end{bmatrix}\n",
    "$$\n",
    "\n",
    "Defining $Q$ in terms of a NumPy array,\n",
    "\n",
    "```python\n",
    "Q = np.array([[ 5,  7],\n",
    "              [ 0, -3]])\n",
    "```\n",
    "\n",
    "The vector $(0, 1)$ minimizes the objective function to a value of $-3$."
   ]
  },
  {
   "cell_type": "markdown",
   "id": "38238eba",
   "metadata": {},
   "source": [
    "# Task 4\n",
    "\n",
    "Find the vector $x$ that maximizes the following objective function\n",
    "\n",
    "$$f(x_1, x_2, x_3, x_4) = x_1 + x_2 + x_3 + x_4 - 6x_1 x_3 - 6x_1 x_4 - 6x_3 x_4 - 6x_1 x_2$$\n",
    "\n",
    "## Solution\n",
    "\n",
    "We can maximize by minimizing the negative of the objective function. Multiplying the objective function by $-1$,\n",
    "\n",
    "$$f(x_1, x_2, x_3, x_4) = - x_1 - x_2 - x_3 - x_4 + 6x_1 x_3 + 6x_1 x_4 + 6x_3 x_4 + 6x_1 x_2$$\n",
    "\n",
    "There are four variables. We have to compute a $4 \\times 4$ matrix.\n",
    "\n",
    "$$\n",
    "Q = \\begin{bmatrix}\n",
    "        -1  &   6  &   6  &   6    \\\\ \n",
    "        0   &  -1  &   0  &   0 \\\\ \n",
    "        0   &   0  &  -1  &   6 \\\\ \n",
    "        0   &   0  &  0   &  -1  \\\\ \n",
    "    \\end{bmatrix}\n",
    "$$\n",
    "\n",
    "Defining $Q$ in terms of a NumPy array,\n",
    "\n",
    "```python\n",
    "Q = np.array([[ -1,  6,  6,  6],\n",
    "              [  0, -1,  0,  0],\n",
    "              [  0,  0, -1,  6],\n",
    "              [  0,  0,  0, -1]])\n",
    "```\n",
    "\n",
    "The vector $(0, 1, 1, 0)$ minimizes the negative of the objective function to a value of $-2$. Therefore this vector maximizes the given objective function."
   ]
  },
  {
   "cell_type": "markdown",
   "id": "6569097b",
   "metadata": {},
   "source": [
    "# Task 5 (Optional)\n",
    "\n",
    "In tasks 3 and 4, the function `qubo_solver()` has been used to compute the optimum vector $x$. Try to define your own version of that function! The function should take in the matrix $Q$ as an argument and return the optimum vector $x$ that minimizes the objective function.\n",
    "\n",
    "<div class=\"alert alert-block alert-info\">\n",
    "<h4> Hints: </h4>\n",
    "<ul>\n",
    "    <li><a href=\"https://docs.python.org/3/library/itertools.html#itertools.product\" target=\"_blank\"> <code>`itertools.product()`</code></a> can be used to compute all the possible permutations of vector $x$ </li>\n",
    "    <li> NumPy can be helpful for matrix multiplication </li>\n",
    "</ul>\n",
    "</div>\n",
    "\n",
    "\n",
    "## Solution\n",
    "\n"
   ]
  },
  {
   "cell_type": "code",
   "execution_count": 1,
   "id": "05fba6ef",
   "metadata": {
    "ExecuteTime": {
     "end_time": "2021-10-09T17:04:21.992117Z",
     "start_time": "2021-10-09T17:04:21.984539Z"
    }
   },
   "outputs": [],
   "source": [
    "def qubo_solver(Q_matrix):\n",
    "    possible_values = {}\n",
    "    # A list of all the possible permutations for x vector\n",
    "    vec_permutations = itertools.product([0, 1], repeat=Q_matrix.shape[0])    \n",
    "    \n",
    "    for permutation in vec_permutations:\n",
    "        x = np.array([[var] for var in permutation])         # Converts the permutation into a column vector\n",
    "        value = (x.T).dot(Q_matrix).dot(x)\n",
    "        possible_values[value[0][0]] = x                     # Adds the value and its vector to the dictionary\n",
    "         \n",
    "    min_value = min(possible_values.keys())                  # Lowest value of the objective function\n",
    "    opt_vector = tuple(possible_values[min_value].T[0])      # Optimum vector x that produces the lowest value\n",
    "     \n",
    "    return f\"The vector {opt_vector} minimizes the objective function to a value of {min_value}.\""
   ]
  }
 ],
 "metadata": {
  "kernelspec": {
   "display_name": "Python 3 (ipykernel)",
   "language": "python",
   "name": "python3"
  },
  "language_info": {
   "codemirror_mode": {
    "name": "ipython",
    "version": 3
   },
   "file_extension": ".py",
   "mimetype": "text/x-python",
   "name": "python",
   "nbconvert_exporter": "python",
   "pygments_lexer": "ipython3",
   "version": "3.9.7"
  },
  "latex_envs": {
   "LaTeX_envs_menu_present": true,
   "autoclose": true,
   "autocomplete": true,
   "bibliofile": "biblio.bib",
   "cite_by": "apalike",
   "current_citInitial": 1,
   "eqLabelWithNumbers": true,
   "eqNumInitial": 1,
   "hotkeys": {
    "equation": "Ctrl-E",
    "itemize": "Ctrl-I"
   },
   "labels_anchors": false,
   "latex_user_defs": false,
   "report_style_numbering": false,
   "user_envs_cfg": false
  },
  "toc": {
   "base_numbering": 1,
   "nav_menu": {},
   "number_sections": false,
   "sideBar": true,
   "skip_h1_title": false,
   "title_cell": "Table of Contents",
   "title_sidebar": "Contents",
   "toc_cell": false,
   "toc_position": {},
   "toc_section_display": true,
   "toc_window_display": false
  }
 },
 "nbformat": 4,
 "nbformat_minor": 5
}
