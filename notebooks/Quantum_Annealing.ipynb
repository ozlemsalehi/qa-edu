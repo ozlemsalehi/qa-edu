{
 "cells": [
  {
   "cell_type": "markdown",
   "id": "attempted-prerequisite",
   "metadata": {},
   "source": [
    "<table width = \"100%\">\n",
    "  <tr style=\"background-color:white;\">\n",
    "    <!-- QWorld Logo -->\n",
    "    <td style=\"text-align:left;width:200px;\"> \n",
    "        <a href=\"https://qworld.net/\" target=\"_blank\"><img src=\"../images/QWorld.png\"> </a></td>\n",
    "    <td style=\"text-align:right;vertical-align:bottom;font-size:16px;\"> \n",
    "        Prepared by <a href=\"https://www.cmpe.boun.edu.tr/~ozlem.salehi/\" target=\"_blank\"> Özlem Salehi </a> </td>\n",
    "    </tr> \n",
    " </table>\n",
    " \n",
    "<hr>"
   ]
  },
  {
   "cell_type": "markdown",
   "id": "blessed-purse",
   "metadata": {},
   "source": [
    "## Quantum Annealing"
   ]
  },
  {
   "cell_type": "markdown",
   "id": "flexible-crime",
   "metadata": {},
   "source": [
    "Quantum annealing (QA) is a heuristic method for solving optimization problems. It relies on the quantum adiabatic computation, which is an alternative to the gate based model. Unlike simulated annealing, it is a physical process, in which quantum fluctuations play the role of thermal fluctuations."
   ]
  },
  {
   "cell_type": "markdown",
   "id": "traditional-journey",
   "metadata": {},
   "source": [
    "<figure>\n",
    "    <img src='../images/qa.jpg'  width=\"350\" />\n",
    "</figure>"
   ]
  },
  {
   "cell_type": "markdown",
   "id": "elect-encoding",
   "metadata": {},
   "source": [
    "_Hamiltonian_ is the term used for describing the energies of any physical (classical) system. For many Hamiltonians, finding the lowest energy state is an NP-Hard problem, which is intractable for classical computers."
   ]
  },
  {
   "cell_type": "markdown",
   "id": "naughty-tracy",
   "metadata": {},
   "source": [
    "For quantum systems, Hamiltonian is defined only for certain states, which are called the _eigenstates_. The idea behing quantum annealing is to create a Hamiltonian, whose lowest energy state (_ground state_) encodes the solution to the optimization problem we want to solve. Although finding the lowest energy state might be NP-Hard, quantum adiabatic theorem offers a new approach for solving the problem."
   ]
  },
  {
   "cell_type": "markdown",
   "id": "contained-editing",
   "metadata": {},
   "source": [
    "Quantum adiabatic theorem guarantees that if a system is initially in ground state and evolves _slowly enough_ over the time, then it will be in ground state provided that the _spectral gap_ is always positive. Spectral gap is defined as the difference between the eigenvalues of the lowest energy state and the next lowest energy state (first excited state). "
   ]
  },
  {
   "cell_type": "markdown",
   "id": "paperback-cursor",
   "metadata": {},
   "source": [
    "Now consider the following Hamiltonian."
   ]
  },
  {
   "cell_type": "markdown",
   "id": "familiar-happening",
   "metadata": {},
   "source": [
    "$$H(t) = s(t) H_I + (1-s(t)) H_F$$"
   ]
  },
  {
   "cell_type": "markdown",
   "id": "abroad-corner",
   "metadata": {},
   "source": [
    "$H_I$ is the initial Hamiltonian and $H_F$ is the final Hamiltonian. $s(t)$ decreases from 1 to 0, so that at the end of the procedure we have $H(t) = H_F$. Hence if we start with a Hamiltonian whose ground state is easy to prepare and evolve the system according to the above rules, then the system will end up with the ground state of Hamiltonian $H_F$. This gives the idea of picking $H_F$ as the Hamiltonian whose ground state is the solution we are looking for. "
   ]
  },
  {
   "cell_type": "markdown",
   "id": "precious-sculpture",
   "metadata": {},
   "source": [
    "For the initial state we pick equal superpoisiton of $|0\\rangle$ and $|1\\rangle$ for each qubit. Then $H_I$ can be expressed as\n",
    "$$\n",
    "H_I = \\sum_{i=1}^n \\frac{1}{2}(1- \\sigma_i ^x)\n",
    "$$\n",
    "where $\\sigma_i ^x$ denotes the Pauli-x operator applied on qubit $i$."
   ]
  },
  {
   "cell_type": "code",
   "execution_count": null,
   "id": "twenty-outdoors",
   "metadata": {},
   "outputs": [],
   "source": []
  }
 ],
 "metadata": {
  "kernelspec": {
   "display_name": "Python 3",
   "language": "python",
   "name": "python3"
  },
  "language_info": {
   "codemirror_mode": {
    "name": "ipython",
    "version": 3
   },
   "file_extension": ".py",
   "mimetype": "text/x-python",
   "name": "python",
   "nbconvert_exporter": "python",
   "pygments_lexer": "ipython3",
   "version": "3.7.3"
  }
 },
 "nbformat": 4,
 "nbformat_minor": 5
}
