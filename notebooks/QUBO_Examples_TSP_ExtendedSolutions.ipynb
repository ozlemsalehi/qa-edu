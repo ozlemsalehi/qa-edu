{
 "cells": [
  {
   "cell_type": "markdown",
   "metadata": {},
   "source": [
    "<table width = \"100%\">\n",
    "  <tr style=\"background-color:white;\">\n",
    "    <!-- QWorld Logo -->\n",
    "    <td style=\"text-align:left;width:200px;\"> \n",
    "        <a href=\"https://qworld.net/\" target=\"_blank\"><img src=\"../images/QWorld.png\"> </a></td>\n",
    "    <td style=\"text-align:right;vertical-align:bottom;font-size:16px;\"> \n",
    "        Prepared by <a href=\"https://gitlab.com/sabahuddin.ahmad\" target=\"_blank\"> Sabah Ud Din Ahmad </a></td>\n",
    "    </tr> \n",
    " </table>\n",
    " \n",
    "<hr>"
   ]
  },
  {
   "cell_type": "markdown",
   "metadata": {},
   "source": [
    "## <font color=\"blue\"> Extended Solutions for </font> QUBO Examples - Travelling Salesman Problem"
   ]
  },
  {
   "cell_type": "markdown",
   "metadata": {},
   "source": [
    "<a id=\"task1\"></a>\n",
    "### Task 1\n",
    "\n",
    "Let's assume we have the following fully-connected, undirected graph of 4 nodes / cities and 6 edges, $G = (4,6)$. \n",
    "\n",
    "<img src=\"../images/tsp_1.png\" width=\"250\">\n",
    "\n",
    "Determine the matrix Q for this graph. (You may assume suitable values for A and B). "
   ]
  },
  {
   "cell_type": "markdown",
   "metadata": {},
   "source": [
    "<h3> Solution </h3>"
   ]
  },
  {
   "cell_type": "markdown",
   "metadata": {},
   "source": [
    "Since the objective function to be minimizied (including penalties) is, \n",
    "\n",
    "$$C(x) = A\\sum_{(i,j) \\in E} w_{ij} \\sum_{p=1}^{N} x_{i,p} x_{j,p+1} + B\\sum_{p=1}^{N} \\left(1-\\sum_{i=1}^{N}x_{i,p}\\right)^2 + B\\sum_{i=1}^{N} \\left(1-\\sum_{p=1}^{N}x_{i,p}\\right)^2 + B\\sum_{(i,j) \\notin E} \\sum_{p=1}^{N} x_{i,p} x_{j,p+1}$$\n",
    "\n",
    "Let $A=1$ and $B=40$, under the condition $0<A\\max (w_{ij})<B$ since $\\max (w_{ij})=29$. (We won't substitute B for now).\n",
    "\n",
    "Moreover, we must drop the last term as the graph is fully connected. So, with these simplifications, \n",
    "\n",
    "$$C(x) = \\sum_{(i,j) \\in E} w_{ij} \\sum_{p=1}^{4} x_{i,p} x_{j,p+1} + B\\sum_{p=1}^{4} \\left(1-\\sum_{i=1}^{4}x_{i,p}\\right)^2 + B\\sum_{i=1}^{4} \\left(1-\\sum_{p=1}^{4}x_{i,p}\\right)^2$$"
   ]
  },
  {
   "cell_type": "markdown",
   "metadata": {},
   "source": [
    "$$C(x) = \\sum_{(i,j) \\in E} w_{ij} (x_{i1}x_{j2} + x_{i2}x_{j3} + x_{i3}x_{j4} + x_{i4}x_{j5}) + B\\sum_{p=1}^{4} \\left(1 - (x_{1p}+x_{2p}+x_{3p}+x_{4p})\\right)^2 + B\\sum_{i=1}^{4} \\left(1-(x_{i1}+x_{i2}+x_{i3}+x_{i4})\\right)^2$$\n",
    "\n",
    "$$C(x) = w_{12} (x_{11}x_{22} + x_{12}x_{23} + x_{13}x_{24} + x_{14}x_{25})+w_{13} (x_{11}x_{32} + x_{12}x_{33} + x_{13}x_{34} + x_{14}x_{35})+w_{14} (x_{11}x_{42} + x_{12}x_{43} + x_{13}x_{44} + x_{14}x_{45})+w_{21} (x_{21}x_{12} + x_{22}x_{13} + x_{23}x_{14} + x_{24}x_{15})+w_{23} (x_{21}x_{32} + x_{22}x_{33} + x_{23}x_{34} + x_{24}x_{35})+w_{24} (x_{21}x_{42} + x_{22}x_{43} + x_{23}x_{44} + x_{24}x_{45})+w_{31} (x_{31}x_{12} + x_{32}x_{13} + x_{33}x_{14} + x_{34}x_{15})+w_{32} (x_{31}x_{22} + x_{32}x_{23} + x_{33}x_{24} + x_{34}x_{25})+w_{34} (x_{31}x_{42} + x_{32}x_{43} + x_{33}x_{44} + x_{34}x_{45})+w_{41} (x_{41}x_{12} + x_{42}x_{13} + x_{43}x_{14} + x_{44}x_{15})+w_{42} (x_{41}x_{22} + x_{42}x_{23} + x_{43}x_{24} + x_{44}x_{25})+w_{43} (x_{41}x_{32} + x_{42}x_{33} + x_{43}x_{34} + x_{44}x_{35})+ B\\left[\\left(1 - (x_{11}+x_{21}+x_{31}+x_{41})\\right)^2+\\left(1 - (x_{12}+x_{22}+x_{32}+x_{42})\\right)^2+\\left(1 - (x_{13}+x_{23}+x_{33}+x_{43})\\right)^2+\\left(1 - (x_{14}+x_{24}+x_{34}+x_{44})\\right)^2\\right]+ B\\left[\\left(1 - (x_{11}+x_{12}+x_{13}+x_{14})\\right)^2+\\left(1 - (x_{21}+x_{22}+x_{23}+x_{24})\\right)^2+\\left(1 - (x_{31}+x_{32}+x_{33}+x_{34})\\right)^2+\\left(1 - (x_{41}+x_{42}+x_{43}+x_{44})\\right)^2\\right]$$"
   ]
  },
  {
   "cell_type": "markdown",
   "metadata": {},
   "source": [
    "$$C(x) = w_{12} (x_{11}x_{22} + x_{12}x_{23} + x_{13}x_{24} + x_{14}x_{25})+w_{13} (x_{11}x_{32} + x_{12}x_{33} + x_{13}x_{34} + x_{14}x_{35})+w_{14} (x_{11}x_{42} + x_{12}x_{43} + x_{13}x_{44} + x_{14}x_{45})+w_{21} (x_{21}x_{12} + x_{22}x_{13} + x_{23}x_{14} + x_{24}x_{15})+w_{23} (x_{21}x_{32} + x_{22}x_{33} + x_{23}x_{34} + x_{24}x_{35})+w_{24} (x_{21}x_{42} + x_{22}x_{43} + x_{23}x_{44} + x_{24}x_{45})+w_{31} (x_{31}x_{12} + x_{32}x_{13} + x_{33}x_{14} + x_{34}x_{15})+w_{32} (x_{31}x_{22} + x_{32}x_{23} + x_{33}x_{24} + x_{34}x_{25})+w_{34} (x_{31}x_{42} + x_{32}x_{43} + x_{33}x_{44} + x_{34}x_{45})+w_{41} (x_{41}x_{12} + x_{42}x_{13} + x_{43}x_{14} + x_{44}x_{15})+w_{42} (x_{41}x_{22} + x_{42}x_{23} + x_{43}x_{24} + x_{44}x_{25})+w_{43} (x_{41}x_{32} + x_{42}x_{33} + x_{43}x_{34} + x_{44}x_{35})+ B\\left[1 - 2(x_{11}+x_{21}+x_{31}+x_{41})+(x_{11}+x_{21}+x_{31}+x_{41})^2+1 - 2(x_{12}+x_{22}+x_{32}+x_{42})+(x_{12}+x_{22}+x_{32}+x_{42})^2+1 -2(x_{13}+x_{23}+x_{33}+x_{43})+ (x_{13}+x_{23}+x_{33}+x_{43})^2+1 -2(x_{14}+x_{24}+x_{34}+x_{44})+ (x_{14}+x_{24}+x_{34}+x_{44})^2\\right]+ B\\left[1 - 2(x_{11}+x_{12}+x_{13}+x_{14})+(x_{11}+x_{12}+x_{13}+x_{14})^2+1 - 2(x_{21}+x_{22}+x_{23}+x_{24})+(x_{21}+x_{22}+x_{23}+x_{24})^2+1 - 2(x_{31}+x_{32}+x_{33}+x_{34})+(x_{31}+x_{32}+x_{33}+x_{34})^2+1 -2(x_{41}+x_{42}+x_{43}+x_{44})+ (x_{41}+x_{42}+x_{43}+x_{44})^2\\right]$$"
   ]
  },
  {
   "cell_type": "markdown",
   "metadata": {},
   "source": [
    "$$C(x) = w_{12} (x_{11}x_{22} + x_{12}x_{23} + x_{13}x_{24} + x_{14}x_{25})+w_{13} (x_{11}x_{32} + x_{12}x_{33} + x_{13}x_{34} + x_{14}x_{35})+w_{14} (x_{11}x_{42} + x_{12}x_{43} + x_{13}x_{44} + x_{14}x_{45})+w_{21} (x_{21}x_{12} + x_{22}x_{13} + x_{23}x_{14} + x_{24}x_{15})+w_{23} (x_{21}x_{32} + x_{22}x_{33} + x_{23}x_{34} + x_{24}x_{35})+w_{24} (x_{21}x_{42} + x_{22}x_{43} + x_{23}x_{44} + x_{24}x_{45})+w_{31} (x_{31}x_{12} + x_{32}x_{13} + x_{33}x_{14} + x_{34}x_{15})+w_{32} (x_{31}x_{22} + x_{32}x_{23} + x_{33}x_{24} + x_{34}x_{25})+w_{34} (x_{31}x_{42} + x_{32}x_{43} + x_{33}x_{44} + x_{34}x_{45})+w_{41} (x_{41}x_{12} + x_{42}x_{13} + x_{43}x_{14} + x_{44}x_{15})+w_{42} (x_{41}x_{22} + x_{42}x_{23} + x_{43}x_{24} + x_{44}x_{25})+w_{43} (x_{41}x_{32} + x_{42}x_{33} + x_{43}x_{34} + x_{44}x_{35})+ B\\left[8 \n",
    "-2(x_{11}+x_{21}+x_{31}+x_{41})+(x_{11}+x_{21}+x_{31}+x_{41})^2 \n",
    "-2(x_{12}+x_{22}+x_{32}+x_{42})+(x_{12}+x_{22}+x_{32}+x_{42})^2 \n",
    "-2(x_{13}+x_{23}+x_{33}+x_{43})+(x_{13}+x_{23}+x_{33}+x_{43})^2\n",
    "-2(x_{14}+x_{24}+x_{34}+x_{44})+(x_{14}+x_{24}+x_{34}+x_{44})^2 \n",
    "-2(x_{11}+x_{12}+x_{13}+x_{14})+(x_{11}+x_{12}+x_{13}+x_{14})^2\n",
    "-2(x_{21}+x_{22}+x_{23}+x_{24})+(x_{21}+x_{22}+x_{23}+x_{24})^2 \n",
    "-2(x_{31}+x_{32}+x_{33}+x_{34})+(x_{31}+x_{32}+x_{33}+x_{34})^2\n",
    "-2(x_{41}+x_{42}+x_{43}+x_{44})+(x_{41}+x_{42}+x_{43}+x_{44})^2\\right]$$"
   ]
  },
  {
   "cell_type": "markdown",
   "metadata": {},
   "source": [
    "Using the identity,\n",
    "\n",
    "$$(a+b+c+d)^2 = a^2+b^2+c^2+d^2+2ab+2ac+2ad+2bc+2bd+2cd$$"
   ]
  },
  {
   "cell_type": "markdown",
   "metadata": {},
   "source": [
    "$$C(x) = w_{12} (x_{11}x_{22} + x_{12}x_{23} + x_{13}x_{24} + x_{14}x_{25})\n",
    "+w_{13} (x_{11}x_{32} + x_{12}x_{33} + x_{13}x_{34} + x_{14}x_{35})\n",
    "+w_{14} (x_{11}x_{42} + x_{12}x_{43} + x_{13}x_{44} + x_{14}x_{45})\n",
    "+w_{21} (x_{21}x_{12} + x_{22}x_{13} + x_{23}x_{14} + x_{24}x_{15})\n",
    "+w_{23} (x_{21}x_{32} + x_{22}x_{33} + x_{23}x_{34} + x_{24}x_{35})\n",
    "+w_{24} (x_{21}x_{42} + x_{22}x_{43} + x_{23}x_{44} + x_{24}x_{45})\n",
    "+w_{31} (x_{31}x_{12} + x_{32}x_{13} + x_{33}x_{14} + x_{34}x_{15})\n",
    "+w_{32} (x_{31}x_{22} + x_{32}x_{23} + x_{33}x_{24} + x_{34}x_{25})\n",
    "+w_{34} (x_{31}x_{42} + x_{32}x_{43} + x_{33}x_{44} + x_{34}x_{45})\n",
    "+w_{41} (x_{41}x_{12} + x_{42}x_{13} + x_{43}x_{14} + x_{44}x_{15})\n",
    "+w_{42} (x_{41}x_{22} + x_{42}x_{23} + x_{43}x_{24} + x_{44}x_{25})\n",
    "+w_{43} (x_{41}x_{32} + x_{42}x_{33} + x_{43}x_{34} + x_{44}x_{35})+ B\\left[8 \n",
    "-2(x_{11}+x_{21}+x_{31}+x_{41})\n",
    "+x_{11}^2+x_{21}^2+x_{31}^2+x_{41}^2+2x_{11}x_{21}+2x_{11}x_{31}+2x_{11}x_{41}+2x_{21}x_{31}+2x_{21}x_{41}+2x_{31}x_{41} \n",
    "-2(x_{12}+x_{22}+x_{32}+x_{42})\n",
    "+x_{12}^2+x_{22}^2+x_{32}^2+x_{42}^2+2x_{12}x_{22}+2x_{12}x_{32}+2x_{12}x_{42}+2x_{22}x_{32}+2x_{22}x_{42}+2x_{32}x_{42} \n",
    "-2(x_{13}+x_{23}+x_{33}+x_{43})\n",
    "+x_{13}^2+x_{23}^2+x_{33}^2+x_{43}^2+2x_{13}x_{23}+2x_{13}x_{33}+2x_{13}x_{43}+2x_{23}x_{33}+2x_{23}x_{43}+2x_{33}x_{43}\n",
    "-2(x_{14}+x_{24}+x_{34}+x_{44})\n",
    "+x_{14}^2+x_{24}^2+x_{34}^2+x_{44}^2+2x_{14}x_{24}+2x_{14}x_{34}+2x_{14}x_{44}+2x_{24}x_{34}+2x_{24}x_{44}+2x_{34}x_{44}\n",
    "-2(x_{11}+x_{12}+x_{13}+x_{14})\n",
    "+x_{11}^2+x_{12}^2+x_{13}^2+x_{14}^2+2x_{11}x_{12}+2x_{11}x_{13}+2x_{11}x_{14}+2x_{12}x_{13}+2x_{12}x_{14}+2x_{13}x_{14}\n",
    "-2(x_{21}+x_{22}+x_{23}+x_{24})\n",
    "+x_{21}^2+x_{22}^2+x_{23}^2+x_{24}^2+2x_{21}x_{22}+2x_{21}x_{23}+2x_{21}x_{24}+2x_{22}x_{23}+2x_{22}x_{24}+2x_{23}x_{24}\n",
    "-2(x_{31}+x_{32}+x_{33}+x_{34})\n",
    "+x_{31}^2+x_{32}^2+x_{33}^2+x_{34}^2+2x_{31}x_{32}+2x_{31}x_{33}+2x_{31}x_{34}+2x_{32}x_{33}+2x_{32}x_{34}+2x_{33}x_{34}\n",
    "-2(x_{41}+x_{42}+x_{43}+x_{44})\n",
    "+x_{41}^2+x_{42}^2+x_{43}^2+x_{44}^2+2x_{41}x_{42}+2x_{41}x_{43}+2x_{41}x_{44}+2x_{42}x_{43}+2x_{42}x_{44}+2x_{43}x_{44}\\right]$$"
   ]
  },
  {
   "cell_type": "markdown",
   "metadata": {},
   "source": [
    "For ease of notation, let's update our variables using single subscript:\n",
    "\n",
    "$$(x_{11}, x_{12}, x_{13}, x_{14}, x_{15}, x_{21}, x_{22}, x_{23}, x_{24}, x_{25}, x_{31}, x_{32}, x_{33}, x_{34}, x_{35}, x_{41}, x_{42}, x_{43}, x_{44}, x_{45}) = (x_1, x_2, x_3, x_4, x_5, x_6, x_7,......x_{18}, x_{19}, x_{20})$$"
   ]
  },
  {
   "cell_type": "markdown",
   "metadata": {},
   "source": [
    "$$C(x) = w_{12} (x_{1}x_{7} + x_{2}x_{8} + x_{3}x_{9} + x_{4}x_{10})\n",
    "+w_{13} (x_{1}x_{12} + x_{2}x_{13} + x_{3}x_{14} + x_{4}x_{15})\n",
    "+w_{14} (x_{1}x_{17} + x_{2}x_{18} + x_{3}x_{19} + x_{4}x_{20})\n",
    "+w_{21} (x_{6}x_{2} + x_{7}x_{3} + x_{8}x_{4} + x_{9}x_{5})\n",
    "+w_{23} (x_{6}x_{12} + x_{7}x_{13} + x_{8}x_{14} + x_{9}x_{15})\n",
    "+w_{24} (x_{6}x_{17} + x_{7}x_{18} + x_{8}x_{19} + x_{9}x_{20})\n",
    "+w_{31} (x_{11}x_{2} + x_{12}x_{3} + x_{13}x_{4} + x_{14}x_{5})\n",
    "+w_{32} (x_{11}x_{7} + x_{12}x_{8} + x_{13}x_{9} + x_{14}x_{10})\n",
    "+w_{34} (x_{11}x_{17} + x_{12}x_{18} + x_{13}x_{19} + x_{14}x_{20})\n",
    "+w_{41} (x_{16}x_{2} + x_{17}x_{3} + x_{18}x_{4} + x_{19}x_{5})\n",
    "+w_{42} (x_{16}x_{7} + x_{17}x_{8} + x_{18}x_{9} + x_{19}x_{10})\n",
    "+w_{43} (x_{16}x_{12} + x_{17}x_{13} + x_{18}x_{14} + x_{19}x_{15})+ B\\left[8 \n",
    "-2(x_{1}+x_{6}+x_{11}+x_{16})\n",
    "+x_{1}^2+x_{6}^2+x_{11}^2+x_{16}^2+2x_{1}x_{6}+2x_{1}x_{11}+2x_{1}x_{16}+2x_{6}x_{11}+2x_{6}x_{16}+2x_{11}x_{16} \n",
    "-2(x_{2}+x_{7}+x_{12}+x_{17})\n",
    "+x_{2}^2+x_{7}^2+x_{12}^2+x_{17}^2+2x_{2}x_{7}+2x_{2}x_{12}+2x_{2}x_{17}+2x_{7}x_{12}+2x_{7}x_{17}+2x_{12}x_{17} \n",
    "-2(x_{3}+x_{8}+x_{13}+x_{18})\n",
    "+x_{3}^2+x_{8}^2+x_{13}^2+x_{18}^2+2x_{3}x_{8}+2x_{3}x_{13}+2x_{3}x_{18}+2x_{8}x_{13}+2x_{8}x_{18}+2x_{13}x_{18}\n",
    "-2(x_{4}+x_{9}+x_{14}+x_{19})\n",
    "+x_{4}^2+x_{9}^2+x_{14}^2+x_{19}^2+2x_{4}x_{9}+2x_{4}x_{14}+2x_{4}x_{19}+2x_{9}x_{14}+2x_{9}x_{19}+2x_{14}x_{19}\n",
    "-2(x_{1}+x_{2}+x_{3}+x_{4})\n",
    "+x_{1}^2+x_{2}^2+x_{3}^2+x_{4}^2+2x_{1}x_{2}+2x_{1}x_{3}+2x_{1}x_{4}+2x_{2}x_{3}+2x_{2}x_{4}+2x_{3}x_{4}\n",
    "-2(x_{6}+x_{7}+x_{8}+x_{9})\n",
    "+x_{6}^2+x_{7}^2+x_{8}^2+x_{9}^2+2x_{6}x_{7}+2x_{6}x_{8}+2x_{6}x_{9}+2x_{7}x_{8}+2x_{7}x_{9}+2x_{8}x_{9}\n",
    "-2(x_{11}+x_{12}+x_{13}+x_{14})\n",
    "+x_{11}^2+x_{12}^2+x_{13}^2+x_{14}^2+2x_{11}x_{12}+2x_{11}x_{13}+2x_{11}x_{14}+2x_{12}x_{13}+2x_{12}x_{14}+2x_{13}x_{14}\n",
    "-2(x_{16}+x_{17}+x_{18}+x_{19})\n",
    "+x_{16}^2+x_{17}^2+x_{18}^2+x_{19}^2+2x_{16}x_{17}+2x_{16}x_{18}+2x_{16}x_{19}+2x_{17}x_{18}+2x_{17}x_{19}+2x_{18}x_{19}\\right]$$"
   ]
  },
  {
   "cell_type": "markdown",
   "metadata": {},
   "source": [
    "Since QUBO doesn't have squared binary variables as its 0 and 1 values remain unchanged when squared, so we can replace any term $x_i^2$ with $x_i$, and vice versa (this doesnt apply to products $x_i x_j$).\n",
    "\n",
    "We will ignore the constant $8B$ while constructing the matrix.\n",
    "\n",
    "This takes the desired form:\n",
    "\n",
    "$$\\min_{x \\in {0,1}^n} x^T Q x$$\n",
    "\n",
    "where:\n",
    "\n",
    "$$x^T = \\begin{pmatrix}\n",
    "x_1 & x_2 & x_3 & x_4 & x_5 & x_6 & x_7 & x_8 & x_9 & x_{10} & x_{11} & x_{12} & x_{13} & x_{14} & x_{15} & x_{16} & x_{17} & x_{18} & x_{19} & x_{20} \n",
    "\\end{pmatrix}$$\n",
    "\n",
    "and the upper diagonal matrix Q is:\n",
    "\n",
    "$$Q = \\begin{pmatrix}\n",
    "-2B & 2B & 2B & 2B & 0 & 2B & w_{12} & 0 & 0 & 0 & 2B & w_{13} & 0 & 0 & 0 & 2B & w_{14} & 0 & 0 & 0\\\\\n",
    "0 & -2B & 2B & 2B & 0 & w_{21} & 2B & w_{12} & 0 & 0 & w_{31} & 2B & w_{13} & 0 & 0 & w_{41} & 2B & w_{14} & 0 & 0\\\\\n",
    "0 & 0 & -2B & 2B & 0 & 0 & w_{21} & 2B & w_{12} & 0 & 0 & w_{31} & 2B & w_{13} & 0 & 0 & w_{41} & 2B & w_{14} & 0\\\\\n",
    "0 & 0 & 0 & -2B & 0 & 0 & 0 & w_{21} & 2B & w_{12} & 0 & 0 & w_{31} & 2B & w_{13} & 0 & 0 & w_{41} & 2B & w_{14}\\\\\n",
    "0 & 0 & 0 & 0 & 0 & 0 & 0 & 0 & w_{21} & 0 & 0 & 0 & 0 & w_{31} & 0 & 0 & 0 & 0 & w_{41} & 0\\\\\n",
    "0 & 0 & 0 & 0 & 0 & -2B & 2B & 2B & 2B & 0 & 2B & w_{23} & 0 & 0 & 0 & 2B & w_{24} & 0 & 0 & 0\\\\\n",
    "0 & 0 & 0 & 0 & 0 & 0 & -2B & 2B & 2B & 0 & w_{32} & 2B & w_{23} & 0 & 0 & w_{42} & 2B & w_{24} & 0 & 0\\\\\n",
    "0 & 0 & 0 & 0 & 0 & 0 & 0 & -2B & 2B & 0 & 0 & w_{32} & 2B & w_{23} & 0 & 0 & w_{42} & 2B & w_{24} & 0\\\\\n",
    "0 & 0 & 0 & 0 & 0 & 0 & 0 & 0 & -2B & 0 & 0 & 0 & w_{32} & 2B & w_{23} & 0 & 0 & w_{42} & 2B & w_{24}\\\\\n",
    "0 & 0 & 0 & 0 & 0 & 0 & 0 & 0 & 0 & 0 & 0 & 0 & 0 & w_{32} & 0 & 0 & 0 & 0 & w_{42} & 0\\\\\n",
    "0 & 0 & 0 & 0 & 0 & 0 & 0 & 0 & 0 & 0 & -2B & 2B & 2B & 2B & 0 & 2B & w_{34} & 0 & 0 & 0\\\\\n",
    "0 & 0 & 0 & 0 & 0 & 0 & 0 & 0 & 0 & 0 & 0 & -2B & 2B & 2B & 0 & w_{43} & 2B & w_{34} & 0 & 0\\\\\n",
    "0 & 0 & 0 & 0 & 0 & 0 & 0 & 0 & 0 & 0 & 0 & 0 & -2B & 2B & 0 & 0 & w_{43} & 2B & w_{34} & 0\\\\\n",
    "0 & 0 & 0 & 0 & 0 & 0 & 0 & 0 & 0 & 0 & 0 & 0 & 0 & -2B & 0 & 0 & 0 & w_{43} & 2B & w_{34}\\\\\n",
    "0 & 0 & 0 & 0 & 0 & 0 & 0 & 0 & 0 & 0 & 0 & 0 & 0 & 0 & 0 & 0 & 0 & 0 & w_{43} & 0\\\\\n",
    "0 & 0 & 0 & 0 & 0 & 0 & 0 & 0 & 0 & 0 & 0 & 0 & 0 & 0 & 0 & -2B & 2B & 2B & 2B & 0\\\\\n",
    "0 & 0 & 0 & 0 & 0 & 0 & 0 & 0 & 0 & 0 & 0 & 0 & 0 & 0 & 0 & 0 & -2B & 2B & 2B & 0\\\\\n",
    "0 & 0 & 0 & 0 & 0 & 0 & 0 & 0 & 0 & 0 & 0 & 0 & 0 & 0 & 0 & 0 & 0 & -2B & 2B & 0\\\\\n",
    "0 & 0 & 0 & 0 & 0 & 0 & 0 & 0 & 0 & 0 & 0 & 0 & 0 & 0 & 0 & 0 & 0 & 0 & -2B & 0\\\\\n",
    "0 & 0 & 0 & 0 & 0 & 0 & 0 & 0 & 0 & 0 & 0 & 0 & 0 & 0 & 0 & 0 & 0 & 0 & 0 & 0\\\\\n",
    "\\end{pmatrix}$$\n",
    "\n",
    "where $B=40, w_{12}=w_{21}=12, w_{13}=w_{31}=14, w_{14}=w_{41}=17, w_{23}=w_{32}=15, w_{24}=w_{42}=18, w_{34}=w_{43}=29$."
   ]
  },
  {
   "cell_type": "markdown",
   "metadata": {},
   "source": [
    "*** \n",
    "\n",
    "<a id=\"addtask1\"></a>\n",
    "### Additional Task 1\n",
    "\n",
    "Input matrix Q calculated in Task 1 to the function *qubo_solver()* and determine $x$ which minimizes $x^T Qx$ and the corresponding minimum value."
   ]
  },
  {
   "cell_type": "markdown",
   "metadata": {},
   "source": [
    "<h3> Solution </h3>"
   ]
  },
  {
   "cell_type": "code",
   "execution_count": 2,
   "metadata": {},
   "outputs": [
    {
     "data": {
      "text/plain": [
       "'The vector (0, 1, 0, 0, 0, 0, 0, 1, 0, 0, 1, 0, 0, 0, 0, 0, 0, 0, 1, 1) minimizes the objective function to a value of -276.'"
      ]
     },
     "execution_count": 2,
     "metadata": {},
     "output_type": "execute_result"
    }
   ],
   "source": [
    "# Access the qubo_solver() function\n",
    "%run qubo_functions.py\n",
    "\n",
    "# Define the Q matrix\n",
    "\n",
    "B=40\n",
    "w_12=12\n",
    "w_21=12\n",
    "w_13=14\n",
    "w_31=14\n",
    "w_14=17\n",
    "w_41=17\n",
    "w_23=15\n",
    "w_32=15\n",
    "w_24=18\n",
    "w_42=18\n",
    "w_34=29\n",
    "w_43=29\n",
    "\n",
    "Q=np.array([[-2*B,  2*B,  2*B,  2*B, 0,  2*B, w_12,    0,    0,    0,  2*B, w_13,    0,    0,    0,  2*B, w_14,    0,    0,    0],\n",
    "            [   0, -2*B,  2*B,  2*B, 0, w_21,  2*B, w_12,    0,    0, w_31,  2*B, w_13,    0,    0, w_41,  2*B, w_14,    0,    0],\n",
    "            [   0,    0, -2*B,  2*B, 0,    0, w_21,  2*B, w_12,    0,    0, w_31,  2*B, w_13,    0,    0, w_41,  2*B, w_14,    0],\n",
    "            [   0,    0,    0, -2*B, 0,    0,    0, w_21,  2*B, w_12,    0,    0, w_31,  2*B, w_13,    0,    0, w_41,  2*B, w_14],\n",
    "            [   0,    0,    0,    0, 0,    0,    0,    0, w_21,    0,    0,    0,    0, w_31,    0,    0,    0,    0, w_41,    0],\n",
    "            [   0,    0,    0,    0, 0, -2*B,  2*B,  2*B,  2*B,    0,  2*B, w_23,    0,    0,    0,  2*B, w_24,    0,    0,    0],\n",
    "            [   0,    0,    0,    0, 0,    0, -2*B,  2*B,  2*B,    0, w_32,  2*B, w_23,    0,    0, w_42,  2*B, w_24,    0,    0],\n",
    "            [   0,    0,    0,    0, 0,    0,    0, -2*B,  2*B,    0,    0, w_32,  2*B, w_23,    0,    0, w_42,  2*B, w_24,    0],\n",
    "            [   0,    0,    0,    0, 0,    0,    0,    0, -2*B,    0,    0,    0, w_32,  2*B, w_23,    0,    0, w_42,  2*B, w_24],\n",
    "            [   0,    0,    0,    0, 0,    0,    0,    0,    0,    0,    0,    0,    0, w_32,    0,    0,    0,    0, w_42,    0],\n",
    "            [   0,    0,    0,    0, 0,    0,    0,    0,    0,    0, -2*B,  2*B,  2*B,  2*B,    0,  2*B, w_34,    0,    0,    0],\n",
    "            [   0,    0,    0,    0, 0,    0,    0,    0,    0,    0,    0, -2*B,  2*B,  2*B,    0, w_43,  2*B, w_34,    0,    0],\n",
    "            [   0,    0,    0,    0, 0,    0,    0,    0,    0,    0,    0,    0, -2*B,  2*B,    0,    0, w_43,  2*B, w_34,    0],\n",
    "            [   0,    0,    0,    0, 0,    0,    0,    0,    0,    0,    0,    0,    0, -2*B,    0,    0,    0, w_43,  2*B, w_34],\n",
    "            [   0,    0,    0,    0, 0,    0,    0,    0,    0,    0,    0,    0,    0,    0,    0,    0,    0,    0, w_43,    0],\n",
    "            [   0,    0,    0,    0, 0,    0,    0,    0,    0,    0,    0,    0,    0,    0,    0, -2*B,  2*B,  2*B,  2*B,    0],\n",
    "            [   0,    0,    0,    0, 0,    0,    0,    0,    0,    0,    0,    0,    0,    0,    0,    0, -2*B,  2*B,  2*B,    0],\n",
    "            [   0,    0,    0,    0, 0,    0,    0,    0,    0,    0,    0,    0,    0,    0,    0,    0,    0, -2*B,  2*B,    0],\n",
    "            [   0,    0,    0,    0, 0,    0,    0,    0,    0,    0,    0,    0,    0,    0,    0,    0,    0,    0, -2*B,    0],\n",
    "            [   0,    0,    0,    0, 0,    0,    0,    0,    0,    0,    0,    0,    0,    0,    0,    0,    0,    0,    0,    0]])\n",
    "\n",
    "\n",
    "# Pass the matrix as an argument to the function\n",
    "qubo_solver(Q)"
   ]
  },
  {
   "cell_type": "markdown",
   "metadata": {},
   "source": [
    "The result in the original notation of variables is $x_{12}=x_{23}=x_{31}=x_{44}=x_{45}=1$. \n",
    "\n",
    "This means that the salesman travels on the following route: $3 \\to 1 \\to 2 \\to 4 \\to 4$. "
   ]
  },
  {
   "cell_type": "markdown",
   "metadata": {},
   "source": [
    "<a id=\"addtask2\"></a>\n",
    "### Additional Task 2\n",
    "\n",
    "Using the QUBO algebraic expression and testing all possibilities of $x$, verify your result for Additional Task 1. \n",
    "\n",
    "(You may use a Python code for this task)."
   ]
  },
  {
   "cell_type": "markdown",
   "metadata": {},
   "source": [
    "<h3> Solution </h3>"
   ]
  },
  {
   "cell_type": "code",
   "execution_count": 3,
   "metadata": {},
   "outputs": [
    {
     "name": "stdout",
     "output_type": "stream",
     "text": [
      "---\n",
      "The vector x = (0, 0, 0, 1, 0, 1, 0, 0, 0, 0, 0, 0, 0, 1, 0, 0, 1, 0, 0, 0) minimizes the objective function to a value of -302\n"
     ]
    }
   ],
   "source": [
    "#Create a function to evaluate the value of objective function for each x.\n",
    "\n",
    "def tsp_task_3(x):\n",
    "    #INSERT YOUR CODE HERE!\n",
    "    \n",
    "    x1 = x[0]\n",
    "    x2 = x[1]\n",
    "    x3 = x[2]\n",
    "    x4 = x[3]\n",
    "    x5 = x[4]\n",
    "    x6 = x[5]\n",
    "    x7 = x[6]\n",
    "    x8 = x[7]\n",
    "    x9 = x[8]\n",
    "    x10 = x[9]\n",
    "    x11 = x[10]\n",
    "    x12 = x[11]\n",
    "    x13 = x[12]\n",
    "    x14 = x[13]\n",
    "    x15 = x[14]\n",
    "    x16 = x[15]\n",
    "    x17 = x[16]\n",
    "    x18 = x[17]\n",
    "    x19 = x[18]\n",
    "    x20 = x[19]\n",
    "    \n",
    "    B=40\n",
    "    w_12=12\n",
    "    w_21=12\n",
    "    w_13=14\n",
    "    w_31=14\n",
    "    w_14=17\n",
    "    w_41=17\n",
    "    w_23=15\n",
    "    w_32=15\n",
    "    w_24=18\n",
    "    w_42=18\n",
    "    w_34=29\n",
    "    w_43=29\n",
    "    \n",
    "    y = w_12*(x1*x7 + x2*x8 + x3*x9 + x4*x10)+w_13*(x1*x12 + x2*x13 + x3*x14 + x4*x15)+w_14*(x1*x17 + x2*x18 + x3*x19 + x4*x20)+w_21*(x6*x2 + x7*x3 + x8*x4 + x9*x5)+w_23*(x6*x12 + x7*x13 + x8*x14 + x9*x15)+w_24*(x6*x17 + x7*x18 + x8*x19 + x9*x20)+w_31*(x11*x2 + x12*x3 + x13*x4 + x14*x5)+w_32*(x11*x7 + x12*x8 + x13*x9 + x14*x10)+w_34*(x11*x17 + x12*x18 + x13*x19 + x14*x20)+w_41*(x16*x2 + x17*x3 + x18*x4 + x19*x5)+w_42*(x16*x7 + x17*x8 + x18*x9 + x19*x10)+w_43*(x16*x12 + x17*x13 + x18*x14 + x19*x15)+ B*(-2*(x1+x6+x11+x16)+(x1)**2+(x6)**2+(x11)**2+(x16)**2+2*x1*x6+2*x1*x11+2*x1*x16+2*x6*x11+2*x6*x16+2*x11*x16-2*(x2+x7+x12+x17)+(x2)**2+(x7)**2+(x12)**2+(x17)**2+2*x2*x7+2*x2*x12+2*x2*x17+2*x7*x12+2*x7*x17+2*x12*x17-2*(x3+x8+x13+x18)+(x3)**2+(x8)**2+(x13)**2+(x18)**2+2*x3*x8+2*x3*x13+2*x3*x18+2*x8*x13+2*x8*x18+2*x13*x18-2*(x4+x9+x14+x19)+(x4)**2+(x9)**2+(x14)**2+(x19)**2+2*x4*x9*+2*x4*x14+2*x4*x19+2*x9*x14+2*x9*x19+2*x14*x19-2*(x1+x2+x3+x4)+(x1)**2+(x2)**2+(x3)**2+(x4)**2+2*x1*x2+2*x1*x3+2*x1*x4+2*x2*x3+2*x2*x4+2*x3*x4-2*(x6+x7+x8+x9)+(x6)**2+(x7)**2+(x8)**2+(x9)**2+2*x6*x7+2*x6*x8+2*x6*x9+2*x7*x8+2*x7*x9+2*x8*x9-2*(x11+x12+x13+x14)+(x11)**2+(x12)**2+(x13)**2+(x14)**2+2*x11*x12+2*x11*x13+2*x11*x14+2*x12*x13+2*x12*x14+2*x13*x14-2*(x16+x17+x18+x19)+(x16)**2+(x17)**2+(x18)**2+(x19)**2+2*x16*x17+2*x16*x18+2*x16*x19+2*x17*x18+2*x17*x19+2*x18*x19)\n",
    "    \n",
    "    return y\n",
    "\n",
    "#Minimize the function for all possibilites of x.\n",
    "#The following code generates the possile permutations of x and calculates the value of the objectve funtion for each.\n",
    "import numpy as np\n",
    "import itertools\n",
    "possible_values = {}\n",
    "vec_permutations = itertools.product([0,1], repeat=20)    # A list of all the possible permutations for x vector\n",
    "for permutation in vec_permutations:\n",
    "    x = np.array([[var] for var in permutation])         # Converts the permutation into a column vector\n",
    "    value = tsp_task_3(x)\n",
    "    possible_values[value[0]] = x\n",
    "    vector = tuple(x.T[0])\n",
    "    # print(\"Vector x =\", vector, \"; Value =\",int(value))  # Displays every vector with its corresponding value\n",
    "    \n",
    "min_value = min(possible_values.keys())                  # Lowest value of the objective function\n",
    "opt_vector = tuple(possible_values[min_value].T[0])      # Optimum x corresponding to lowest value\n",
    "print(\"---\")\n",
    "print(\"The vector x =\", opt_vector, \"minimizes the objective function to a value of\", int(min_value)) "
   ]
  },
  {
   "cell_type": "markdown",
   "metadata": {},
   "source": [
    "The result in the original notation of variables is $x_{14}=x_{21}=x_{34}=x_{42}=1$. \n",
    "\n",
    "This means that the salesman travels on the following route: $2 \\to 4 \\to $. "
   ]
  },
  {
   "cell_type": "markdown",
   "metadata": {},
   "source": [
    "(The results aren't matching. Need to sort this out before finalizing)."
   ]
  }
 ],
 "metadata": {
  "kernelspec": {
   "display_name": "Python 3",
   "language": "python",
   "name": "python3"
  },
  "language_info": {
   "codemirror_mode": {
    "name": "ipython",
    "version": 3
   },
   "file_extension": ".py",
   "mimetype": "text/x-python",
   "name": "python",
   "nbconvert_exporter": "python",
   "pygments_lexer": "ipython3",
   "version": "3.8.3"
  },
  "latex_envs": {
   "LaTeX_envs_menu_present": true,
   "autoclose": true,
   "autocomplete": true,
   "bibliofile": "biblio.bib",
   "cite_by": "apalike",
   "current_citInitial": 1,
   "eqLabelWithNumbers": true,
   "eqNumInitial": 1,
   "hotkeys": {
    "equation": "Ctrl-E",
    "itemize": "Ctrl-I"
   },
   "labels_anchors": false,
   "latex_user_defs": false,
   "report_style_numbering": false,
   "user_envs_cfg": false
  },
  "toc": {
   "base_numbering": 1,
   "nav_menu": {},
   "number_sections": true,
   "sideBar": true,
   "skip_h1_title": false,
   "title_cell": "Table of Contents",
   "title_sidebar": "Contents",
   "toc_cell": false,
   "toc_position": {},
   "toc_section_display": true,
   "toc_window_display": false
  }
 },
 "nbformat": 4,
 "nbformat_minor": 5
}
