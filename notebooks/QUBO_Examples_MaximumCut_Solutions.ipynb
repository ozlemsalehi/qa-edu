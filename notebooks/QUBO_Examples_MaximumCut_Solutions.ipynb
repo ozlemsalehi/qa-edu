{
 "cells": [
  {
   "cell_type": "markdown",
   "metadata": {},
   "source": [
    "<table width = \"100%\">\n",
    "  <tr style=\"background-color:white;\">\n",
    "    <!-- QWorld Logo -->\n",
    "    <td style=\"text-align:left;width:200px;\"> \n",
    "        <a href=\"https://qworld.net/\" target=\"_blank\"><img src=\"../images/QWorld.png\"> </a></td>\n",
    "    <td style=\"text-align:right;vertical-align:bottom;font-size:16px;\"> \n",
    "        Prepared by <a href=\"https://gitlab.com/sabahuddin.ahmad\" target=\"_blank\"> Sabah Ud Din Ahmad </a></td>\n",
    "    </tr> \n",
    " </table>\n",
    " \n",
    "<hr>"
   ]
  },
  {
   "cell_type": "markdown",
   "metadata": {},
   "source": [
    "## <font color=\"blue\"> Solutions for </font> QUBO Examples - Maximum Cut"
   ]
  },
  {
   "cell_type": "markdown",
   "metadata": {},
   "source": [
    "<a id=\"task1\"></a>\n",
    "### Task 1\n",
    "\n",
    "Verify that the expression $x_i+x_j-2x_ix_j$ gives correct values of edge_count in the table. \n",
    "\n",
    "\n",
    "|$x_i$ |$x_j$|edge_count$(x_i,x_j)$|Comment|\n",
    "|:-----|:----:|:----:|:----:|\n",
    "|0 |0 |0 |Vertices are in the same group|\n",
    "|0 |1 |1 |Vertices are in different groups|\n",
    "|1 |0 |1 |Vertices are in different groups|\n",
    "|1 |1 |0 |Vertices are in the same group|"
   ]
  },
  {
   "cell_type": "markdown",
   "metadata": {},
   "source": [
    "<h3> Solution </h3>"
   ]
  },
  {
   "cell_type": "markdown",
   "metadata": {},
   "source": [
    "$x_i$ and $x_j$ are binary variables and their value can be either 0 or 1. \n",
    "\n",
    "Inserting values in the expression $x_i+x_j-2x_ix_j$,\n",
    "* For $x_i = 0$ and $x_j = 0$, Answer $=(0)+(0)-2(0)(0)=0$\n",
    "* For $x_i = 0$ and $x_j = 1$, Answer $=(0)+(1)-2(0)(1)=1$\n",
    "* For $x_i = 1$ and $x_j = 0$, Answer $=(1)+(0)-2(1)(0)=1$\n",
    "* For $x_i = 1$ and $x_j = 1$, Answer $=(1)+(1)-2(1)(1)=0$\n",
    "\n",
    "**So, results of the expression $x_i+x_j-2x_ix_j$ match those of edge_count$(x_i,x_j)$.**"
   ]
  },
  {
   "cell_type": "markdown",
   "metadata": {},
   "source": [
    "<a id=\"task2\"></a>\n",
    "### Task 2\n",
    "\n",
    "For our graph in Example 1, we have some possible cuts as shown below: \n",
    "\n",
    "<img src=\"../images/max-cut5.png\">\n",
    "\n",
    "Identify $x$ and the edge-cut size for each cut. Then, evaluate the value of the objective function with the identified $x$ using QUBO matrix formulation."
   ]
  },
  {
   "cell_type": "markdown",
   "metadata": {},
   "source": [
    "<h3> Solution </h3>"
   ]
  },
  {
   "cell_type": "markdown",
   "metadata": {},
   "source": [
    "<img src=\"../images/max-cut4.png\">\n",
    "\n",
    "**Note:** The following are equivalent:\n",
    "* $x=(0,1,1,1,1)$ and $x=(1,0,0,0,0)$.\n",
    "* $x=(1,1,1,0,1)$ and $x=(0,0,0,1,0)$.\n",
    "* $x=(1,1,0,0,1)$ and $x=(0,0,1,1,0)$.\n",
    "* $x=(0,1,1,0,0)$ and $x=(1,0,0,1,1)$.\n",
    "\n",
    "The ony difference is in terms of interpretation of the groups."
   ]
  },
  {
   "cell_type": "markdown",
   "metadata": {},
   "source": [
    "For $x=(0,1,1,1,1)$ and an **edge-cut size = 2**, using matrix multiplication,  \n",
    "\n",
    "$$x^T Q x = \n",
    "\\begin{pmatrix}\n",
    "0 & 1 & 1 & 1 & 1\n",
    "\\end{pmatrix}\n",
    "\\begin{pmatrix}\n",
    "-2 & 2 & 2 & 0 & 0\\\\\n",
    "0 & -2 & 0 & 2 & 0\\\\\n",
    "0 & 0 & -3 & 2 & 2\\\\\n",
    "0 & 0 & 0 & -3 & 2\\\\\n",
    "0 & 0 & 0 & 0 & -2\n",
    "\\end{pmatrix}\n",
    "\\begin{pmatrix}\n",
    "0\\\\\n",
    "1\\\\\n",
    "1\\\\\n",
    "1\\\\\n",
    "1\n",
    "\\end{pmatrix}\n",
    "=-2$$\n",
    "\n",
    "For $x=(1,1,1,0,1)$ and an **edge-cut size = 3**, using matrix multiplication,  \n",
    "\n",
    "$$x^T Q x = \n",
    "\\begin{pmatrix}\n",
    "1 & 1 & 1 & 0 & 1\n",
    "\\end{pmatrix}\n",
    "\\begin{pmatrix}\n",
    "-2 & 2 & 2 & 0 & 0\\\\\n",
    "0 & -2 & 0 & 2 & 0\\\\\n",
    "0 & 0 & -3 & 2 & 2\\\\\n",
    "0 & 0 & 0 & -3 & 2\\\\\n",
    "0 & 0 & 0 & 0 & -2\n",
    "\\end{pmatrix}\n",
    "\\begin{pmatrix}\n",
    "1\\\\\n",
    "1\\\\\n",
    "1\\\\\n",
    "0\\\\\n",
    "1\n",
    "\\end{pmatrix}\n",
    "=-3$$\n",
    "\n",
    "For $x=(1,1,0,0,1)$ and an **edge-cut size = 4**, using matrix multiplication,  \n",
    "\n",
    "$$x^T Q x = \n",
    "\\begin{pmatrix}\n",
    "1 & 1 & 0 & 0 & 1\n",
    "\\end{pmatrix}\n",
    "\\begin{pmatrix}\n",
    "-2 & 2 & 2 & 0 & 0\\\\\n",
    "0 & -2 & 0 & 2 & 0\\\\\n",
    "0 & 0 & -3 & 2 & 2\\\\\n",
    "0 & 0 & 0 & -3 & 2\\\\\n",
    "0 & 0 & 0 & 0 & -2\n",
    "\\end{pmatrix}\n",
    "\\begin{pmatrix}\n",
    "1\\\\\n",
    "1\\\\\n",
    "0\\\\\n",
    "0\\\\\n",
    "1\n",
    "\\end{pmatrix}\n",
    "=-4$$\n",
    "\n",
    "For $x=(0,1,1,0,0)$ and an **edge-cut size = 5**, using matrix multiplication,  \n",
    "\n",
    "$$x^T Q x = \n",
    "\\begin{pmatrix}\n",
    "0 & 1 & 1 & 0 & 0\n",
    "\\end{pmatrix}\n",
    "\\begin{pmatrix}\n",
    "-2 & 2 & 2 & 0 & 0\\\\\n",
    "0 & -2 & 0 & 2 & 0\\\\\n",
    "0 & 0 & -3 & 2 & 2\\\\\n",
    "0 & 0 & 0 & -3 & 2\\\\\n",
    "0 & 0 & 0 & 0 & -2\n",
    "\\end{pmatrix}\n",
    "\\begin{pmatrix}\n",
    "0\\\\\n",
    "1\\\\\n",
    "1\\\\\n",
    "0\\\\\n",
    "0\n",
    "\\end{pmatrix}\n",
    "=-5$$"
   ]
  },
  {
   "cell_type": "markdown",
   "metadata": {},
   "source": [
    "<a id=\"task3\"></a>\n",
    "### Task 3\n",
    "\n",
    "Input matrix Q calculated in Example 1 to the function *qubo_solver()* and determine $x$ which minimizes $x^T Qx$ and the corresponding minimum value.\n",
    "\n",
    "$$Q = \\begin{pmatrix}\n",
    "-2 & 2 & 2 & 0 & 0\\\\\n",
    "0 & -2 & 0 & 2 & 0\\\\\n",
    "0 & 0 & -3 & 2 & 2\\\\\n",
    "0 & 0 & 0 & -3 & 2\\\\\n",
    "0 & 0 & 0 & 0 & -2\n",
    "\\end{pmatrix}$$ "
   ]
  },
  {
   "cell_type": "markdown",
   "metadata": {},
   "source": [
    "<h3> Solution </h3>"
   ]
  },
  {
   "cell_type": "code",
   "execution_count": 45,
   "metadata": {},
   "outputs": [
    {
     "data": {
      "text/plain": [
       "'The vector (1, 0, 0, 1, 1) minimizes the objective function to a value of -5.'"
      ]
     },
     "execution_count": 45,
     "metadata": {},
     "output_type": "execute_result"
    }
   ],
   "source": [
    "#Access the qubo_solver() function\n",
    "%run qubo_functions.py\n",
    "\n",
    "# Define the Q matrix\n",
    "Q = np.array([[ -2,  2,  2,  0,  0],\n",
    "              [  0, -2,  0,  2,  0],\n",
    "              [  0,  0, -3,  2,  2],\n",
    "              [  0,  0,  0, -3,  2],\n",
    "              [  0,  0,  0,  0, -2]])\n",
    "\n",
    "\n",
    "# Pass the matrix as an argument to the function\n",
    "qubo_solver(Q)"
   ]
  },
  {
   "cell_type": "markdown",
   "metadata": {},
   "source": [
    "<a id=\"task4\"></a>\n",
    "### Task 4\n",
    "\n",
    "Using the QUBO algebraic expression and testing all possibilities of $x$ for the possible cuts, verify that the QUBO model in Example 1 has a minima at $x=(1,0,0,1,1)$ with a maximum edge-cut size of 5. \n",
    "\n",
    "(You may use a Python code for this task)."
   ]
  },
  {
   "cell_type": "markdown",
   "metadata": {},
   "source": [
    "<h3> Solution </h3>"
   ]
  },
  {
   "cell_type": "code",
   "execution_count": 54,
   "metadata": {},
   "outputs": [
    {
     "name": "stdout",
     "output_type": "stream",
     "text": [
      "---\n",
      "The vector x = (1, 0, 0, 1, 1) minimizes the objective function to a value of -5\n"
     ]
    }
   ],
   "source": [
    "#Create a function to evaluate the value of objective function for each x.\n",
    "\n",
    "def maxcut_task_3(x):\n",
    "    #INSERT YOUR CODE HERE!\n",
    "    \n",
    "    x1 = x[0]\n",
    "    x2 = x[1]\n",
    "    x3 = x[2]\n",
    "    x4 = x[3]\n",
    "    x5 = x[4]\n",
    "    y = -2*x1-2*x2-3*x3-3*x4-2*x5+2*x1*x2+2*x1*x3+2*x2*x4+2*x3*x4+2*x3*x5+2*x4*x5\n",
    "    \n",
    "    return y\n",
    "\n",
    "#Minimize the function for all possibilites of x.\n",
    "#The following code generates the possile permutations of x and calculates the value of the objectve funtion for each.\n",
    "import numpy as np\n",
    "import itertools\n",
    "possible_values = {}\n",
    "vec_permutations = itertools.product([0,1], repeat=5)    # A list of all the possible permutations for x vector\n",
    "for permutation in vec_permutations:\n",
    "    x = np.array([[var] for var in permutation])         # Converts the permutation into a column vector\n",
    "    value = maxcut_task_3(x)\n",
    "    possible_values[value[0]] = x\n",
    "    vector = tuple(x.T[0])\n",
    "    print(\"Vector x =\", vector, \"; Value =\",int(value))  # Displays every vector with its corresponding value\n",
    "    \n",
    "min_value = min(possible_values.keys())                  # Lowest value of the objective function\n",
    "opt_vector = tuple(possible_values[min_value].T[0])      # Optimum x corresponding to lowest value\n",
    "print(\"---\")\n",
    "print(\"The vector x =\", opt_vector, \"minimizes the objective function to a value of\", int(min_value)) "
   ]
  },
  {
   "cell_type": "markdown",
   "metadata": {},
   "source": [
    "**Note:** The vectors $x = (0, 1, 1, 0, 0), x = (0, 1, 1, 0, 1), x=(1, 0, 0, 1, 0), x = (1, 0, 0, 1, 1)$ all minimize the objective function to the same value as they have the same edge-cut size. "
   ]
  },
  {
   "cell_type": "markdown",
   "metadata": {},
   "source": [
    "<a id=\"task5\"></a>\n",
    "### Task 5\n",
    "\n",
    "Let's assume we have a simple network of 5 vertices and 7 edges. \n",
    "\n",
    "<img src=\"../images/max-cut2.png\" width=\"250\">\n",
    "\n",
    "Using the QUBO expression $\\min \\sum_{(i,j) \\in E} (-x_i-x_j+2x_ix_j)$, determine the matrix Q for this graph. "
   ]
  },
  {
   "cell_type": "markdown",
   "metadata": {},
   "source": [
    "<h3> Solution </h3>"
   ]
  },
  {
   "cell_type": "markdown",
   "metadata": {},
   "source": [
    "Using the QUBO expression $\\min \\sum_{(i,j) \\in E} (-x_i-x_j+2x_ix_j)$ and summing over the edges,\n",
    "\n",
    "$\\min y = (-x_1-x_2+2x_1x_2)+(-x_1-x_3+2x_1x_3)+(-x_2-x_4+2x_2x_4)+(-x_1-x_4+2x_1x_4)+(-x_3-x_4+2x_3x_4)+(-x_3-x_5+2x_3x_5)+(-x_4-x_5+2x_4x_5)$\n",
    "\n",
    "$\\min y = -3x_1-2x_2-3x_3-4x_4-2x_5+2x_1x_2+2x_1x_3+2x_1x_4+2x_2x_4+2x_3x_4+2x_3x_5+2x_4x_5$\n",
    "\n",
    "This takes the desired form:\n",
    "\n",
    "$$\\min_{x \\in {0,1}^n} x^T Q x$$\n",
    "\n",
    "The upper diagonal matrix Q is:\n",
    "\n",
    "$$Q = \\begin{pmatrix}\n",
    "-3 & 2 & 2 & 2 & 0\\\\\n",
    "0 & -2 & 0 & 2 & 0\\\\\n",
    "0 & 0 & -3 & 2 & 2\\\\\n",
    "0 & 0 & 0 & -4 & 2\\\\\n",
    "0 & 0 & 0 & 0 & -2\n",
    "\\end{pmatrix}$$"
   ]
  },
  {
   "cell_type": "markdown",
   "metadata": {},
   "source": [
    "<a id=\"task6\"></a>\n",
    "### Task 6\n",
    "\n",
    "Repeat Task 3 for the matrix Q calculated in Task 5.\n",
    "\n",
    "$$Q = \\begin{pmatrix}\n",
    "-3 & 2 & 2 & 2 & 0\\\\\n",
    "0 & -2 & 0 & 2 & 0\\\\\n",
    "0 & 0 & -3 & 2 & 2\\\\\n",
    "0 & 0 & 0 & -4 & 2\\\\\n",
    "0 & 0 & 0 & 0 & -2\n",
    "\\end{pmatrix}$$"
   ]
  },
  {
   "cell_type": "markdown",
   "metadata": {},
   "source": [
    "<h3> Solution </h3>"
   ]
  },
  {
   "cell_type": "code",
   "execution_count": 50,
   "metadata": {},
   "outputs": [
    {
     "data": {
      "text/plain": [
       "'The vector (1, 1, 0, 0, 1) minimizes the objective function to a value of -5.'"
      ]
     },
     "execution_count": 50,
     "metadata": {},
     "output_type": "execute_result"
    }
   ],
   "source": [
    "#Access the qubo_solver() function\n",
    "%run qubo_functions.py\n",
    "\n",
    "# Define the Q matrix\n",
    "#Assign it the name Q2\n",
    "Q2 = np.array([[ -3,  2,  2,  2,  0],\n",
    "              [  0, -2,  0,  2,  0],\n",
    "              [  0,  0, -3,  2,  2],\n",
    "              [  0,  0,  0, -4,  2],\n",
    "              [  0,  0,  0,  0, -2]])\n",
    "\n",
    "\n",
    "# Pass the matrix as an argument to the function\n",
    "qubo_solver(Q2)"
   ]
  },
  {
   "cell_type": "markdown",
   "metadata": {},
   "source": [
    "<a id=\"task7\"></a>\n",
    "### Task 7\n",
    "\n",
    "Using the QUBO algebraic expression, verify your result for Task 6. \n",
    "(You may use a Python code for this task)."
   ]
  },
  {
   "cell_type": "markdown",
   "metadata": {},
   "source": [
    "<h3> Solution </h3>"
   ]
  },
  {
   "cell_type": "code",
   "execution_count": 53,
   "metadata": {},
   "outputs": [
    {
     "name": "stdout",
     "output_type": "stream",
     "text": [
      "---\n",
      "The vector x = (1, 1, 0, 0, 1) minimizes the objective function to a value of -5\n"
     ]
    }
   ],
   "source": [
    "#Create a function to evaluate the value of objective function for each x.\n",
    "\n",
    "def maxcut_task_7(x):\n",
    "    #INSERT YOUR CODE HERE!\n",
    "    \n",
    "    x1 = x[0]\n",
    "    x2 = x[1]\n",
    "    x3 = x[2]\n",
    "    x4 = x[3]\n",
    "    x5 = x[4]\n",
    "    y = -3*x1-2*x2-3*x3-4*x4-2*x5+2*x1*x2+2*x1*x3+2*x1*x4+2*x2*x4+2*x3*x4+2*x3*x5+2*x4*x5\n",
    "    \n",
    "    return y\n",
    "\n",
    "#Minimize the function for all possibilites of x.\n",
    "#The following code generates the possile permutations of x and calculates the value of the objectve funtion for each.\n",
    "import numpy as np\n",
    "import itertools\n",
    "possible_values_7 = {}\n",
    "vec_permutations = itertools.product([0,1], repeat=5)    # A list of all the possible permutations for x vector\n",
    "for permutation in vec_permutations:\n",
    "    x = np.array([[var] for var in permutation])         # Converts the permutation into a column vector\n",
    "    value = maxcut_task_7(x)\n",
    "    possible_values_7[value[0]] = x\n",
    "    vector = tuple(x.T[0])\n",
    "    # print(\"Vector x =\", vector, \"; Value =\",int(value))  # Displays every vector with its corresponding value\n",
    "    \n",
    "min_value = min(possible_values_7.keys())                  # Lowest value of the objective function\n",
    "opt_vector = tuple(possible_values_7[min_value].T[0])      # Optimum x corresponding to lowest value\n",
    "print(\"---\")\n",
    "print(\"The vector x =\", opt_vector, \"minimizes the objective function to a value of\", int(min_value)) "
   ]
  },
  {
   "cell_type": "code",
   "execution_count": null,
   "metadata": {},
   "outputs": [],
   "source": []
  }
 ],
 "metadata": {
  "kernelspec": {
   "display_name": "Python 3",
   "language": "python",
   "name": "python3"
  },
  "language_info": {
   "codemirror_mode": {
    "name": "ipython",
    "version": 3
   },
   "file_extension": ".py",
   "mimetype": "text/x-python",
   "name": "python",
   "nbconvert_exporter": "python",
   "pygments_lexer": "ipython3",
   "version": "3.8.3"
  },
  "latex_envs": {
   "LaTeX_envs_menu_present": true,
   "autoclose": true,
   "autocomplete": true,
   "bibliofile": "biblio.bib",
   "cite_by": "apalike",
   "current_citInitial": 1,
   "eqLabelWithNumbers": true,
   "eqNumInitial": 1,
   "hotkeys": {
    "equation": "Ctrl-E",
    "itemize": "Ctrl-I"
   },
   "labels_anchors": false,
   "latex_user_defs": false,
   "report_style_numbering": false,
   "user_envs_cfg": false
  },
  "toc": {
   "base_numbering": 1,
   "nav_menu": {},
   "number_sections": true,
   "sideBar": true,
   "skip_h1_title": false,
   "title_cell": "Table of Contents",
   "title_sidebar": "Contents",
   "toc_cell": false,
   "toc_position": {},
   "toc_section_display": true,
   "toc_window_display": false
  }
 },
 "nbformat": 4,
 "nbformat_minor": 5
}
