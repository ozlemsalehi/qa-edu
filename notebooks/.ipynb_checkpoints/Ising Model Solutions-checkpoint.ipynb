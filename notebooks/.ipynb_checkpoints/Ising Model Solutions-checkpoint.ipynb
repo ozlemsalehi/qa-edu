{
 "cells": [
  {
   "cell_type": "markdown",
   "metadata": {},
   "source": [
    "<table width = \"100%\">\n",
    "  <tr style=\"background-color:white;\">\n",
    "    <!-- QWorld Logo -->\n",
    "    <td style=\"text-align:left;width:200px;\"> \n",
    "        <img src=\"images/QWorld.png\"> </td>\n",
    "    <td style=\"text-align:right;vertical-align:bottom;font-size:16px;\"> \n",
    "        Prepared by <a href=\"https://gitlab.com/pjr1363\" target=\"_blank\"> Paul Joseph Robin </a></td>\n",
    "    </tr> \n",
    " </table>\n",
    " \n",
    "<hr>"
   ]
  },
  {
   "cell_type": "markdown",
   "metadata": {},
   "source": [
    "# Solutions for Ising Model"
   ]
  },
  {
   "cell_type": "markdown",
   "metadata": {},
   "source": [
    "<a id=\"Task1\"></a>\n",
    "### Task 1"
   ]
  },
  {
   "cell_type": "markdown",
   "metadata": {},
   "source": [
    "##### The possible scenarios are outlined here:\n",
    "| $s_1$ \t| $s_2$ \t| $s_3$ \t| $H$ \t|\n",
    "|-------\t|-------\t|-------\t|-----\t|\n",
    "| -1    \t| -1    \t| -1    \t| 144 \t|\n",
    "| -1    \t| -1    \t| 1     \t| 0   \t|\n",
    "| -1    \t| 1     \t| -1    \t| 64  \t|\n",
    "| -1    \t| 1     \t| 1     \t| 16  \t|\n",
    "| 1     \t| -1    \t| -1    \t| 16  \t|\n",
    "| 1     \t| -1    \t| 1     \t| 64  \t|\n",
    "| 1     \t| 1     \t| -1    \t| 0   \t|\n",
    "| 1     \t| 1     \t| 1     \t| 144 \t|"
   ]
  },
  {
   "cell_type": "markdown",
   "metadata": {},
   "source": [
    "The lowest energy state corresponds to $\\{-1, -1, 1\\}$ or just the complement $\\{1, 1, -1\\}$. \n",
    "\n",
    "This calculation could be automated by writing a code!"
   ]
  },
  {
   "cell_type": "markdown",
   "metadata": {},
   "source": [
    "##### Defining the objective function"
   ]
  },
  {
   "cell_type": "code",
   "execution_count": 3,
   "metadata": {},
   "outputs": [],
   "source": [
    "def f(s1, s2, s3):    # The objective function\n",
    "    return (4*s1 + 2*s2 + 6*s3)**2"
   ]
  },
  {
   "cell_type": "markdown",
   "metadata": {},
   "source": [
    " ##### Calculating value of the objective function for each set of values"
   ]
  },
  {
   "cell_type": "code",
   "execution_count": 5,
   "metadata": {},
   "outputs": [
    {
     "name": "stdout",
     "output_type": "stream",
     "text": [
      "Enter binary values for the variables: (Order = (x1, x2))-1 -1 -1\n",
      "(-1, -1, -1)  ->  144\n",
      "Enter binary values for the variables: (Order = (x1, x2))-1 -1 1\n",
      "(-1, -1, 1)  ->  0\n",
      "Enter binary values for the variables: (Order = (x1, x2))-1 1 -1\n",
      "(-1, 1, -1)  ->  64\n",
      "Enter binary values for the variables: (Order = (x1, x2))-1 1 1\n",
      "(-1, 1, 1)  ->  16\n",
      "Enter binary values for the variables: (Order = (x1, x2))1 -1 -1\n",
      "(1, -1, -1)  ->  16\n",
      "Enter binary values for the variables: (Order = (x1, x2))1 -1 1\n",
      "(1, -1, 1)  ->  64\n",
      "Enter binary values for the variables: (Order = (x1, x2))1 1 -1\n",
      "(1, 1, -1)  ->  0\n",
      "Enter binary values for the variables: (Order = (x1, x2))1 1 1\n",
      "(1, 1, 1)  ->  144\n",
      "Enter binary values for the variables: (Order = (x1, x2))x x x\n"
     ]
    }
   ],
   "source": [
    "while True:\n",
    "    vars = input(\"Enter binary values for the variables: (Order = (x1, x2))\")\n",
    "    \n",
    "    if vars[0] in ['-1', '1'] or vars[1] in ['-1', '1'] or vars[2] in ['-1', '1']:\n",
    "        s1, s2, s3 = [int(x) for x in vars.split()]\n",
    "        print(\"({}, {}, {})  ->  {}\".format(s1, s2, s3, f(s1, s2, s3)) )\n",
    "    else:\n",
    "        break"
   ]
  },
  {
   "cell_type": "markdown",
   "metadata": {},
   "source": [
    "---\n",
    "<a id=\"NumPart\"></a>\n",
    "### The Number Partitioning Problem: An Ising formulation"
   ]
  },
  {
   "cell_type": "markdown",
   "metadata": {},
   "source": [
    "Given $N$ positive numbers $S = \\{n_1, n_2, ... , n_N\\}$, consider a partition into two disjoint subsets $S_1$ and $S_2$ such that **the sum of elements in both subsets is the same**.\n",
    "\n",
    "#### Ising Formulation:\n",
    "Let $n_i$ where $i = 1, 2, ... , N = |S|$ describe the elements of the set $S$ and let\n",
    "$$ H(\\mathbf{s}) = A \\left( \\sum_{i=1}^{N} n_i s_i \\right)^2 $$ be the Hamilatonian, representing the energy of the system with $s_i = \\pm 1$ . $A$ is a positive constant, which is typically scaled to $1$."
   ]
  },
  {
   "cell_type": "markdown",
   "metadata": {},
   "source": [
    "Essentially we are searching for a configuration where the sum of $n_i$ for $+1$ spins $=$ the sum for $-1$ spins. We find that $H = 0$ is the ideal configuration which minimizes the Hamiltonian of this model. Hence, a solution to the number partitioning problem exists."
   ]
  },
  {
   "cell_type": "markdown",
   "metadata": {},
   "source": [
    "##### Degenerate States:\n",
    "In the previous task, you will have noticed that two solutions exist which are equivalent. This happens because the choice of labelling $+1$ or $-1$ spin is arbitrary. This double degenracy can be removed, as suggested by Lucas, by fixing the first spin state $s_1 = +1$, which ensures that only $N-1$ spins will be used."
   ]
  },
  {
   "cell_type": "markdown",
   "metadata": {},
   "source": [
    "#### $H \\neq 0$ :\n",
    "Sometimes, the Hamiltonian does not go to $0$, or a perfect solution does not exist for the partitioning problem. In this case, the lowest energy state found is one of the best possible solutions and ensures that there is minimal difference in the sums of the two sets."
   ]
  },
  {
   "cell_type": "markdown",
   "metadata": {},
   "source": [
    "---\n",
    "<a id=\"YATask\"></a>\n",
    "### Yet Another Task!"
   ]
  },
  {
   "cell_type": "markdown",
   "metadata": {},
   "source": [
    "**Should I add matrix formulations here? Otherwise, 32 values each have to be evaluated!**"
   ]
  },
  {
   "cell_type": "markdown",
   "metadata": {},
   "source": [
    " "
   ]
  }
 ],
 "metadata": {
  "kernelspec": {
   "display_name": "Python 3",
   "language": "python",
   "name": "python3"
  },
  "language_info": {
   "codemirror_mode": {
    "name": "ipython",
    "version": 3
   },
   "file_extension": ".py",
   "mimetype": "text/x-python",
   "name": "python",
   "nbconvert_exporter": "python",
   "pygments_lexer": "ipython3",
   "version": "3.7.3"
  }
 },
 "nbformat": 4,
 "nbformat_minor": 4
}
