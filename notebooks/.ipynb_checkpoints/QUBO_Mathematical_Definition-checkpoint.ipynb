{
 "cells": [
  {
   "cell_type": "markdown",
   "id": "buried-bidder",
   "metadata": {
    "toc": true
   },
   "source": [
    "<h1>Table of Contents<span class=\"tocSkip\"></span></h1>\n",
    "<div class=\"toc\"><ul class=\"toc-item\"><li><span><a href=\"#Objective-Function\" data-toc-modified-id=\"Objective-Function-1\">Objective Function</a></span></li><li><span><a href=\"#Quadratic-Unconstrained-Binary-Optimization-(QUBO)\" data-toc-modified-id=\"Quadratic-Unconstrained-Binary-Optimization-(QUBO)-2\">Quadratic Unconstrained Binary Optimization (QUBO)</a></span><ul class=\"toc-item\"><li><span><a href=\"#Task\" data-toc-modified-id=\"Task-2.1\">Task</a></span></li></ul></li></ul></div>"
   ]
  },
  {
   "cell_type": "markdown",
   "id": "sophisticated-permit",
   "metadata": {},
   "source": [
    "In the previous section, we went through some combinatorial optimization problems and their significance. In order to find optimal solutions to those problems, the first step is to formulate them in terms of an objective function. \n",
    "\n",
    "# Objective Function\n",
    "\n",
    "An objective function gives a mathematical description of a problem. We should minimize this objective function to find an optimal solution to our problem. In most cases, the lower the value of the objective function, the better is our obtained solution. \n",
    "\n",
    "An objective function can be formulated in two ways:\n",
    "  \n",
    "  - Quadratic Unconstrained Binary Optimization (QUBO)\n",
    "  - Ising Model\n",
    "  \n",
    "Conversion between these two formulations is possible. We will go through that later on in the material. Now let's take a closer look at the QUBO formulation.\n",
    "\n",
    "# Quadratic Unconstrained Binary Optimization (QUBO)\n",
    "\n",
    "A QUBO problem is defined using a square matrix $Q$ and a vector $x$ where,\n",
    "\n",
    "  - $Q$ is assumed to be either symmetric or in upper-triangular form\n",
    "  - $x$ is a vector of binary decision variables $0$ and $1$ which correspond to the boolean values `False` and `True` respectively\n",
    "  \n",
    "Our aim is to minimize the objective function defined as\n",
    "\n",
    "$$f(x) = \\sum\\limits_{i} {Q_{i, i} x_i} + \\sum\\limits_{i < j} {Q_{i, j} x_i x_j}$$\n",
    "\n",
    "where,\n",
    "  - The diagonal terms $Q_{i, i}$ are the linear coefficients\n",
    "  - The non-zero off-diagonal terms $Q_{i, j}$ are the quadratic coefficients\n",
    "\n",
    "The above objective function can be expressed in matrix form as\n",
    "\n",
    "$$\\min\\limits_{x \\in \\{0, 1\\}^n} {x^T Q x}$$"
   ]
  },
  {
   "cell_type": "markdown",
   "id": "liked-merchandise",
   "metadata": {},
   "source": [
    "## Task\n",
    "\n",
    "Find out what assignment of $x_1$ and $x_2$ minimizes the objective function\n",
    "\n",
    "$$f(x_1, x_2) = 5x_1 + 7x_1 x_2 - 3x_2$$\n",
    "\n",
    "<div class=\"alert alert-block alert-info\">You can adjust the sliders to set different values for $x_1$ and $x_2$. The lower the value of the objective function, the better is the solution.</div>"
   ]
  },
  {
   "cell_type": "code",
   "execution_count": 1,
   "id": "spanish-swing",
   "metadata": {
    "ExecuteTime": {
     "end_time": "2021-07-15T03:55:50.069420Z",
     "start_time": "2021-07-15T03:55:49.951760Z"
    }
   },
   "outputs": [
    {
     "data": {
      "application/vnd.jupyter.widget-view+json": {
       "model_id": "6a346161035c449cb8a978d33a40b86e",
       "version_major": 2,
       "version_minor": 0
      },
      "text/plain": [
       "interactive(children=(IntSlider(value=0, description='x1', max=1), IntSlider(value=0, description='x2', max=1)…"
      ]
     },
     "metadata": {},
     "output_type": "display_data"
    }
   ],
   "source": [
    "# Run this cell to display the sliders\n",
    "\n",
    "from ipywidgets import interact\n",
    " \n",
    "def obj_fn(x1, x2):\n",
    "    value = 5*x1 + 7*x1*x2 - 3*x2\n",
    "    return f\"The value of the objective function is {value}.\"\n",
    "\n",
    "interact(obj_fn, x1=(0, 1), x2=(0, 1));"
   ]
  },
  {
   "cell_type": "markdown",
   "id": "spectacular-maximum",
   "metadata": {},
   "source": [
    "[Click Here for the Solution](QUBO_Mathematical_Definition_Solution.ipynb)"
   ]
  }
 ],
 "metadata": {
  "kernelspec": {
   "display_name": "Python 3",
   "language": "python",
   "name": "python3"
  },
  "language_info": {
   "codemirror_mode": {
    "name": "ipython",
    "version": 3
   },
   "file_extension": ".py",
   "mimetype": "text/x-python",
   "name": "python",
   "nbconvert_exporter": "python",
   "pygments_lexer": "ipython3",
   "version": "3.7.3"
  },
  "latex_envs": {
   "LaTeX_envs_menu_present": true,
   "autoclose": true,
   "autocomplete": true,
   "bibliofile": "biblio.bib",
   "cite_by": "apalike",
   "current_citInitial": 1,
   "eqLabelWithNumbers": true,
   "eqNumInitial": 1,
   "hotkeys": {
    "equation": "Ctrl-E",
    "itemize": "Ctrl-I"
   },
   "labels_anchors": false,
   "latex_user_defs": false,
   "report_style_numbering": false,
   "user_envs_cfg": false
  },
  "toc": {
   "base_numbering": 1,
   "nav_menu": {},
   "number_sections": false,
   "sideBar": true,
   "skip_h1_title": false,
   "title_cell": "Table of Contents",
   "title_sidebar": "Contents",
   "toc_cell": true,
   "toc_position": {},
   "toc_section_display": true,
   "toc_window_display": false
  }
 },
 "nbformat": 4,
 "nbformat_minor": 5
}
