{
 "cells": [
  {
   "cell_type": "markdown",
   "metadata": {},
   "source": [
    " "
   ]
  },
  {
   "cell_type": "markdown",
   "metadata": {},
   "source": [
    "<table width = \"100%\">\n",
    "  <tr style=\"background-color:white;\">\n",
    "    <!-- QWorld Logo -->\n",
    "    <td style=\"text-align:left;width:200px;\"> \n",
    "        <img src=\"../images/QWorld.png\"> </td>\n",
    "    <td style=\"text-align:right;vertical-align:bottom;font-size:16px;\"> \n",
    "        Prepared by <a href=\"https://gitlab.com/pjr1363\" target=\"_blank\"> Paul Joseph Robin </a></td>\n",
    "    </tr> \n",
    " </table>\n",
    " \n",
    "<hr>"
   ]
  },
  {
   "cell_type": "markdown",
   "metadata": {},
   "source": [
    "##  Solutions for Higher Order Problems"
   ]
  },
  {
   "cell_type": "markdown",
   "metadata": {},
   "source": [
    "<a id=\"Task1\"></a>\n",
    "### Task 1"
   ]
  },
  {
   "cell_type": "markdown",
   "metadata": {},
   "source": [
    "The objective function is:\n",
    "$$f (x_1, x_2, x_3) = 5x_1 + 7x_1 x_2 - 3x_1 x_2 x_3$$\n",
    "\n",
    "Let $y_{23}$ := $x_2 x_3$. So by Rosenberg's method, the quadratic objective function becomes\n",
    "$$f (x_1, x_2, y_{23}) = 5x_1 + 7x_1 x_2 - 3x_1 y_{23} + C (x_2x_3 - 2x_2y_{23} - 2x_3 y_{23} + 3y_{23} )$$ \n",
    "\n",
    "> It can be verified that this indeed satisfies the constraint $x_2x_3 = y_{23}$:\n",
    ">\n",
    "> Let $y_{23} = x_2x_3 = 1$\n",
    ">\n",
    "> $\\Rightarrow x_2 = 1, x_3 = 1$, which leads to the penalty term being zero.\n",
    "\n",
    "##### Defining the objective functions:"
   ]
  },
  {
   "cell_type": "code",
   "execution_count": 1,
   "metadata": {},
   "outputs": [],
   "source": [
    "def obj(x1, x2, x3, y23, C):    \n",
    "    return (5*x1 + 7*x1*x2 - 3*x1*y23 + C*(x2*x3 - 2*x2*y23 - 2*x3*y23 + 3*y23) )"
   ]
  },
  {
   "cell_type": "code",
   "execution_count": 2,
   "metadata": {},
   "outputs": [],
   "source": [
    "import itertools\n",
    "x = [ 0, 1]\n",
    "vq = [p for p in itertools.product(x, repeat=4)]    # The sample space for all possible QUBO states.  "
   ]
  },
  {
   "cell_type": "markdown",
   "metadata": {},
   "source": [
    " ##### Calculating value of the objective function for each set of values"
   ]
  },
  {
   "cell_type": "code",
   "execution_count": 3,
   "metadata": {},
   "outputs": [
    {
     "name": "stdout",
     "output_type": "stream",
     "text": [
      "(x1, x2, x3), y23  ->  f(x)\n",
      "(0, 0, 0), 0  ->  0\n",
      "(0, 0, 0), 1  ->  3\n",
      "(0, 0, 1), 0  ->  0\n",
      "(0, 0, 1), 1  ->  1\n",
      "(0, 1, 0), 0  ->  0\n",
      "(0, 1, 0), 1  ->  1\n",
      "(0, 1, 1), 0  ->  1\n",
      "(0, 1, 1), 1  ->  0\n",
      "(1, 0, 0), 0  ->  5\n",
      "(1, 0, 0), 1  ->  5\n",
      "(1, 0, 1), 0  ->  5\n",
      "(1, 0, 1), 1  ->  3\n",
      "(1, 1, 0), 0  ->  12\n",
      "(1, 1, 0), 1  ->  10\n",
      "(1, 1, 1), 0  ->  13\n",
      "(1, 1, 1), 1  ->  9\n"
     ]
    }
   ],
   "source": [
    "C = 1\n",
    "print(\"(x1, x2, x3), y23  ->  f(x)\")\n",
    "for q in range(len(vq)):\n",
    "    x1, x2, x3, y23 = [int(x) for x in vq[q]]\n",
    "    print(\"({}, {}, {}), {}  ->  {}\".format(x1, x2, x3, y23, obj(x1, x2, x3, y23, C)) )"
   ]
  },
  {
   "cell_type": "markdown",
   "metadata": {},
   "source": [
    "Here, we have used a trial-and-error method for the value of $C$. This gives us the solution state of $(0, 0, 0), (0, 0, 1), (0, 1, 0), (0, 1, 1)$.\n",
    "\n",
    "> Try varying the value to different positive constants and examine the change in the solution state."
   ]
  },
  {
   "cell_type": "markdown",
   "metadata": {},
   "source": [
    "---"
   ]
  },
  {
   "cell_type": "markdown",
   "metadata": {},
   "source": [
    "<a id=\"Task2\"></a>\n",
    "### Task 2"
   ]
  },
  {
   "cell_type": "markdown",
   "metadata": {},
   "source": [
    "The SAT problem in CNF notation is:\n",
    "$$(x_1 \\vee x_2 \\vee x_3) \\wedge (x_1 \\vee x_4 \\vee \\overline{x_3})$$\n",
    "\n",
    "Converting \n",
    "$$\\text{max}\\quad (x_1 + x_2 + x_3 -x_1x_2 - x_2x_3 - x_1x_3 +x_1x_2x_3) + (1 - x_3 + x_1x_3 + x_4x_3 - x_1x_3x_4) $$\n",
    "\n",
    "Substitute $y_{13}$ := $x_1 x_3$. The quadratic objective function becomes\n",
    "$$\\text{max}\\quad (1 + x_1 + x_2 -x_1x_2 - x_2x_3 + x_4x_3 - y_{13}x_4 + y_{13}x_2) - C (x_1x_3 - 2x_1y_{13} - 2x_3 y_{13} + 3y_{13} ) $$\n",
    "\n",
    "\n",
    "<!--Expressing this in the matrix formulation $$\\max \\quad 1 + {x^T Q x}$$\n",
    "\n",
    "$$\n",
    "Q = \\begin{bmatrix}\n",
    "        1   &  -1  &  -C  &  0 & 2C \\\\ \n",
    "        0   &  1  &  -1   &  0 & 1 \\\\ \n",
    "        0   &  0   &  0  &  1 & 2C \\\\ \n",
    "        0   &  0   &  0   &  0 & -1\\\\ \n",
    "        0   &  0   &  0   &  0 & -3C\n",
    "    \\end{bmatrix}\n",
    "$$\n",
    "\n",
    "Converting to the equivalent minimization problem,\n",
    "$$\\min \\quad -1 - {x^T Q x}$$\n",
    "-->\n",
    "\n",
    "##### Defining the objective functions:"
   ]
  },
  {
   "cell_type": "code",
   "execution_count": 4,
   "metadata": {},
   "outputs": [],
   "source": [
    "def obj(x1, x2, x3, x4, y13, C):    \n",
    "    return ( 1 + x1 + x2 - x1*x2 - x2*x3 + x4*x3 - y13*x4 + y13*x2) - C*(x1*x3 - 2*x1*y13 - 2*x3*y13 + 3*y13 )"
   ]
  },
  {
   "cell_type": "code",
   "execution_count": 5,
   "metadata": {},
   "outputs": [],
   "source": [
    "import itertools\n",
    "x = [ 0, 1]\n",
    "vq = [p for p in itertools.product(x, repeat=5)]    # The sample space for all possible QUBO states.  "
   ]
  },
  {
   "cell_type": "markdown",
   "metadata": {},
   "source": [
    " ##### Calculating value of the objective function for each set of values"
   ]
  },
  {
   "cell_type": "code",
   "execution_count": 6,
   "metadata": {},
   "outputs": [
    {
     "name": "stdout",
     "output_type": "stream",
     "text": [
      "(x1, x2, x3, x4), y23  ->  f(x)\n",
      "(0, 0, 0, 0), 0  ->  1\n",
      "(0, 0, 0, 0), 1  ->  -29\n",
      "(0, 0, 0, 1), 0  ->  1\n",
      "(0, 0, 0, 1), 1  ->  -30\n",
      "(0, 0, 1, 0), 0  ->  1\n",
      "(0, 0, 1, 0), 1  ->  -9\n",
      "(0, 0, 1, 1), 0  ->  2\n",
      "(0, 0, 1, 1), 1  ->  -9\n",
      "(0, 1, 0, 0), 0  ->  2\n",
      "(0, 1, 0, 0), 1  ->  -27\n",
      "(0, 1, 0, 1), 0  ->  2\n",
      "(0, 1, 0, 1), 1  ->  -28\n",
      "(0, 1, 1, 0), 0  ->  1\n",
      "(0, 1, 1, 0), 1  ->  -8\n",
      "(0, 1, 1, 1), 0  ->  2\n",
      "(0, 1, 1, 1), 1  ->  -8\n",
      "(1, 0, 0, 0), 0  ->  2\n",
      "(1, 0, 0, 0), 1  ->  -8\n",
      "(1, 0, 0, 1), 0  ->  2\n",
      "(1, 0, 0, 1), 1  ->  -9\n",
      "(1, 0, 1, 0), 0  ->  -8\n",
      "(1, 0, 1, 0), 1  ->  2\n",
      "(1, 0, 1, 1), 0  ->  -7\n",
      "(1, 0, 1, 1), 1  ->  2\n",
      "(1, 1, 0, 0), 0  ->  2\n",
      "(1, 1, 0, 0), 1  ->  -7\n",
      "(1, 1, 0, 1), 0  ->  2\n",
      "(1, 1, 0, 1), 1  ->  -8\n",
      "(1, 1, 1, 0), 0  ->  -9\n",
      "(1, 1, 1, 0), 1  ->  2\n",
      "(1, 1, 1, 1), 0  ->  -8\n",
      "(1, 1, 1, 1), 1  ->  2\n"
     ]
    }
   ],
   "source": [
    "C = 10\n",
    "print(\"(x1, x2, x3, x4), y23  ->  f(x)\")\n",
    "for q in range(len(vq)):\n",
    "    x1, x2, x3, x4, y13 = [int(x) for x in vq[q]]\n",
    "    print(\"({}, {}, {}, {}), {}  ->  {}\".format(x1, x2, x3, x4, y13, obj(x1, x2, x3, x4, y13, C)) )"
   ]
  },
  {
   "cell_type": "markdown",
   "metadata": {},
   "source": [
    "**In Max 3-SAT problems, the value of the objective function indicates the number of satisfied clauses. In the above task, we can see values 1 and 2, representing one and two satisfied clauses respectively**."
   ]
  },
  {
   "cell_type": "markdown",
   "metadata": {},
   "source": [
    "---"
   ]
  },
  {
   "cell_type": "markdown",
   "metadata": {},
   "source": [
    " "
   ]
  }
 ],
 "metadata": {
  "kernelspec": {
   "display_name": "Python 3",
   "language": "python",
   "name": "python3"
  },
  "language_info": {
   "codemirror_mode": {
    "name": "ipython",
    "version": 3
   },
   "file_extension": ".py",
   "mimetype": "text/x-python",
   "name": "python",
   "nbconvert_exporter": "python",
   "pygments_lexer": "ipython3",
   "version": "3.7.3"
  }
 },
 "nbformat": 4,
 "nbformat_minor": 4
}
