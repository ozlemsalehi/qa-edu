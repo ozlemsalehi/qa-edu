{
 "cells": [
  {
   "cell_type": "markdown",
   "id": "unique-activation",
   "metadata": {},
   "source": [
    "<table width = \"100%\">\n",
    "  <tr style=\"background-color:white;\">\n",
    "    <!-- QWorld Logo -->\n",
    "    <td style=\"text-align:left;width:200px;\"> \n",
    "        <a href=\"https://qworld.net/\" target=\"_blank\"><img src=\"../images/QWorld.png\"> </a></td>\n",
    "    <td style=\"text-align:right;vertical-align:bottom;font-size:16px;\"> \n",
    "        Prepared by <a href=\"https://gitlab.com/sabahuddin.ahmad\" target=\"_blank\"> Sabah Ud Din Ahmad </a></td>\n",
    "    </tr> \n",
    " </table>\n",
    " \n",
    "<hr>"
   ]
  },
  {
   "cell_type": "markdown",
   "id": "technological-genesis",
   "metadata": {},
   "source": [
    "## <font color=\"blue\"> Solutions for </font> QUBO Examples - Graph Coloring"
   ]
  },
  {
   "cell_type": "markdown",
   "id": "welcome-taste",
   "metadata": {},
   "source": [
    "<a id=\"task1\"></a>\n",
    "### Task 1\n",
    "\n",
    "Let's assume we have the following graph.  \n",
    "\n",
    "<img src=\"../images/gc_1.png\" width=\"250\">\n",
    "\n",
    "Determine the matrix Q for this graph so that a feasible coloring is possible using $K=3$ colors."
   ]
  },
  {
   "cell_type": "markdown",
   "id": "boxed-benjamin",
   "metadata": {},
   "source": [
    "<h3> Solution </h3>"
   ]
  },
  {
   "cell_type": "code",
   "execution_count": null,
   "id": "anonymous-banner",
   "metadata": {},
   "outputs": [],
   "source": []
  },
  {
   "cell_type": "markdown",
   "id": "another-wheat",
   "metadata": {},
   "source": [
    "<a id=\"task2\"></a>\n",
    "### Task 2\n",
    "\n",
    "Input matrix Q calculated in Task 1 to the function *qubo_solver()* and determine $x$ which minimizes $x^T Qx$ and the corresponding minimum value."
   ]
  },
  {
   "cell_type": "markdown",
   "id": "extraordinary-syracuse",
   "metadata": {},
   "source": [
    "<h3> Solution </h3>"
   ]
  },
  {
   "cell_type": "code",
   "execution_count": 2,
   "id": "synthetic-potter",
   "metadata": {},
   "outputs": [],
   "source": [
    "# Access the qubo_solver() function\n",
    "%run qubo_functions.py\n",
    "\n",
    "# Define the Q matrix\n",
    "\n",
    "\n",
    "# Pass the matrix as an argument to the function\n",
    "qubo_solver(Q)"
   ]
  },
  {
   "cell_type": "code",
   "execution_count": null,
   "id": "honest-significance",
   "metadata": {},
   "outputs": [],
   "source": []
  }
 ],
 "metadata": {
  "kernelspec": {
   "display_name": "Python 3",
   "language": "python",
   "name": "python3"
  },
  "language_info": {
   "codemirror_mode": {
    "name": "ipython",
    "version": 3
   },
   "file_extension": ".py",
   "mimetype": "text/x-python",
   "name": "python",
   "nbconvert_exporter": "python",
   "pygments_lexer": "ipython3",
   "version": "3.7.3"
  },
  "latex_envs": {
   "LaTeX_envs_menu_present": true,
   "autoclose": true,
   "autocomplete": true,
   "bibliofile": "biblio.bib",
   "cite_by": "apalike",
   "current_citInitial": 1,
   "eqLabelWithNumbers": true,
   "eqNumInitial": 1,
   "hotkeys": {
    "equation": "Ctrl-E",
    "itemize": "Ctrl-I"
   },
   "labels_anchors": false,
   "latex_user_defs": false,
   "report_style_numbering": false,
   "user_envs_cfg": false
  },
  "toc": {
   "base_numbering": 1,
   "nav_menu": {},
   "number_sections": true,
   "sideBar": true,
   "skip_h1_title": false,
   "title_cell": "Table of Contents",
   "title_sidebar": "Contents",
   "toc_cell": false,
   "toc_position": {},
   "toc_section_display": true,
   "toc_window_display": false
  }
 },
 "nbformat": 4,
 "nbformat_minor": 5
}
