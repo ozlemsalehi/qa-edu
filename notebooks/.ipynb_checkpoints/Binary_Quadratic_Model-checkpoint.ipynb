{
 "cells": [
  {
   "cell_type": "markdown",
   "id": "underlying-bonus",
   "metadata": {},
   "source": [
    "<table width = \"100%\">\n",
    "  <tr style=\"background-color:white;\">\n",
    "    <!-- QWorld Logo -->\n",
    "    <td style=\"text-align:left;width:200px;\"> \n",
    "        <a href=\"https://qworld.net/\" target=\"_blank\"><img src=\"../images/QWorld.png\"> </a></td>\n",
    "    <td style=\"text-align:right;vertical-align:bottom;font-size:16px;\"> \n",
    "        Prepared by <a href=\"https://gitlab.com/AkashNarayanan\" target=\"_blank\"> Akash Narayanan </a></td>    \n",
    "</table>\n",
    "<hr>"
   ]
  },
  {
   "cell_type": "markdown",
   "id": "hungarian-relay",
   "metadata": {},
   "source": [
    "So far, we have learnt about formulating combinatorial optimization problems as QUBO or Ising Model objective functions. We have also learnt how to convert between these two models. Our aim is to solve these problems using a Quantum Computer. To do so, we have to formulate our QUBO or Ising Model problems in a way that they can be run on a Quantum Computer.\n",
    "\n",
    "The [Ocean SDK](https://github.com/dwavesystems/dwave-ocean-sdk) provides many open-source Python tools which can be used to transform our problems into the suitable form. Now let's take a look at `BinaryQuadraticModel` class available in `dimod` package of Ocean SDK."
   ]
  },
  {
   "cell_type": "markdown",
   "id": "regional-phrase",
   "metadata": {},
   "source": [
    "# Binary Quadratic Model (BQM)\n",
    "\n",
    "`BinaryQuadraticModel` class helps us to encode our QUBO or Ising Model problems into a form suitable to be run on a Quantum Computer. Let us quickly recall the objective functions of QUBO and Ising Model.\n",
    "\n",
    "The objective function of QUBO is,\n",
    "\n",
    "$$f(x) = \\sum\\limits_{i}^{N} {Q_{i, i} x_i} + \\sum\\limits_{i < j}^{N} {Q_{i, j} x_i x_j} \\qquad\\qquad x_i\\in \\{0,1\\}$$\n",
    "\n",
    "The objective function of Ising Model is,\n",
    "\n",
    "$$E(s) = \\sum_{i=1}^N h_i s_i + \\sum_{i<j}^N J_{i,j} s_i s_j   \\qquad\\qquad s_i \\in\\{-1,+1\\}$$\n",
    "\n",
    "BQM contains both these models and has many useful methods to work with them. The objective function of BQM is,\n",
    "\n",
    "$$E(v) = \\sum_{i=1} a_i v_i + \\sum_{i<j} b_{i,j} v_i v_j + c \\qquad\\qquad v_i \\in \\{0,1\\} \\text{  or } \\{-1,+1\\}$$\n",
    "\n",
    "We can notice that the binary variable $v_i$ can correspond either to $\\{0, 1\\}$ or to the physical Ising spins $\\{-1, 1\\}$. This way BQM can conveniently represent both QUBO and Ising Model."
   ]
  }
 ],
 "metadata": {
  "kernelspec": {
   "display_name": "Python 3",
   "language": "python",
   "name": "python3"
  },
  "language_info": {
   "codemirror_mode": {
    "name": "ipython",
    "version": 3
   },
   "file_extension": ".py",
   "mimetype": "text/x-python",
   "name": "python",
   "nbconvert_exporter": "python",
   "pygments_lexer": "ipython3",
   "version": "3.7.3"
  },
  "latex_envs": {
   "LaTeX_envs_menu_present": true,
   "autoclose": true,
   "autocomplete": true,
   "bibliofile": "biblio.bib",
   "cite_by": "apalike",
   "current_citInitial": 1,
   "eqLabelWithNumbers": true,
   "eqNumInitial": 1,
   "hotkeys": {
    "equation": "Ctrl-E",
    "itemize": "Ctrl-I"
   },
   "labels_anchors": false,
   "latex_user_defs": false,
   "report_style_numbering": false,
   "user_envs_cfg": false
  },
  "toc": {
   "base_numbering": 1,
   "nav_menu": {},
   "number_sections": false,
   "sideBar": true,
   "skip_h1_title": false,
   "title_cell": "Table of Contents",
   "title_sidebar": "Contents",
   "toc_cell": false,
   "toc_position": {},
   "toc_section_display": true,
   "toc_window_display": false
  }
 },
 "nbformat": 4,
 "nbformat_minor": 5
}
