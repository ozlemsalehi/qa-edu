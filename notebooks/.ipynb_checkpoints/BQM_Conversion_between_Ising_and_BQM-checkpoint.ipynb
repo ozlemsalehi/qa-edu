{
 "cells": [
  {
   "cell_type": "markdown",
   "id": "stock-essay",
   "metadata": {},
   "source": [
    "<table width = \"100%\">\n",
    "  <tr style=\"background-color:white;\">\n",
    "    <!-- QWorld Logo -->\n",
    "    <td style=\"text-align:left;width:200px;\"> \n",
    "        <a href=\"https://qworld.net/\" target=\"_blank\"><img src=\"../images/QWorld.png\"> </a></td>\n",
    "    <td style=\"text-align:right;vertical-align:bottom;font-size:16px;\"> \n",
    "        Prepared by <a href=\"https://gitlab.com/AkashNarayanan\" target=\"_blank\"> Akash Narayanan B </a></td>    \n",
    "</table>\n",
    "<hr>"
   ]
  },
  {
   "cell_type": "markdown",
   "id": "novel-rwanda",
   "metadata": {},
   "source": [
    "# Converting an Ising Model to a BQM\n",
    "\n",
    "## Ising Model - Matrix Representation\n",
    "\n",
    "Unlike the QUBO form, an Ising Model cannot be completely represented by a single matrix. Let's quickly recall the objective function of an Ising Model\n",
    "\n",
    "$$E(s) = \\sum\\limits_{i=1}^N h_i s_i + \\sum\\limits_{i<j}^N J_{i,j} s_i s_j   \\qquad\\qquad s_i, s_j \\in\\{-1,+1\\}$$\n",
    "\n",
    "where,\n",
    "\n",
    "- $s_i, s_j$ - The binary variables correspond to physical Ising spins\n",
    "- $h_i$ - The linear terms are the biases\n",
    "- $J_{i,j}$ - The quadratic terms are the couplings between spins\n",
    "\n",
    "We can completely represent an Ising problem using a vector and a matrix.\n",
    "\n",
    "- The linear terms $h_i$ should be defined as a vector\n",
    "- The quadratic terms $J_{i,j}$ should be defined as an upper-triangular matrix\n",
    "\n",
    "Let us see how this is done using an example. Consider the following objective function\n",
    "\n",
    "$$f(s_1, s_2, s_3, s_4) = 3s_1 + s_2 + 4s_3 + 2s_4 + s_1 s_3 + 6s_1 s_4 + 7s_3 s_4 + 4s_1 s_2$$\n",
    "\n",
    "- The linear terms are $3s_1 + s_2 + 4s_3 + 2s_4$. They can be represented as the following vector\n",
    "\n",
    "$$\n",
    "h = \\begin{bmatrix}\n",
    "        3  &  1   &  4   &  2  \\\\ \n",
    "    \\end{bmatrix}\n",
    "$$\n",
    "\n",
    "- The quadratic terms are $s_1 s_3 + 6s_1 s_4 + 7s_3 s_4 + 4s_1 s_2$. They can be represented as the following matrix\n",
    "\n",
    "$$\n",
    "J = \\begin{bmatrix}\n",
    "        0  &  4   &  1   &  6  \\\\ \n",
    "        0   &  0  &  0   &  0  \\\\ \n",
    "        0   &  0   &  0  &  7  \\\\ \n",
    "        0   &  0   &  0  & 0  \\\\ \n",
    "    \\end{bmatrix}\n",
    "$$"
   ]
  },
  {
   "cell_type": "markdown",
   "id": "adaptive-tennessee",
   "metadata": {},
   "source": [
    "## Ising Model - Dictionary Representation\n",
    "\n",
    "As we have already discussed, it is good to know how to represent our problem as a dictionary. We can define the vector $h$ and the matrix $J$ as two separate dictionaries.\n",
    "\n",
    "The keys of the dictionary can either be variable names or numbers indicating the position of a particular term.\n",
    "\n",
    "The dictionary representation of vector $h$ is"
   ]
  },
  {
   "cell_type": "code",
   "execution_count": 1,
   "id": "statutory-modification",
   "metadata": {
    "ExecuteTime": {
     "end_time": "2021-09-23T11:51:25.616345Z",
     "start_time": "2021-09-23T11:51:25.611591Z"
    }
   },
   "outputs": [],
   "source": [
    "h = {'s1': 3, 's2': 1,\n",
    "     's3': 4, 's4': 2}"
   ]
  },
  {
   "cell_type": "markdown",
   "id": "executive-waterproof",
   "metadata": {},
   "source": [
    "The dictionary representation of the matrix $J$ is"
   ]
  },
  {
   "cell_type": "code",
   "execution_count": 2,
   "id": "understood-whale",
   "metadata": {
    "ExecuteTime": {
     "end_time": "2021-09-23T11:51:25.738519Z",
     "start_time": "2021-09-23T11:51:25.633584Z"
    }
   },
   "outputs": [],
   "source": [
    "J = {('s1', 's2'): 4, ('s1', 's3'): 1,\n",
    "     ('s1', 's4'): 6, ('s3', 's4'): 7}"
   ]
  },
  {
   "cell_type": "markdown",
   "id": "narrative-index",
   "metadata": {},
   "source": [
    "An Ising Model can be converted to a Binary Quadratic Model using the `from_ising` method of the `BinaryQuadraticModel` class.\n",
    "\n",
    "## `from_ising` Method\n",
    "\n",
    "### Parameters\n",
    "\n",
    "- `h` - The linear terms should be passed as a dictionary or a list. If it is passed as a list, the indices would be the variable labels.\n",
    "- `J` - The quadratic terms should be passed as a dictionary.\n",
    "- `offset` (optional) - Constant offset\n",
    "\n",
    "Let us create a BQM from the objective function used in the previous example. The linear and quadratic terms are already defined as `h` and `J`. We can simply pass these as arguments to the `from_ising` method."
   ]
  },
  {
   "cell_type": "code",
   "execution_count": 3,
   "id": "piano-output",
   "metadata": {
    "ExecuteTime": {
     "end_time": "2021-09-23T11:51:27.177618Z",
     "start_time": "2021-09-23T11:51:25.742608Z"
    }
   },
   "outputs": [
    {
     "name": "stdout",
     "output_type": "stream",
     "text": [
      "BinaryQuadraticModel({s1: 3.0, s2: 1.0, s3: 4.0, s4: 2.0}, {('s1', 's2'): 4, ('s1', 's3'): 1, ('s1', 's4'): 6, ('s3', 's4'): 7}, 0, 'SPIN')\n"
     ]
    }
   ],
   "source": [
    "import dimod\n",
    "\n",
    "h = {'s1': 3, 's2': 1,\n",
    "     's3': 4, 's4': 2}\n",
    "\n",
    "J = {('s1', 's2'): 4, ('s1', 's3'): 1,\n",
    "     ('s1', 's4'): 6, ('s3', 's4'): 7}\n",
    "\n",
    "bqm_ising = dimod.BinaryQuadraticModel.from_ising(h, J)\n",
    "\n",
    "print(bqm_ising)"
   ]
  },
  {
   "cell_type": "markdown",
   "id": "horizontal-trauma",
   "metadata": {},
   "source": [
    "# Converting a BQM to an Ising Model\n",
    "\n",
    "Similarly a Binary Quadratic Model can be converted to an Ising Model using the `to_ising` method of the `BinaryQuadraticModel` class.\n",
    "\n",
    "If the `vartype` of the BQM is `'BINARY'`, it is converted to `'SPIN'`.\n",
    "\n",
    "## `to_ising` Method\n",
    "\n",
    "This method returns a tuple of form `(linear, quadratic, offset)` where `linear` and `quadratic` are dictionaries and `offset` is a number.\n",
    "\n",
    "Let's consider the following BQM instance"
   ]
  },
  {
   "cell_type": "code",
   "execution_count": 4,
   "id": "blessed-motorcycle",
   "metadata": {
    "ExecuteTime": {
     "end_time": "2021-09-23T11:51:27.188745Z",
     "start_time": "2021-09-23T11:51:27.184066Z"
    }
   },
   "outputs": [],
   "source": [
    "bqm = dimod.BinaryQuadraticModel({'s1': 3.0, 's2': 1.0, 's3': 4.0, 's4': 2.0},\n",
    "                                 {('s1', 's2'): 4, ('s1', 's3'): 1,\n",
    "                                  ('s1', 's4'): 6, ('s3', 's4'): 7}, \n",
    "                                 0, \n",
    "                                 'SPIN')"
   ]
  },
  {
   "cell_type": "markdown",
   "id": "ready-yeast",
   "metadata": {},
   "source": [
    "Now let's convert it to the Ising form using the `to_ising` method."
   ]
  },
  {
   "cell_type": "code",
   "execution_count": 5,
   "id": "median-double",
   "metadata": {
    "ExecuteTime": {
     "end_time": "2021-09-23T11:51:27.298209Z",
     "start_time": "2021-09-23T11:51:27.194877Z"
    }
   },
   "outputs": [
    {
     "name": "stdout",
     "output_type": "stream",
     "text": [
      "({'s1': 3.0, 's2': 1.0, 's3': 4.0, 's4': 2.0}, {('s1', 's2'): 4, ('s1', 's3'): 1, ('s1', 's4'): 6, ('s3', 's4'): 7}, 0)\n"
     ]
    }
   ],
   "source": [
    "ising = bqm.to_ising()\n",
    "\n",
    "print(ising)"
   ]
  },
  {
   "cell_type": "markdown",
   "id": "recent-variety",
   "metadata": {},
   "source": [
    "In the above output,\n",
    "\n",
    "- The first term of the tuple corresponds to the linear terms\n",
    "    ```python\n",
    "    {'s1': 3.0, 's2': 1.0, 's3': 4.0, 's4': 2.0}\n",
    "    ```\n",
    "- The second term of the tuple corresponds to the quadratic terms\n",
    "\n",
    "    ```python\n",
    "    {('s1', 's2'): 4, ('s1', 's3'): 1, ('s1', 's4'): 6, ('s3', 's4'): 7}\n",
    "    ```\n",
    "   \n",
    "- The third term corresponds to the offset `0`.    "
   ]
  }
 ],
 "metadata": {
  "kernelspec": {
   "display_name": "Python 3",
   "language": "python",
   "name": "python3"
  },
  "language_info": {
   "codemirror_mode": {
    "name": "ipython",
    "version": 3
   },
   "file_extension": ".py",
   "mimetype": "text/x-python",
   "name": "python",
   "nbconvert_exporter": "python",
   "pygments_lexer": "ipython3",
   "version": "3.7.3"
  },
  "latex_envs": {
   "LaTeX_envs_menu_present": true,
   "autoclose": true,
   "autocomplete": true,
   "bibliofile": "biblio.bib",
   "cite_by": "apalike",
   "current_citInitial": 1,
   "eqLabelWithNumbers": true,
   "eqNumInitial": 1,
   "hotkeys": {
    "equation": "Ctrl-E",
    "itemize": "Ctrl-I"
   },
   "labels_anchors": false,
   "latex_user_defs": false,
   "report_style_numbering": false,
   "user_envs_cfg": false
  },
  "toc": {
   "base_numbering": 1,
   "nav_menu": {},
   "number_sections": false,
   "sideBar": true,
   "skip_h1_title": false,
   "title_cell": "Table of Contents",
   "title_sidebar": "Contents",
   "toc_cell": false,
   "toc_position": {},
   "toc_section_display": true,
   "toc_window_display": false
  }
 },
 "nbformat": 4,
 "nbformat_minor": 5
}
