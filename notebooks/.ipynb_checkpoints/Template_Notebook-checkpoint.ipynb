{
 "cells": [
  {
   "cell_type": "markdown",
   "id": "ordered-institution",
   "metadata": {},
   "source": [
    "<table width = \"100%\">\n",
    "  <tr style=\"background-color:white;\">\n",
    "    <!-- QWorld Logo -->\n",
    "    <td style=\"text-align:left;width:200px;\"> \n",
    "        <img src=\"../images/QWorld.png\"> </td>\n",
    "    <td style=\"text-align:right;vertical-align:bottom;font-size:16px;\"> \n",
    "        Prepared by <a href=\"https://gitlab.com/pjr1363\" target=\"_blank\"> Paul Joseph Robin </a></td>\n",
    "    </tr> \n",
    " </table>\n",
    " \n",
    "<hr>"
   ]
  },
  {
   "cell_type": "markdown",
   "id": "bored-beatles",
   "metadata": {},
   "source": [
    "## Main Header"
   ]
  },
  {
   "cell_type": "markdown",
   "id": "palestinian-pride",
   "metadata": {},
   "source": [
    "Some text"
   ]
  },
  {
   "cell_type": "code",
   "execution_count": null,
   "id": "rubber-peninsula",
   "metadata": {},
   "outputs": [],
   "source": [
    "\n",
    "\n",
    "\n",
    "#Some code\n",
    "\n",
    "\n"
   ]
  },
  {
   "cell_type": "markdown",
   "id": "continued-original",
   "metadata": {},
   "source": [
    "### Sub header"
   ]
  },
  {
   "cell_type": "markdown",
   "id": "fuzzy-indianapolis",
   "metadata": {},
   "source": [
    "\n",
    "\n",
    "Some text"
   ]
  },
  {
   "cell_type": "markdown",
   "id": "artistic-dutch",
   "metadata": {},
   "source": [
    "### Task 1\n",
    "\n",
    "Task 1 content"
   ]
  },
  {
   "cell_type": "markdown",
   "id": "flying-belize",
   "metadata": {},
   "source": [
    "[click for our solution](Template_Notebook_Solutions.ipynb#task1)"
   ]
  },
  {
   "cell_type": "code",
   "execution_count": null,
   "id": "passing-stephen",
   "metadata": {},
   "outputs": [],
   "source": []
  }
 ],
 "metadata": {
  "kernelspec": {
   "display_name": "Python 3",
   "language": "python",
   "name": "python3"
  },
  "language_info": {
   "codemirror_mode": {
    "name": "ipython",
    "version": 3
   },
   "file_extension": ".py",
   "mimetype": "text/x-python",
   "name": "python",
   "nbconvert_exporter": "python",
   "pygments_lexer": "ipython3",
   "version": "3.7.3"
  }
 },
 "nbformat": 4,
 "nbformat_minor": 5
}
