{
 "cells": [
  {
   "cell_type": "markdown",
   "id": "rural-representation",
   "metadata": {},
   "source": [
    "## Task\n",
    "\n",
    "Find out what assignment of $x_1$ and $x_2$ minimizes the objective function\n",
    "\n",
    "$$f(x_1, x_2) = 5x_1 + 7x_1 x_2 - 3x_2$$\n",
    "\n",
    "### Solution\n",
    "\n",
    "When we assign $x_1 = 0$ and $x_2 = 1$, the value of the given objective function turns out to be $-3$. This is the lowest possible value out of the four combinations.\n",
    "\n",
    "We can also calculate the value of the objective function analytically.\n",
    "\n",
    "### Analytical Solution\n",
    "\n",
    "- $x_1 = 0$ and $x_2 = 0$\n",
    "\n",
    "    $f(0, 0) = 5(0) + 7(0)(0) - 3(0) = 0$\n",
    "  \n",
    "\n",
    "- $x_1 = 0$ and $x_2 = 1$\n",
    "\n",
    "    $f(0, 1) = 5(0) + 7(0)(1) - 3(1) = -3$\n",
    "\n",
    "\n",
    "- $x_1 = 1$ and $x_2 = 0$\n",
    "    \n",
    "    $f(1, 0) = 5(1) + 7(1)(0) - 3(0) = 5$\n",
    "\n",
    "\n",
    "- $x_1 = 1$ and $x_2 = 1$\n",
    "\n",
    "    $f(1, 1) = 5(1) + 7(1)(1) - 3(1) = 9$\n",
    "    \n",
    "Therefore, assigning $x_1 = 0$ and $x_2 = 1$ minimizes the given objective function."
   ]
  }
 ],
 "metadata": {
  "kernelspec": {
   "display_name": "Python 3",
   "language": "python",
   "name": "python3"
  },
  "language_info": {
   "codemirror_mode": {
    "name": "ipython",
    "version": 3
   },
   "file_extension": ".py",
   "mimetype": "text/x-python",
   "name": "python",
   "nbconvert_exporter": "python",
   "pygments_lexer": "ipython3",
   "version": "3.7.3"
  },
  "latex_envs": {
   "LaTeX_envs_menu_present": true,
   "autoclose": true,
   "autocomplete": true,
   "bibliofile": "biblio.bib",
   "cite_by": "apalike",
   "current_citInitial": 1,
   "eqLabelWithNumbers": true,
   "eqNumInitial": 1,
   "hotkeys": {
    "equation": "Ctrl-E",
    "itemize": "Ctrl-I"
   },
   "labels_anchors": false,
   "latex_user_defs": false,
   "report_style_numbering": false,
   "user_envs_cfg": false
  },
  "toc": {
   "base_numbering": 1,
   "nav_menu": {},
   "number_sections": false,
   "sideBar": true,
   "skip_h1_title": false,
   "title_cell": "Table of Contents",
   "title_sidebar": "Contents",
   "toc_cell": false,
   "toc_position": {},
   "toc_section_display": true,
   "toc_window_display": false
  }
 },
 "nbformat": 4,
 "nbformat_minor": 5
}
