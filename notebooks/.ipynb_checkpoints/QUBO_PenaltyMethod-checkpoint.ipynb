{
 "cells": [
  {
   "cell_type": "markdown",
   "id": "optimum-roman",
   "metadata": {},
   "source": [
    "<table width = \"100%\">\n",
    "  <tr style=\"background-color:white;\">\n",
    "    <!-- QWorld Logo -->\n",
    "    <td style=\"text-align:left;width:200px;\"> \n",
    "        <a href=\"https://qworld.net/\" target=\"_blank\"><img src=\"../images/QWorld.png\"> </a></td>\n",
    "    <td style=\"text-align:right;vertical-align:bottom;font-size:16px;\"> \n",
    "        Prepared by <a href=\"https://gitlab.com/sabahuddin.ahmad\" target=\"_blank\"> Sabah Ud Din Ahmad </a></td>\n",
    "    </tr> \n",
    " </table>\n",
    " \n",
    "<hr>"
   ]
  },
  {
   "cell_type": "markdown",
   "id": "aboriginal-sacrifice",
   "metadata": {},
   "source": [
    "## QUBO Formulation with Penalty Method"
   ]
  },
  {
   "cell_type": "markdown",
   "id": "increasing-luxembourg",
   "metadata": {},
   "source": [
    "In the previous section, we learnt about the maximum cut problem where the problem characteristics led directly to an optimazation problem in the desired QUBO form. The natural QUBO form contains no constraints. \n",
    "\n",
    "However, there are many problems that include constraints that must be satisfied to reach an optimum solution. Many of these constrained problems can be reconverted to formulate the desired QUBO form using a method known as **Penalty Method**."
   ]
  },
  {
   "cell_type": "markdown",
   "id": "potential-screen",
   "metadata": {},
   "source": [
    "### Penalty Method"
   ]
  },
  {
   "cell_type": "markdown",
   "id": "molecular-going",
   "metadata": {},
   "source": [
    "Penalty Method solves a constrained optimization problem using a certain class of algorithms by replacing it with a series of unconstrained problems whose solutions approximate the solution of the original constrained optimization problem. \n",
    "\n",
    "To create the related unconstrained problems, a **penalty function** is added to the original objective function. The penalties are chosen such that the effects of constraints can be included in the final optimal solution. Penalty function includes a penalty parameter multiplied by a measure of violation of the constraints. The measure of violation is zero in the region where constraints are not violated; non-zero otherwise. Thus, the penalties are formulated so that they equal zero for feasible solutions; non-zero for infeasible solutions. \n",
    "\n",
    "Let's assume we have a constrained problem where we are minimizing a function,\n",
    "$$\\min f(x)$$\n",
    "where the constraint is,\n",
    "$$c_i(x)\\leq 0, \\forall i \\in I$$\n",
    "So, the related series of unconstrained minimization problems are:\n",
    "$$\\min \\Phi_k(x) = f(x) + P_k \\sum_{i \\in I} g(c_i(x))$$\n",
    "\n",
    "where $g(c_i(x))= \\max (0, c_i(x))^2$ is the penalty function and $P_k$ are the penalty parameters. \n",
    "\n",
    "In each iteration k of the penalty method, we increase the penalty parameter, solve the unconstrained problem and use its slution for the next iteration. Eventually, the solutions converge to a solution which is the actual solution of the original constrained problem. \n",
    "\n",
    "Now, lets understand it in another way. \n",
    "\n",
    "#### Transforming Linear Equality Constraints To Equivalent Penalties\n",
    "Suppose we have integer variables $y_1,....,y_k$ and suppose that $f(y_1,....,y_k)$ is our objective function to be minimized. \n",
    "\n",
    "Given a linear equality of the form,\n",
    "$$\\sum_{i=1}^{k} a_iy_i=b$$\n",
    "\n",
    "where $a_i, b \\in \\mathbb{R}$.\n",
    "The transformation results in the following objective function,\n",
    "\n",
    "$$f(y_1,....,y_k)+P\\left( \\sum_{i=1}^{k}a_iy_i-b\\right)^2$$\n",
    "\n",
    "If variables $y_i$ satisfy the equality, this reduces to the original $f(y_1,....,y_k)$. Note, $P \\in \\mathbb{N}$ (Natural numbers). \n",
    "\n",
    "#### Transforming Linear Inequality Constraints To Equivalent Penalties\n",
    "Given a linear inequality of the form,\n",
    "$$\\sum_{i=1}^{k} a_iy_i \\leq b$$\n",
    "\n",
    "Linear inequality constraints have to be transformed to equality constraints by using slack variables i-e, $\\eta$.\n",
    "\n",
    "$$\\sum_{i=1}^{k} a_iy_i+\\eta=b$$\n",
    "\n",
    "The transformation results in the following objective function,\n",
    "\n",
    "$$f(y_1,....,y_k)+P\\left( \\sum_{i=1}^{k}a_iy_i+\\eta-b\\right)^2$$\n",
    "\n",
    "**Note:** $\\eta$ has to be optimized too. The slack variable, $\\eta$ can be bounded as follows,\n",
    "\n",
    "$$0\\leq \\eta \\leq - \\left(\\sum_{i=1}^{k} \\min \\{a_i\\underline{\\rm y_i}, a_i\\overline{\\rm y_i}\\}-b\\right)$$\n",
    "#### Specific Cases\n",
    "For specific constraints, there are some useful known quadratic penalties. \n",
    "\n",
    "|Classical Constraint|    Equivalent Quadratic Penalty         |\n",
    "|:-----|:-----------|\n",
    "|$x+y \\leq 1$ |$P(xy)$ |\n",
    "|$x+y \\geq 1$ |$P(1-x-y+xy)$|\n",
    "|$x+y=1$ |$P(1-x-y+2xy)$ |\n",
    "|$x \\leq y$ |$P(x-xy)$ |\n",
    "|$x_1+ x_2+x_3 \\leq 1$ |$P(x_1x_2+x_1x_3+x_2x_3)$ |\n",
    "|$x=y$ |$P(x+y-2xy)$ |\n",
    "\n",
    "**Note:** All variables here are binary. **P** is a positive, scalar penalty parameter and it must be chosen to be sufficiently large. "
   ]
  },
  {
   "cell_type": "markdown",
   "id": "threaded-hurricane",
   "metadata": {},
   "source": [
    "### Task 1\n",
    "\n",
    "Consider a constrained problem of the form:\n",
    "$$\\min y = f(x)$$\n",
    "\n",
    "which is subjected to the constraint $x_1+ x_2 \\leq 1$ ($x_1$ & $x_2$ are binary variables). What will be the equivalent penalty for this problem? What will be the form of the related unconstrained problem?"
   ]
  },
  {
   "cell_type": "markdown",
   "id": "applicable-identity",
   "metadata": {},
   "source": [
    "[Click here for solution](QUBO_PenaltyMethod_Solutions.ipynb#task1)\n",
    "\n",
    "***"
   ]
  },
  {
   "cell_type": "markdown",
   "id": "global-floor",
   "metadata": {},
   "source": [
    "### Task 2\n",
    "\n",
    "Consider a constrained problem of the form:\n",
    "$$\\min y = f(x)$$\n",
    "\n",
    "which is subjected to the constraint $x_1+ x_2 = 1$ ($x_1$ & $x_2$ are binary variables). What will be the equivalent penalty for this problem? What will be the form of the related unconstrained problem?"
   ]
  },
  {
   "cell_type": "markdown",
   "id": "exceptional-favor",
   "metadata": {},
   "source": [
    "[Click here for solution](QUBO_PenaltyMethod_Solutions.ipynb#task2)\n",
    "\n",
    "***"
   ]
  },
  {
   "cell_type": "markdown",
   "id": "therapeutic-cherry",
   "metadata": {},
   "source": [
    "### References\n",
    "***\n",
    "1. Wikipedia. Penalty method. *The Free Encyclopedia.* https://en.wikipedia.org/w/index.php?title=Penalty_method&oldid=1020411673\n",
    "2. Quantum Bridge Analytics I: A Tutorial on Formulating and Using QUBO Models *(Fred Glover, Gary Kochenberger, Yu Du)* [[arXiv Preprint]](https://arxiv.org/abs/1811.11538)\n",
    "3. Unconstrained Binary Models of the Travelling Salesman Problem Variants for Quantum Optimization *(Özlem Salehi, Adam Glos, Jarosław Adam Miszczak)* [[arXiv Preprint]](https://arxiv.org/abs/2106.09056)"
   ]
  }
 ],
 "metadata": {
  "kernelspec": {
   "display_name": "Python 3",
   "language": "python",
   "name": "python3"
  },
  "language_info": {
   "codemirror_mode": {
    "name": "ipython",
    "version": 3
   },
   "file_extension": ".py",
   "mimetype": "text/x-python",
   "name": "python",
   "nbconvert_exporter": "python",
   "pygments_lexer": "ipython3",
   "version": "3.7.3"
  },
  "latex_envs": {
   "LaTeX_envs_menu_present": true,
   "autoclose": true,
   "autocomplete": true,
   "bibliofile": "biblio.bib",
   "cite_by": "apalike",
   "current_citInitial": 1,
   "eqLabelWithNumbers": true,
   "eqNumInitial": 1,
   "hotkeys": {
    "equation": "Ctrl-E",
    "itemize": "Ctrl-I"
   },
   "labels_anchors": false,
   "latex_user_defs": false,
   "report_style_numbering": false,
   "user_envs_cfg": false
  },
  "toc": {
   "base_numbering": 1,
   "nav_menu": {},
   "number_sections": true,
   "sideBar": true,
   "skip_h1_title": false,
   "title_cell": "Table of Contents",
   "title_sidebar": "Contents",
   "toc_cell": false,
   "toc_position": {},
   "toc_section_display": true,
   "toc_window_display": false
  }
 },
 "nbformat": 4,
 "nbformat_minor": 5
}
