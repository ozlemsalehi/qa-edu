{
 "cells": [
  {
   "cell_type": "markdown",
   "id": "bigger-marks",
   "metadata": {},
   "source": [
    "<table width = \"100%\">\n",
    "  <tr style=\"background-color:white;\">\n",
    "    <!-- QWorld Logo -->\n",
    "    <td style=\"text-align:left;width:200px;\"> \n",
    "        <a href=\"https://qworld.net/\" target=\"_blank\"><img src=\"../images/QWorld.png\"> </a></td>\n",
    "    <td style=\"text-align:right;vertical-align:bottom;font-size:16px;\"> \n",
    "        Prepared by <a href=\"https://gitlab.com/AkashNarayanan\" target=\"_blank\"> Akash Narayanan B </a></td>    \n",
    "</table>\n",
    "<hr>"
   ]
  },
  {
   "cell_type": "markdown",
   "id": "historical-purse",
   "metadata": {},
   "source": [
    "# Task 1\n",
    "\n",
    "Create a QUBO instance of BQM for the following objective function\n",
    "\n",
    "$$f(x_1, x_2) = 5x_1 + 7x_1 x_2 - 3x_2$$\n",
    "\n",
    "## Solution\n",
    "\n",
    "In the objective function,\n",
    "\n",
    "- The linear part is $5x_1 - 3x_2$\n",
    "- The quadratic part is $7x_1 x_2$\n",
    "- The offset is 0"
   ]
  },
  {
   "cell_type": "code",
   "execution_count": 1,
   "id": "handed-alert",
   "metadata": {
    "ExecuteTime": {
     "end_time": "2021-08-31T10:00:22.461016Z",
     "start_time": "2021-08-31T10:00:22.285818Z"
    }
   },
   "outputs": [],
   "source": [
    "from dimod import BinaryQuadraticModel\n",
    "\n",
    "linear = {'x1': 5, 'x2': -3}\n",
    "quadratic = {('x1', 'x2'): 7}\n",
    "offset = 0\n",
    "vartype = 'BINARY'\n",
    "\n",
    "bqm_qubo = BinaryQuadraticModel(linear, quadratic, offset, vartype)"
   ]
  },
  {
   "cell_type": "markdown",
   "id": "cooked-cancellation",
   "metadata": {},
   "source": [
    "# Task 2\n",
    "\n",
    "Create an Ising instance of BQM for the following objective function\n",
    "\n",
    "$$f(x_1, x_2, x_3, x_4) = x_1 + x_2 + x_3 + x_4 - 6x_1 x_3 - 6x_1 x_4 - 6x_3 x_4 - 6x_1 x_2 + 3$$\n",
    "\n",
    "## Solution\n",
    "\n",
    "In the objective function, \n",
    "\n",
    "- The linear part is $x_1 + x_2 + x_3 + x_4$\n",
    "- The quadratic part is $- 6x_1 x_3 - 6x_1 x_4 - 6x_3 x_4 - 6x_1 x_2$\n",
    "- The offset is 3"
   ]
  },
  {
   "cell_type": "code",
   "execution_count": 2,
   "id": "wrapped-auditor",
   "metadata": {
    "ExecuteTime": {
     "end_time": "2021-08-31T10:00:22.475418Z",
     "start_time": "2021-08-31T10:00:22.466069Z"
    }
   },
   "outputs": [],
   "source": [
    "from dimod import BinaryQuadraticModel\n",
    "\n",
    "linear = {'x1': 1, 'x2': 1, 'x3': 1, 'x4': 1}\n",
    "quadratic = {('x1', 'x3'): -6, ('x1', 'x4'): -6,\n",
    "             ('x3', 'x4'): -6, ('x1', 'x2'): -6}\n",
    "offset = 3\n",
    "vartype = 'SPIN'\n",
    "\n",
    "bqm_ising = BinaryQuadraticModel(linear, quadratic, offset, vartype)"
   ]
  },
  {
   "cell_type": "markdown",
   "id": "advance-species",
   "metadata": {},
   "source": [
    "# Task 3\n",
    "\n",
    "Find the `linear`, `quadratic`, `offset` and `vartype` values of the following instance of BQM.\n",
    "\n",
    "## Solution"
   ]
  },
  {
   "cell_type": "code",
   "execution_count": 3,
   "id": "immune-poverty",
   "metadata": {
    "ExecuteTime": {
     "end_time": "2021-08-31T10:00:22.576965Z",
     "start_time": "2021-08-31T10:00:22.480605Z"
    }
   },
   "outputs": [
    {
     "name": "stdout",
     "output_type": "stream",
     "text": [
      "Attribute Values:\n",
      "\n",
      "Linear: {x1: 3.0, x2: -1.0, x3: 10.0, x4: 7.0}\n",
      "Quadratic: {('x1', 'x2'): 2, ('x1', 'x3'): -5, ('x2', 'x3'): 3, ('x3', 'x4'): 11}\n",
      "Offset: 8\n",
      "Variable Type: Vartype.BINARY\n"
     ]
    }
   ],
   "source": [
    "%run bqm_functions.py\n",
    "\n",
    "bqm_mystery = BinaryQuadraticModel(linear, quadratic, offset, vartype)\n",
    "\n",
    "# Enter your code here\n",
    "print(\"Attribute Values:\\n\")\n",
    "\n",
    "print(f\"Linear: {bqm_mystery.linear}\")\n",
    "print(f\"Quadratic: {bqm_mystery.quadratic}\")\n",
    "print(f\"Offset: {bqm_mystery.offset}\")\n",
    "print(f\"Variable Type: {bqm_mystery.vartype}\")"
   ]
  },
  {
   "cell_type": "markdown",
   "id": "opposite-retrieval",
   "metadata": {},
   "source": [
    "# Task 4\n",
    "\n",
    "Find the optimal sample of the QUBO instance that produces the lowest energy value for the objective function used in Task 1.\n",
    "\n",
    "$$f(x_1, x_2) = 5x_1 + 7x_1 x_2 - 3x_2$$\n",
    "\n",
    "## Solution\n",
    "\n",
    "First, we have to create a QUBO instance."
   ]
  },
  {
   "cell_type": "code",
   "execution_count": 4,
   "id": "mobile-split",
   "metadata": {
    "ExecuteTime": {
     "end_time": "2021-08-31T10:00:22.687811Z",
     "start_time": "2021-08-31T10:00:22.583862Z"
    }
   },
   "outputs": [],
   "source": [
    "from dimod import BinaryQuadraticModel\n",
    "from dimod.reference.samplers import ExactSolver\n",
    "\n",
    "linear = {'x1': 5, 'x2': -3}\n",
    "quadratic = {('x1', 'x2'): 7}\n",
    "offset = 0\n",
    "vartype = 'BINARY'\n",
    "\n",
    "bqm_qubo = BinaryQuadraticModel(linear, quadratic, offset, vartype)"
   ]
  },
  {
   "cell_type": "markdown",
   "id": "dramatic-obligation",
   "metadata": {},
   "source": [
    "Then we can find the optimal solution using the classical sampler."
   ]
  },
  {
   "cell_type": "code",
   "execution_count": 5,
   "id": "romantic-waste",
   "metadata": {
    "ExecuteTime": {
     "end_time": "2021-08-31T10:00:22.759622Z",
     "start_time": "2021-08-31T10:00:22.700291Z"
    }
   },
   "outputs": [
    {
     "name": "stdout",
     "output_type": "stream",
     "text": [
      "  x1 x2 energy num_oc.\n",
      "3  0  1   -3.0       1\n",
      "0  0  0    0.0       1\n",
      "1  1  0    5.0       1\n",
      "2  1  1    9.0       1\n",
      "['BINARY', 4 rows, 4 samples, 2 variables]\n",
      "\n",
      "Therefore the sample {'x1': 0, 'x2': 1} producesthe lowest energy value of -3.0.\n"
     ]
    }
   ],
   "source": [
    "sampler = ExactSolver()\n",
    "sampleset = sampler.sample(bqm_qubo)\n",
    "\n",
    "print(sampleset)\n",
    "\n",
    "print(f\"\\nTherefore the sample {sampleset.first.sample} produces\"\n",
    "      f\"the lowest energy value of {sampleset.first.energy}.\")"
   ]
  },
  {
   "cell_type": "markdown",
   "id": "central-ivory",
   "metadata": {},
   "source": [
    "# Task 5\n",
    "\n",
    "Find the optimal sample of the Ising instance that produces the lowest energy value for the objective function used in Task 2.\n",
    "\n",
    "$$f(x_1, x_2, x_3, x_4) = x_1 + x_2 + x_3 + x_4 - 6x_1 x_3 - 6x_1 x_4 - 6x_3 x_4 - 6x_1 x_2 + 3$$\n",
    "\n",
    "## Solution\n",
    "\n",
    "First, we have to create an Ising instance."
   ]
  },
  {
   "cell_type": "code",
   "execution_count": 6,
   "id": "compound-teacher",
   "metadata": {
    "ExecuteTime": {
     "end_time": "2021-08-31T10:00:22.796194Z",
     "start_time": "2021-08-31T10:00:22.761430Z"
    }
   },
   "outputs": [],
   "source": [
    "from dimod import BinaryQuadraticModel\n",
    "from dimod.reference.samplers import ExactSolver\n",
    "\n",
    "linear = {'x1': 1, 'x2': 1, 'x3': 1, 'x4': 1}\n",
    "quadratic = {('x1', 'x3'): -6, ('x1', 'x4'): -6,\n",
    "             ('x3', 'x4'): -6, ('x1', 'x2'): -6}\n",
    "offset = 3\n",
    "vartype = 'SPIN'\n",
    "\n",
    "bqm_ising = BinaryQuadraticModel(linear, quadratic, offset, vartype)"
   ]
  },
  {
   "cell_type": "markdown",
   "id": "independent-native",
   "metadata": {},
   "source": [
    "Then we can find the optimal solution using the classical sampler."
   ]
  },
  {
   "cell_type": "code",
   "execution_count": 7,
   "id": "perfect-design",
   "metadata": {
    "ExecuteTime": {
     "end_time": "2021-08-31T10:00:22.847260Z",
     "start_time": "2021-08-31T10:00:22.797761Z"
    }
   },
   "outputs": [
    {
     "name": "stdout",
     "output_type": "stream",
     "text": [
      "   x1 x2 x3 x4 energy num_oc.\n",
      "0  -1 -1 -1 -1  -25.0       1\n",
      "10 +1 +1 +1 +1  -17.0       1\n",
      "3  -1 +1 -1 -1  -11.0       1\n",
      "9  +1 -1 +1 +1   -7.0       1\n",
      "7  -1 -1 +1 -1    1.0       1\n",
      "15 -1 -1 -1 +1    1.0       1\n",
      "2  +1 +1 -1 -1    3.0       1\n",
      "8  -1 -1 +1 +1    3.0       1\n",
      "5  +1 +1 +1 -1    5.0       1\n",
      "13 +1 +1 -1 +1    5.0       1\n",
      "1  +1 -1 -1 -1   13.0       1\n",
      "4  -1 +1 +1 -1   15.0       1\n",
      "6  +1 -1 +1 -1   15.0       1\n",
      "12 -1 +1 -1 +1   15.0       1\n",
      "14 +1 -1 -1 +1   15.0       1\n",
      "11 -1 +1 +1 +1   17.0       1\n",
      "['SPIN', 16 rows, 16 samples, 4 variables]\n",
      "\n",
      "Therefore the sample {'x1': -1, 'x2': -1, 'x3': -1, 'x4': -1} producesthe lowest energy value of -25.0.\n"
     ]
    }
   ],
   "source": [
    "sampler = ExactSolver()\n",
    "sampleset = sampler.sample(bqm_ising)\n",
    "\n",
    "print(sampleset)\n",
    "\n",
    "print(f\"\\nTherefore the sample {sampleset.first.sample} produces\"\n",
    "      f\"the lowest energy value of {sampleset.first.energy}.\")"
   ]
  },
  {
   "cell_type": "markdown",
   "id": "optimum-victim",
   "metadata": {},
   "source": [
    "# Task 6\n",
    "\n",
    "Create a QUBO and an Ising instance of BQM for the given objective function. Find the optimal solution for both the instances and compare the results.\n",
    "\n",
    "$$f(x_1, x_2, x_3, x_4) = 3x_1 - x_2 + 10x_3 + 7x_4 + 2x_1 x_2 - 5x_1 x_3 + 3x_2 x_3 + 11x_3 x_4$$\n",
    "\n",
    "## Solution\n",
    "\n",
    "### QUBO Instance"
   ]
  },
  {
   "cell_type": "code",
   "execution_count": 8,
   "id": "continental-diana",
   "metadata": {
    "ExecuteTime": {
     "end_time": "2021-08-31T10:00:22.895793Z",
     "start_time": "2021-08-31T10:00:22.848821Z"
    }
   },
   "outputs": [],
   "source": [
    "from dimod import BinaryQuadraticModel\n",
    "from dimod.reference.samplers import ExactSolver\n",
    "\n",
    "linear = {'x1': 3, 'x2': -1, 'x3': 10, 'x4': 7}\n",
    "quadratic = {('x1', 'x2'): 2, ('x1', 'x3'): -5,\n",
    "             ('x2', 'x3'): 3, ('x3', 'x4'): 11}\n",
    "offset = 8\n",
    "vartype = 'BINARY'\n",
    "\n",
    "bqm_qubo = BinaryQuadraticModel(linear, quadratic, offset, vartype)"
   ]
  },
  {
   "cell_type": "markdown",
   "id": "synthetic-aurora",
   "metadata": {},
   "source": [
    "Now, let's find the optimal solution for the QUBO instance"
   ]
  },
  {
   "cell_type": "code",
   "execution_count": 9,
   "id": "federal-plain",
   "metadata": {
    "ExecuteTime": {
     "end_time": "2021-08-31T10:00:22.959653Z",
     "start_time": "2021-08-31T10:00:22.897823Z"
    }
   },
   "outputs": [
    {
     "name": "stdout",
     "output_type": "stream",
     "text": [
      "   x1 x2 x3 x4 energy num_oc.\n",
      "3   0  1  0  0    7.0       1\n",
      "0   0  0  0  0    8.0       1\n",
      "1   1  0  0  0   11.0       1\n",
      "2   1  1  0  0   12.0       1\n",
      "12  0  1  0  1   14.0       1\n",
      "15  0  0  0  1   15.0       1\n",
      "6   1  0  1  0   16.0       1\n",
      "7   0  0  1  0   18.0       1\n",
      "14  1  0  0  1   18.0       1\n",
      "13  1  1  0  1   19.0       1\n",
      "4   0  1  1  0   20.0       1\n",
      "5   1  1  1  0   20.0       1\n",
      "9   1  0  1  1   34.0       1\n",
      "8   0  0  1  1   36.0       1\n",
      "10  1  1  1  1   38.0       1\n",
      "11  0  1  1  1   38.0       1\n",
      "['BINARY', 16 rows, 16 samples, 4 variables]\n"
     ]
    }
   ],
   "source": [
    "sampler = ExactSolver()\n",
    "sampleset_qubo = sampler.sample(bqm_qubo)\n",
    "\n",
    "print(sampleset_qubo)"
   ]
  },
  {
   "cell_type": "markdown",
   "id": "random-newman",
   "metadata": {},
   "source": [
    "### Ising Instance\n",
    "\n",
    "`linear`, `quadratic` and `offset` terms have already been defined."
   ]
  },
  {
   "cell_type": "code",
   "execution_count": 10,
   "id": "chemical-couple",
   "metadata": {
    "ExecuteTime": {
     "end_time": "2021-08-31T10:00:23.010640Z",
     "start_time": "2021-08-31T10:00:22.964700Z"
    }
   },
   "outputs": [],
   "source": [
    "vartype = 'SPIN'\n",
    "\n",
    "bqm_ising = BinaryQuadraticModel(linear, quadratic, offset, vartype)"
   ]
  },
  {
   "cell_type": "markdown",
   "id": "forty-spread",
   "metadata": {},
   "source": [
    "Now, let's find the optimal solution for the Ising instance"
   ]
  },
  {
   "cell_type": "code",
   "execution_count": 11,
   "id": "beneficial-georgia",
   "metadata": {
    "ExecuteTime": {
     "end_time": "2021-08-31T10:00:23.067184Z",
     "start_time": "2021-08-31T10:00:23.012843Z"
    }
   },
   "outputs": [
    {
     "name": "stdout",
     "output_type": "stream",
     "text": [
      "   x1 x2 x3 x4 energy num_oc.\n",
      "12 -1 +1 -1 +1  -20.0       1\n",
      "3  -1 +1 -1 -1  -12.0       1\n",
      "15 -1 -1 -1 +1   -8.0       1\n",
      "6  +1 -1 +1 -1   -6.0       1\n",
      "0  -1 -1 -1 -1    0.0       1\n",
      "13 +1 +1 -1 +1    0.0       1\n",
      "4  -1 +1 +1 -1    2.0       1\n",
      "5  +1 +1 +1 -1    2.0       1\n",
      "7  -1 -1 +1 -1    2.0       1\n",
      "14 +1 -1 -1 +1    4.0       1\n",
      "2  +1 +1 -1 -1    8.0       1\n",
      "1  +1 -1 -1 -1   12.0       1\n",
      "9  +1 -1 +1 +1   30.0       1\n",
      "8  -1 -1 +1 +1   38.0       1\n",
      "10 +1 +1 +1 +1   38.0       1\n",
      "11 -1 +1 +1 +1   38.0       1\n",
      "['SPIN', 16 rows, 16 samples, 4 variables]\n"
     ]
    }
   ],
   "source": [
    "sampler = ExactSolver()\n",
    "sampleset_ising = sampler.sample(bqm_ising)\n",
    "\n",
    "print(sampleset_ising)"
   ]
  },
  {
   "cell_type": "markdown",
   "id": "satellite-funds",
   "metadata": {},
   "source": [
    "The lowest energy for the QUBO instance of the problem is `7.0` whereas for the Ising instance of the problem, it is `-20.0`."
   ]
  }
 ],
 "metadata": {
  "kernelspec": {
   "display_name": "Python 3",
   "language": "python",
   "name": "python3"
  },
  "language_info": {
   "codemirror_mode": {
    "name": "ipython",
    "version": 3
   },
   "file_extension": ".py",
   "mimetype": "text/x-python",
   "name": "python",
   "nbconvert_exporter": "python",
   "pygments_lexer": "ipython3",
   "version": "3.7.3"
  },
  "latex_envs": {
   "LaTeX_envs_menu_present": true,
   "autoclose": true,
   "autocomplete": true,
   "bibliofile": "biblio.bib",
   "cite_by": "apalike",
   "current_citInitial": 1,
   "eqLabelWithNumbers": true,
   "eqNumInitial": 1,
   "hotkeys": {
    "equation": "Ctrl-E",
    "itemize": "Ctrl-I"
   },
   "labels_anchors": false,
   "latex_user_defs": false,
   "report_style_numbering": false,
   "user_envs_cfg": false
  },
  "toc": {
   "base_numbering": 1,
   "nav_menu": {},
   "number_sections": false,
   "sideBar": true,
   "skip_h1_title": false,
   "title_cell": "Table of Contents",
   "title_sidebar": "Contents",
   "toc_cell": false,
   "toc_position": {},
   "toc_section_display": true,
   "toc_window_display": false
  }
 },
 "nbformat": 4,
 "nbformat_minor": 5
}
