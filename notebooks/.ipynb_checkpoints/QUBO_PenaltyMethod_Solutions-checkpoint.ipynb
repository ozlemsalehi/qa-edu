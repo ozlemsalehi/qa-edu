{
 "cells": [
  {
   "cell_type": "markdown",
   "id": "sudden-referral",
   "metadata": {},
   "source": [
    "<table width = \"100%\">\n",
    "  <tr style=\"background-color:white;\">\n",
    "    <!-- QWorld Logo -->\n",
    "    <td style=\"text-align:left;width:200px;\"> \n",
    "        <a href=\"https://qworld.net/\" target=\"_blank\"><img src=\"../images/QWorld.png\"> </a></td>\n",
    "    <td style=\"text-align:right;vertical-align:bottom;font-size:16px;\"> \n",
    "        Prepared by <a href=\"https://gitlab.com/sabahuddin.ahmad\" target=\"_blank\"> Sabah Ud Din Ahmad </a></td>\n",
    "    </tr> \n",
    " </table>\n",
    " \n",
    "<hr>"
   ]
  },
  {
   "cell_type": "markdown",
   "id": "mature-amendment",
   "metadata": {},
   "source": [
    "## <font color=\"blue\"> Solutions for </font> QUBO Formulation with Penalty Method"
   ]
  },
  {
   "cell_type": "markdown",
   "id": "accomplished-welcome",
   "metadata": {},
   "source": [
    "<a id=\"task1\"></a>\n",
    "### Task 1\n",
    "\n",
    "Consider a constrained problem of the form:\n",
    "$$\\min y = f(x)$$\n",
    "\n",
    "which is subjected to the constraint $x_1+ x_2 \\leq 1$ ($x_1$ & $x_2$ are binary variables). What will be the equivalent penalty for this problem? What will be the form of the related unconstrained problem?"
   ]
  },
  {
   "cell_type": "markdown",
   "id": "minimal-tuition",
   "metadata": {},
   "source": [
    "<h3> Solution </h3>"
   ]
  },
  {
   "cell_type": "markdown",
   "id": "everyday-orlando",
   "metadata": {},
   "source": [
    "From the table, the equivalent quadratic penalty is:\n",
    "\n",
    "$$Px_1x_2$$\n",
    "\n",
    "For a sufficiently large value of P, the form of the unconstrained problem is:\n",
    "\n",
    "$$\\min y = f(x)+Px_1x_2$$.\n",
    "\n",
    "**Comments:** The optimizer will avoid solutions having both $x_1$ & $x_2$ equal to 1. If this happens, a large penalty is added to the objective function corresponding to infeasible solutions. "
   ]
  },
  {
   "cell_type": "markdown",
   "id": "false-remedy",
   "metadata": {},
   "source": [
    "<a id=\"task2\"></a>\n",
    "### Task 2\n",
    "\n",
    "Consider a constrained problem of the form:\n",
    "$$\\min y = f(x)$$\n",
    "\n",
    "which is subjected to the constraint $x_1+ x_2 = 1$ ($x_1$ & $x_2$ are binary variables). What will be the equivalent penalty for this problem? What will be the form of the related unconstrained problem?\n"
   ]
  },
  {
   "cell_type": "markdown",
   "id": "touched-eleven",
   "metadata": {},
   "source": [
    "<h3> Solution </h3>"
   ]
  },
  {
   "cell_type": "markdown",
   "id": "separated-yukon",
   "metadata": {},
   "source": [
    "From the table, the equivalent quadratic penalty is:\n",
    "\n",
    "$$P(1-x_1-x_2+2x_1x_2)$$\n",
    "\n",
    "For a sufficiently large value of P, the form of the unconstrained problem is:\n",
    "\n",
    "$$\\min y = f(x)+P(1-x_1-x_2+2x_1x_2)$$."
   ]
  }
 ],
 "metadata": {
  "kernelspec": {
   "display_name": "Python 3",
   "language": "python",
   "name": "python3"
  },
  "language_info": {
   "codemirror_mode": {
    "name": "ipython",
    "version": 3
   },
   "file_extension": ".py",
   "mimetype": "text/x-python",
   "name": "python",
   "nbconvert_exporter": "python",
   "pygments_lexer": "ipython3",
   "version": "3.7.3"
  },
  "latex_envs": {
   "LaTeX_envs_menu_present": true,
   "autoclose": true,
   "autocomplete": true,
   "bibliofile": "biblio.bib",
   "cite_by": "apalike",
   "current_citInitial": 1,
   "eqLabelWithNumbers": true,
   "eqNumInitial": 1,
   "hotkeys": {
    "equation": "Ctrl-E",
    "itemize": "Ctrl-I"
   },
   "labels_anchors": false,
   "latex_user_defs": false,
   "report_style_numbering": false,
   "user_envs_cfg": false
  },
  "toc": {
   "base_numbering": 1,
   "nav_menu": {},
   "number_sections": true,
   "sideBar": true,
   "skip_h1_title": false,
   "title_cell": "Table of Contents",
   "title_sidebar": "Contents",
   "toc_cell": false,
   "toc_position": {},
   "toc_section_display": true,
   "toc_window_display": false
  }
 },
 "nbformat": 4,
 "nbformat_minor": 5
}
