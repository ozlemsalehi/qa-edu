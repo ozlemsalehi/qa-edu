{
 "cells": [
  {
   "cell_type": "markdown",
   "metadata": {},
   "source": [
    "<table width = \"100%\">\n",
    "  <tr style=\"background-color:white;\">\n",
    "    <!-- QWorld Logo -->\n",
    "    <td style=\"text-align:left;width:200px;\"> \n",
    "        <img src=\"../images/QWorld.png\"> </td>\n",
    "    <td style=\"text-align:right;vertical-align:bottom;font-size:16px;\"> \n",
    "        Prepared by <a href=\"https://gitlab.com/pjr1363\" target=\"_blank\"> Paul Joseph Robin </a></td>\n",
    "    </tr> \n",
    " </table>\n",
    " \n",
    "<hr>"
   ]
  },
  {
   "cell_type": "markdown",
   "metadata": {},
   "source": [
    "## Ising to QUBO conversion \n",
    "\n",
    "The Ising problems are in the space $\\{-1, 1\\}^n$, while QUBO formulations are in the space $\\{0, 1\\}^n$. Therefore, Ising problems can be converted into equivalent QUBO formulations by the following transformation:\n",
    "$$ x_j = \\frac{s_j + 1}{2} $$\n",
    "where $x_j$ is the QUBO variable and $s_j$ is the Ising variable. Substituting the value of the variable will result in conversion from one model to the other."
   ]
  },
  {
   "cell_type": "markdown",
   "metadata": {},
   "source": [
    "### Task 2\n",
    "Convert the following Ising energy function into QUBO formulation and find the lowest energy state for both formulations:\n",
    "$$H (\\mathbf{s}) = \\sum_{i = 1}^{3} (s_i + 1) (s_i + 3)$$\n",
    "\n",
    "> **Hint:** Do not solve this by hand. Instead, use *itertools* to generate the possible variables; See below an example for 3 variable Ising Spins:\n",
    "~~~\n",
    "import itertools\n",
    "x = [1, -1]\n",
    "v = [i for i in itertools.product(x, repeat=3)]\n",
    "~~~"
   ]
  },
  {
   "cell_type": "markdown",
   "metadata": {},
   "source": [
    "<a href=\"Ising Model Solutions.ipynb#Task2\">Click for the solution >></a>"
   ]
  },
  {
   "cell_type": "markdown",
   "metadata": {},
   "source": [
    "---\n",
    "### Yet Another Task!\n",
    "Calculate the energies for all binary and spin (i.e. QUBO and Ising respectively) variables, for the following graph with Max-Cut $= 5$. Compare these energies.\n",
    "> Use the following objective functions:\n",
    ">\n",
    "> **Ising:** $\\text{$\\quad\\quad$ max:$\\quad$}   y = \\frac{1}{2} \\sum_{(i, j) \\in E} (1 - s_is_j) $ \n",
    ">\n",
    "> **QUBO:**  $\\text{$\\quad$  max:$\\quad$} y = \\sum_{(i,j) \\in E} (x_i+x_j-2x_ix_j)$\n",
    "\n",
    "<figure>\n",
    "    <img src='../images/MaxCut_Ising.png' alt='MaxCut' style=\"width: 300px;\" />\n",
    "</figure>\n",
    "\n",
    "<a href=\"Ising Model Solutions.ipynb#YATask\">Click for the solution >></a>"
   ]
  },
  {
   "cell_type": "markdown",
   "metadata": {},
   "source": [
    "---\n",
    "## References\n",
    "1. Classical Ising Model *(Quantum Machine Learning MOOC: Peter Wittek)* &nbsp;&nbsp; [[YouTube: (5:35 mins)]](https://youtu.be/Wy9YoEYv-fA)\n",
    "2. Ising Model *(Prof. G. Ceder)* &nbsp;&nbsp; [[Ceder Group, MIT]](http://web.mit.edu/ceder/publications/Ising%20Model.pdf)\n",
    "<!--2. Handout 12: Ising Model *(ME346A Introduction to Statistical Mechanics: Wei Cai)* &nbsp;&nbsp; [[Stanford University]](http://micro.stanford.edu/~caiwei/me334/Chap12_Ising_Model_v04.pdf) -->\n",
    "<!--3. Ising Model: Connection to graph maximum cut &nbsp;&nbsp; [[Wikipedia]](https://en.wikipedia.org/wiki/Ising_model#Connection_to_graph_maximum_cut)-->\n",
    "3. An Application of Combinatorial Optimization to Statistical Physics and Circuit Layout Design *(Francisco Barahona, Martin Grötschel, Michael Jünger and Gerhard Reinelt )* &nbsp;&nbsp; [[JSTOR]](http://www.jstor.org/stable/170992)\n",
    "4. Ising formulations of many NP problems *(Andrew Lucas)* [[Frontiers: Open Access]](https://www.frontiersin.org/articles/10.3389/fphy.2014.00005/full)\n",
    "5. Quantum Bridge Analytics I: A Tutorial on Formulating and Using QUBO Models *(Fred Glover, Gary Kochenberger, Yu Du)* [[arXiv Preprint]](https://arxiv.org/abs/1811.11538)"
   ]
  },
  {
   "cell_type": "markdown",
   "metadata": {},
   "source": [
    " "
   ]
  }
 ],
 "metadata": {
  "kernelspec": {
   "display_name": "Python 3",
   "language": "python",
   "name": "python3"
  },
  "language_info": {
   "codemirror_mode": {
    "name": "ipython",
    "version": 3
   },
   "file_extension": ".py",
   "mimetype": "text/x-python",
   "name": "python",
   "nbconvert_exporter": "python",
   "pygments_lexer": "ipython3",
   "version": "3.7.3"
  }
 },
 "nbformat": 4,
 "nbformat_minor": 4
}
