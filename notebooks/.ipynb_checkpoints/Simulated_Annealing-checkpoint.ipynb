{
 "cells": [
  {
   "cell_type": "markdown",
   "id": "coupled-relief",
   "metadata": {},
   "source": [
    "<table width = \"100%\">\n",
    "  <tr style=\"background-color:white;\">\n",
    "    <!-- QWorld Logo -->\n",
    "    <td style=\"text-align:left;width:200px;\"> \n",
    "        <a href=\"https://qworld.net/\" target=\"_blank\"><img src=\"../images/QWorld.png\"> </a></td>\n",
    "    <td style=\"text-align:right;vertical-align:bottom;font-size:16px;\"> \n",
    "        Prepared by <a href=\"https://gitlab.com/Manan-Sood\" target=\"_blank\"> Manan Sood </a> and <a href=\"https://www.cmpe.boun.edu.tr/~ozlem.salehi/\" target=\"_blank\"> Özlem Salehi </a> </td>\n",
    "    </tr> \n",
    " </table>\n",
    " \n",
    "<hr>"
   ]
  },
  {
   "cell_type": "markdown",
   "id": "small-minutes",
   "metadata": {},
   "source": [
    "## Simulated Annealing"
   ]
  },
  {
   "cell_type": "markdown",
   "id": "stretch-marks",
   "metadata": {},
   "source": [
    "Simulated annealing is a stochastic global search optimization algorithm.\n",
    "\n",
    "The algorithm is inspired by annealing in _metallurgy_ where metal is heated to a high temperature quickly, then cooled slowly. The physical annealing process works by first exciting the atoms in the material at a high temperature, allowing the atoms to move around a lot, then decreasing their excitement slowly, allowing the atoms to fall into a new, more stable configuration. \n",
    "\n",
    "Simulated annealing (SA) mimics the physical annealing process. (We would like to point out that it is not a physical process but it is an anology). It can be considered as a modified version of stochastic hill climbing. Stochastic hill climbing maintains a single candidate solution and takes steps of a random but constrained size from the candidate in the search space. If the new point is better than the current point, then the current point is replaced with the new point. This process continues for a fixed number of iterations."
   ]
  },
  {
   "cell_type": "markdown",
   "id": "derived-current",
   "metadata": {},
   "source": [
    "<img src=\"../images/sa.gif\" width=\"550\">\n",
    "\n",
    "\n",
    "Image is taken from Image is taken from [Wikipedia](https://en.wikipedia.org/wiki/Simulated_annealing) "
   ]
  },
  {
   "cell_type": "markdown",
   "id": "understood-shanghai",
   "metadata": {},
   "source": [
    "Simulated annealing executes the search in the same way. The main difference is that new points that are not as good as the current point (worse points) are accepted sometimes. A worse point is accepted probabilistically where the likelihood of accepting a solution worse than the current solution is a function of the _temperature_ of the search and how much worse the solution is than the current solution. Moving to worse solutions allow escaping from local minima. The temperature is decreased gradually, making unfavorable changes less probable as the process continues. 0 temperature is simply the hill climbing algorithm.  "
   ]
  },
  {
   "cell_type": "markdown",
   "id": "massive-savage",
   "metadata": {},
   "source": [
    "### Algorithm\n",
    "\n",
    "<B> Step 1: </B> Start with an initial feasible solution $s=s_0$ and temperature $t=t_0$.\n",
    "\n",
    "<B> Step 2: </B> Until the termination conditions are reached, repeat the following: \n",
    "<ul>    \n",
    "<li>Pick a solution $s'$ from the neighborhood of solutions $N(s)$. let $\\bigtriangleup$ be the difference between cost of $s'$ and $s$.</li>\n",
    "<li>If $\\bigtriangleup<0$, accepth the new solution, i.e. $s=s'$. Otherwise, pick a random number $p$ between 0 and 1. Accept $s'$ if $e^{-\\bigtriangleup c/t } >p$.</li>\n",
    "    <li>Calculate the new temperature $t$ according to the <i>annealing schedule</i>.</li>\n",
    "</ul>"
   ]
  },
  {
   "cell_type": "markdown",
   "id": "brave-delivery",
   "metadata": {},
   "source": [
    "**Some notes:**\n",
    "\n",
    "- Annealing schedule describes how temperature decreases in time. Most common choices are linear ($t= t-a$), and geometric ($t = t*a)$.\n",
    "\n",
    "- Neighborhood of solutions is obtained by altering the current state.\n",
    "\n",
    "- Termination condition can be a fixed number of iterations or reaching some acceptable threshold of performance."
   ]
  },
  {
   "cell_type": "markdown",
   "id": "organizational-professor",
   "metadata": {},
   "source": [
    "### D-Wave Simulated Annealer"
   ]
  },
  {
   "cell_type": "markdown",
   "id": "sized-eclipse",
   "metadata": {},
   "source": [
    "Now we will investigate how we can run simulated annealer algorithm from D-Wave library neal."
   ]
  },
  {
   "cell_type": "code",
   "execution_count": 4,
   "id": "opponent-reviewer",
   "metadata": {},
   "outputs": [
    {
     "name": "stdout",
     "output_type": "stream",
     "text": [
      "  x1 x2 x3 x4 energy num_oc.\n",
      "0 -1 +1 -1 +1  -40.0       1\n",
      "1 -1 +1 -1 +1  -40.0       1\n",
      "2 -1 +1 -1 +1  -40.0       1\n",
      "3 -1 +1 -1 +1  -40.0       1\n",
      "4 -1 +1 -1 +1  -40.0       1\n",
      "5 -1 +1 -1 +1  -40.0       1\n",
      "6 -1 +1 -1 +1  -40.0       1\n",
      "7 -1 +1 -1 +1  -40.0       1\n",
      "8 -1 +1 -1 +1  -40.0       1\n",
      "9 -1 +1 -1 +1  -40.0       1\n",
      "['SPIN', 10 rows, 10 samples, 4 variables]\n"
     ]
    }
   ],
   "source": [
    "import neal\n",
    "sampler = neal.SimulatedAnnealingSampler()\n",
    "h = {'x1': 3, 'x2': -7, 'x3': 11, 'x4': -1}\n",
    "J = {('x1', 'x2'): 9, ('x1', 'x3'): 1, ('x2', 'x3'): 2, ('x3', 'x4'): 8}\n",
    "sampleset = sampler.sample_ising(h, J, num_reads=10)\n",
    "print(sampleset)"
   ]
  },
  {
   "cell_type": "markdown",
   "id": "experimental-bridges",
   "metadata": {},
   "source": [
    "In the example above, we use `SimulatedAnnealingSampler` to find the ground state of the Ising model specfied by `h` and `J`. One parameter we have used is the `num_reads`, which determines how many runs of the simulated annealing algorithm we would like to call. Each line in the output corresponds to solution found in one run of the algorithm."
   ]
  },
  {
   "cell_type": "markdown",
   "id": "useful-nicholas",
   "metadata": {},
   "source": [
    "It is also possible to input a QUBO for the sampler through the function `sample_qubo()` and a `BinaryQuadraticModel` using funcation `sample()`."
   ]
  },
  {
   "cell_type": "markdown",
   "id": "existing-cylinder",
   "metadata": {},
   "source": [
    "### Task 1\n",
    "\n",
    "Find out what assignment of $x_1$, $x_2$, $x_3$ and $x_4$ minimizes the following objective function using simulated annealing where $x_i \\in \\{0,1\\}$ for $i=1,2,3,4$.\n",
    "\n",
    "$$f(x_1, x_2, x_3, x_4) = - 5x_1 - 3x_2 - 8x_3 - 6x_4 + 4x_1 x_2 + 8x_1 x_3 + 2x_2 x_3 + 10x_3 x_4$$"
   ]
  },
  {
   "cell_type": "markdown",
   "id": "australian-wrapping",
   "metadata": {},
   "source": [
    "Now let us investigate how we can define additional parameters when running simualted annealing. The definitions are taken from the D-Wave documentation.\n",
    "\n",
    "THIS PART NEEDS TO BE UPDATED"
   ]
  },
  {
   "cell_type": "markdown",
   "id": "lined-aquatic",
   "metadata": {},
   "source": [
    " `beta_range (tuple, optional)`: A 2-tuple defining the beginning and end of the beta schedule,\n",
    "                where beta is the inverse temperature. The schedule is\n",
    "                interpolated within this range according to the value specified\n",
    "                by `beta_schedule_type`. Default range is set based on the total\n",
    "                bias associated with each node."
   ]
  },
  {
   "cell_type": "markdown",
   "id": "flying-baseline",
   "metadata": {},
   "source": [
    "`num_reads (int, optional, default=len(initial_states) or 1)`: \n",
    "This gives the number of reads. Each read is generated by one run of the simulated annealing algorithm.\n",
    "(If num_reads is not explicitly given, it is selected to match the number of initial states given and if initial states are not provided, only one read is performed)\n",
    "\n",
    "`num_sweeps (int, optional, default=1000)`: \n",
    "This gives the number of sweeps or steps.\n",
    "\n",
    "`beta_schedule_type (string, optional, default='geometric')`: \n",
    "This gives the beta schedule type, or how the beta values are interpolated between the given ‘beta_range’.\n",
    "Supported values are: 'linear', 'geometric'.\n",
    "\n",
    "`seed (int, optional)`:\n",
    "This gives the seed to use for the PRNG. Specifying a particular seed with a constant set of parameters produces identical results. (If not provided, a random seed is chosen)\n",
    "\n",
    "`initial_states (samples-like, optional, default=None)`\n",
    "One or more samples, each defining an initial state for all the problem variables. Initial states are given one per read, but if fewer than num_reads initial states are defined, additional values are generated as specified by initial_states_generator.\n",
    "\n",
    "`initial_states_generator (str, 'none'/'tile'/'random', optional, default='random')` \n",
    "This defines the expansion of initial_states if fewer than num_reads are specified:\n",
    "\n",
    "– ”none”: If the number of initial states specified is smaller than num_reads, raises ValueError.\n",
    "\n",
    "– ”tile”: Reuses the specified initial states if fewer than num_reads or truncates if greater.\n",
    "\n",
    "– ”random”: Expands the specified initial states with randomly generated states if fewer than num_reads or truncates if greater.\n",
    "\n",
    "`interrupt_function (function, optional):`\n",
    "This helps in terminating the simulated annealing before completing all the iterations. If provided, interrupt_function is called with no parameters between each sample of simulated annealing. If the function returns True, then simulated annealing will terminate and return with all of the samples and energies found so far."
   ]
  }
 ],
 "metadata": {
  "kernelspec": {
   "display_name": "Python 3",
   "language": "python",
   "name": "python3"
  },
  "language_info": {
   "codemirror_mode": {
    "name": "ipython",
    "version": 3
   },
   "file_extension": ".py",
   "mimetype": "text/x-python",
   "name": "python",
   "nbconvert_exporter": "python",
   "pygments_lexer": "ipython3",
   "version": "3.7.3"
  },
  "latex_envs": {
   "LaTeX_envs_menu_present": true,
   "autoclose": true,
   "autocomplete": true,
   "bibliofile": "biblio.bib",
   "cite_by": "apalike",
   "current_citInitial": 1,
   "eqLabelWithNumbers": true,
   "eqNumInitial": 1,
   "hotkeys": {
    "equation": "Ctrl-E",
    "itemize": "Ctrl-I"
   },
   "labels_anchors": false,
   "latex_user_defs": false,
   "report_style_numbering": false,
   "user_envs_cfg": false
  },
  "toc": {
   "base_numbering": 1,
   "nav_menu": {},
   "number_sections": true,
   "sideBar": true,
   "skip_h1_title": false,
   "title_cell": "Table of Contents",
   "title_sidebar": "Contents",
   "toc_cell": false,
   "toc_position": {},
   "toc_section_display": true,
   "toc_window_display": false
  }
 },
 "nbformat": 4,
 "nbformat_minor": 5
}
