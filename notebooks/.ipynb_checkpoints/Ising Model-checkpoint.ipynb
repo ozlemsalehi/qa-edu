{
 "cells": [
  {
   "cell_type": "markdown",
   "metadata": {},
   "source": [
    " "
   ]
  },
  {
   "cell_type": "markdown",
   "metadata": {},
   "source": [
    "<table width = \"100%\">\n",
    "  <tr style=\"background-color:white;\">\n",
    "    <!-- QWorld Logo -->\n",
    "    <td style=\"text-align:left;width:200px;\"> \n",
    "        <img src=\"../images/QWorld.png\"> </td>\n",
    "    <td style=\"text-align:right;vertical-align:bottom;font-size:16px;\"> \n",
    "        Prepared by <a href=\"https://gitlab.com/pjr1363\" target=\"_blank\"> Paul Joseph Robin </a></td>\n",
    "    </tr> \n",
    " </table>\n",
    " \n",
    "<hr>"
   ]
  },
  {
   "cell_type": "markdown",
   "metadata": {},
   "source": [
    "## The Ising Model"
   ]
  },
  {
   "cell_type": "markdown",
   "metadata": {},
   "source": [
    "<!-- A brief history of the model-->\n",
    "The Ising model was proposed by Wilhelm Lenz who gave it as a problem to his graduate student Ernst Ising, after whom this model is named. The 1-D model was solved by Ising in his 1924 thesis. Later, in 1944 Lars Onsager solved the 2-D model with the transfer matrix approach$^\\href{https://en.wikipedia.org/wiki/Ising_model/}{ [Wikipedia]}$.  It is powerful in modelling many thermodynamical phenomena and in explaining phase transitions and universality$^\\href{https://www.quantamagazine.org/the-cartoon-picture-of-magnets-that-has-transformed-science-20200624/}{ [Q]}$."
   ]
  },
  {
   "cell_type": "markdown",
   "metadata": {},
   "source": [
    "<!-- Applications-->\n",
    "Ising model is a good representation for the study of spin glasses. Predicting phase transition of spin glasses(at Curie temperature), won Onsager the Nobel Prize in 1968."
   ]
  },
  {
   "cell_type": "markdown",
   "metadata": {},
   "source": [
    "##### Definition:\n",
    "$$ H_{ising}(\\mathbf{s}) =   \\sum_{i<j} J_{i,j} s_i s_j + \\sum_i h_{i} s_i $$ "
   ]
  },
  {
   "cell_type": "markdown",
   "metadata": {},
   "source": [
    "where $H$ represents the energy of the Ising model, $h$ corresponds to qubit biases (or to external magnetic fieds in other systems), and $J$ corresponds to the coupling strengths."
   ]
  },
  {
   "cell_type": "markdown",
   "metadata": {},
   "source": [
    " ##### Building the model:"
   ]
  },
  {
   "cell_type": "markdown",
   "metadata": {},
   "source": [
    "- Each spin variable $s_i$ take the values $\\{up \\: (\\uparrow): +1, \\; down \\: (\\downarrow): -1\\}$.\n",
    "- Each spin state (variable) interacts with its nearest neighbour ($NN$) lattice spin. The coupling strength, of this spin-spin interaction, is characterized by the constant $J$.\n",
    " > The number of nearest neighbours in an $i$-dimensional lattice is given by: &nbsp;&nbsp; $NN_{1-D} = 2$, $NN_{2-D} = 4$, $\\ldots$ , $NN_{i-D} = 2i$\n",
    "- The spins also interact with the external magnetic field $h$, if present. \n",
    "- Conventionally in Physics, both these energy contributions are denoted as negative.\n",
    "\n",
    "---"
   ]
  },
  {
   "cell_type": "markdown",
   "metadata": {},
   "source": [
    "### The Max-Cut Problem (An Ising Representation)\n",
    "\n",
    "Finding the ground state of an Ising spin glass, by minimizing the Hamiltonian, is equivalent to the optimal solution for a Max-Cut problem."
   ]
  },
  {
   "cell_type": "markdown",
   "metadata": {},
   "source": [
    "##### The Problem:\n",
    "Given an undirected graph $G(V, E)$, partition it into two sets such that the number of edges between these subsets is maximum. (*The set is said to be severed by the cut*).\n",
    "\n",
    "\n",
    "$$\n",
    "\\begin{array}{ll}\n",
    "s_j = 1 & \\quad \\mbox{if vertex $j$ $\\in$ subset 1} \\\\ \n",
    "s_j = -1 & \\quad \\mbox{otherwise} \n",
    "\\end{array}\n",
    "$$"
   ]
  },
  {
   "cell_type": "markdown",
   "metadata": {},
   "source": [
    "##### Conditions:\n",
    "\n",
    "$$\n",
    "\\begin{array}{lll}\n",
    "if & -\\frac{1}{2}(1 - s_is_j) = 1 & \\quad \\mbox{$\\Rightarrow$ both $s_i$ and $s_j$ are either 1 or -1.} \\\\\n",
    "   &  & \\quad \\mbox{So, they are in the same subset and edge $(i, j)$ is not in the cut.} \\\\ \n",
    "if & -\\frac{1}{2}(1 - s_is_j) = 0 & \\quad \\mbox{$\\Rightarrow$ Exactly one of $s_i$ and $s_j$ is 1, the other being -1.} \\\\\n",
    "   &  & \\quad \\mbox{So, the edge $(i, j)$ is in the cut.} \n",
    "\\end{array}\n",
    "$$"
   ]
  },
  {
   "cell_type": "markdown",
   "metadata": {},
   "source": [
    "##### Formulation:\n",
    "$$\\text{max:$\\quad$}   y = -\\frac{1}{2} \\sum_{(i, j) \\in E} (1 - s_is_j) $$ "
   ]
  },
  {
   "cell_type": "markdown",
   "metadata": {},
   "source": [
    "---\n",
    "### Ising to QUBO conversion \n",
    "\n",
    "The Ising problems are in the space $\\{-1, 1\\}^n$, while QUBO formulations are in the space $\\{0, 1\\}^n$. Therefore, Ising problems can be converted into equivalent QUBO formulations by the following transformation:\n",
    "$$ x_j^{'} = \\frac{x_j + 1}{2} $$\n",
    "where $x_j^{'}$ is the QUBO variable and $x_j$ is the Ising variable. Substituting the value of the variable will result in conversion from one model to the other."
   ]
  },
  {
   "cell_type": "markdown",
   "metadata": {},
   "source": [
    "### Task\n",
    "Convert the above Ising formulation of Max-Cut problem into QUBO formulation. Compare this with the QUBO formulation for Max-Cut, which has already been introduced."
   ]
  },
  {
   "cell_type": "markdown",
   "metadata": {},
   "source": [
    "---\n",
    "## References\n",
    "1. Classical Ising Model *(Quantum Machine Learning MOOC: Peter Wittek)* &nbsp;&nbsp; [[YouTube: (5:35 mins)]](https://youtu.be/Wy9YoEYv-fA)\n",
    "2. Ising Model *(Prof. G. Ceder)* &nbsp;&nbsp; [[Ceder Group, MIT]](http://web.mit.edu/ceder/publications/Ising%20Model.pdf)\n",
    "<!--2. Handout 12: Ising Model *(ME346A Introduction to Statistical Mechanics: Wei Cai)* &nbsp;&nbsp; [[Stanford University]](http://micro.stanford.edu/~caiwei/me334/Chap12_Ising_Model_v04.pdf) -->\n",
    "<!--3. Ising Model: Connection to graph maximum cut &nbsp;&nbsp; [[Wikipedia]](https://en.wikipedia.org/wiki/Ising_model#Connection_to_graph_maximum_cut)-->\n",
    "3. An Application of Combinatorial Optimization to Statistical Physics and Circuit Layout Design *(Francisco Barahona, Martin Grötschel, Michael Jünger and Gerhard Reinelt )* &nbsp;&nbsp; [[JSTOR]](http://www.jstor.org/stable/170992)\n",
    "4. Quantum Bridge Analytics I: A Tutorial on Formulating and Using QUBO Models *(Fred Glover, Gary Kochenberger, Yu Du)* [[arXiv Preprint]](https://arxiv.org/abs/1811.11538)"
   ]
  },
  {
   "cell_type": "markdown",
   "metadata": {},
   "source": [
    " "
   ]
  }
 ],
 "metadata": {
  "kernelspec": {
   "display_name": "Python 3",
   "language": "python",
   "name": "python3"
  },
  "language_info": {
   "codemirror_mode": {
    "name": "ipython",
    "version": 3
   },
   "file_extension": ".py",
   "mimetype": "text/x-python",
   "name": "python",
   "nbconvert_exporter": "python",
   "pygments_lexer": "ipython3",
   "version": "3.7.3"
  }
 },
 "nbformat": 4,
 "nbformat_minor": 4
}
