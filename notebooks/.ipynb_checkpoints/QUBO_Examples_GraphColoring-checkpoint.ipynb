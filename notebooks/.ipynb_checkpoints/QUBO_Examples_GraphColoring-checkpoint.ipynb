{
 "cells": [
  {
   "cell_type": "markdown",
   "id": "muslim-planning",
   "metadata": {},
   "source": [
    "<table width = \"100%\">\n",
    "  <tr style=\"background-color:white;\">\n",
    "    <!-- QWorld Logo -->\n",
    "    <td style=\"text-align:left;width:200px;\"> \n",
    "        <a href=\"https://qworld.net/\" target=\"_blank\"><img src=\"../images/QWorld.png\"> </a></td>\n",
    "    <td style=\"text-align:right;vertical-align:bottom;font-size:16px;\"> \n",
    "        Prepared by <a href=\"https://gitlab.com/sabahuddin.ahmad\" target=\"_blank\"> Sabah Ud Din Ahmad </a></td>\n",
    "    </tr> \n",
    " </table>\n",
    " \n",
    "<hr>"
   ]
  },
  {
   "cell_type": "markdown",
   "id": "efficient-arctic",
   "metadata": {},
   "source": [
    "## Examples for QUBO Formulation"
   ]
  },
  {
   "cell_type": "markdown",
   "id": "political-murder",
   "metadata": {},
   "source": [
    "### Graph Coloring"
   ]
  },
  {
   "cell_type": "markdown",
   "id": "careful-disabled",
   "metadata": {},
   "source": [
    "Recall, Graph Coloring (or Vertex Coloring) is the procedure of assignment of colors to each vertex of a graph $G$ such that adjacent vertices get different colors. The problem is that given an undirected graph $G=(V,E)$ with N nodes (vertices) and a set of $K$ colors, is it possible to color each vertex such that adjacent vertices get different colors. The smallest number of colors required to color a graph is called the chromatic number of that graph.\n",
    "\n",
    "The problem is defined using binary variables $x_{i,p}$, where $i$ represents the node and $p$ represents the color.\n",
    "\n",
    "$$x_{ip}=\n",
    "\\left\\{\n",
    "\\begin{array}{ll} \n",
    "      1, & \\text{node i is assigned color p} \\\\\n",
    "      0, & \\text{otherwise} \\\\\n",
    "\\end{array}\n",
    "\\right.$$\n",
    "\n",
    "\n",
    "#### Constraints\n",
    "\n",
    "The problem involves the following constraints:\n",
    "1. Each node must be colored.\n",
    "$$\\sum_{p=1}^{K} x_{i,p} = 1 \\;\\;\\;\\;\\;  i=1,...,N $$\n",
    "\n",
    "where N is the total number of nodes in the graph.\n",
    "\n",
    "2. Adjacent nodes must be assigned different colors.\n",
    "$$x_{i,p} + x_{j,p} \\leq 1 \\;\\;\\;\\;\\;  p=1,...,K $$\n",
    "\n",
    "for all adjacent nodes $(i,j)$ in the graph. \n",
    "\n",
    "#### Objective Function\n",
    "\n",
    "Including the constraints, our objective function is:\n",
    "$$A\\sum_{i=1}^{N} \\left(1-\\sum_{p=1}^{K}x_{i,p}\\right)^2 + A\\sum_{(i,j) \\in E} \\sum_{p=1}^{K} x_{i,p}x_{j,p}$$\n"
   ]
  },
  {
   "cell_type": "markdown",
   "id": "handled-growth",
   "metadata": {},
   "source": [
    "### Task 1\n",
    "\n",
    "Let's assume we have the following graph.  \n",
    "\n",
    "<img src=\"../images/gc_1.png\" width=\"250\">\n",
    "\n",
    "Determine the matrix Q for this graph so that a feasible coloring is possible using $K=3$ colors."
   ]
  },
  {
   "cell_type": "markdown",
   "id": "worth-circumstances",
   "metadata": {},
   "source": [
    "[Click here for solution](QUBO_Examples_GraphColoring_Solutions.ipynb#task1)\n",
    "\n",
    "***"
   ]
  },
  {
   "cell_type": "markdown",
   "id": "packed-trust",
   "metadata": {},
   "source": [
    "### Task 2\n",
    "\n",
    "Input matrix Q calculated in Task 1 to the function *qubo_solver()* and determine $x$ which minimizes $x^T Qx$ and the corresponding minimum value."
   ]
  },
  {
   "cell_type": "code",
   "execution_count": null,
   "id": "biblical-dollar",
   "metadata": {},
   "outputs": [],
   "source": [
    "#Access the qubo_solver() function\n",
    "%run qubo_functions.py\n",
    "\n",
    "# Define the Q matrix\n",
    "\n",
    "\n",
    "\n",
    "# Pass the matrix as an argument to the function\n",
    "qubo_solver(Q)"
   ]
  },
  {
   "cell_type": "markdown",
   "id": "wanted-delay",
   "metadata": {},
   "source": [
    "[Click here for solution](QUBO_Examples_GraphColoring_Solutions.ipynb#task2)\n",
    "\n",
    "***"
   ]
  },
  {
   "cell_type": "markdown",
   "id": "portable-eight",
   "metadata": {},
   "source": [
    "### References\n",
    "***\n",
    "1. Fred Glover, Gary Kochenberger, Yu Du. (2019). *Quantum Bridge Analytics I: A Tutorial on Formulating and Using QUBO Models.* [[arXiv Preprint]](https://arxiv.org/abs/1811.11538)\n",
    "2. Andrew Lucas. (2014). *Ising formulations of many NP problems.* Frontiers in Physics, Volume 2, Article 5. [Link](https://doi.org/10.3389/fphy.2014.00005)"
   ]
  }
 ],
 "metadata": {
  "kernelspec": {
   "display_name": "Python 3",
   "language": "python",
   "name": "python3"
  },
  "language_info": {
   "codemirror_mode": {
    "name": "ipython",
    "version": 3
   },
   "file_extension": ".py",
   "mimetype": "text/x-python",
   "name": "python",
   "nbconvert_exporter": "python",
   "pygments_lexer": "ipython3",
   "version": "3.7.3"
  },
  "latex_envs": {
   "LaTeX_envs_menu_present": true,
   "autoclose": true,
   "autocomplete": true,
   "bibliofile": "biblio.bib",
   "cite_by": "apalike",
   "current_citInitial": 1,
   "eqLabelWithNumbers": true,
   "eqNumInitial": 1,
   "hotkeys": {
    "equation": "Ctrl-E",
    "itemize": "Ctrl-I"
   },
   "labels_anchors": false,
   "latex_user_defs": false,
   "report_style_numbering": false,
   "user_envs_cfg": false
  },
  "toc": {
   "base_numbering": 1,
   "nav_menu": {},
   "number_sections": true,
   "sideBar": true,
   "skip_h1_title": false,
   "title_cell": "Table of Contents",
   "title_sidebar": "Contents",
   "toc_cell": false,
   "toc_position": {},
   "toc_section_display": true,
   "toc_window_display": false
  }
 },
 "nbformat": 4,
 "nbformat_minor": 5
}
