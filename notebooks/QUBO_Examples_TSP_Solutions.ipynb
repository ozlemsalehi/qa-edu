{
 "cells": [
  {
   "cell_type": "markdown",
   "metadata": {},
   "source": [
    "<table width = \"100%\">\n",
    "  <tr style=\"background-color:white;\">\n",
    "    <!-- QWorld Logo -->\n",
    "    <td style=\"text-align:left;width:200px;\"> \n",
    "        <a href=\"https://qworld.net/\" target=\"_blank\"><img src=\"../images/QWorld.png\"> </a></td>\n",
    "    <td style=\"text-align:right;vertical-align:bottom;font-size:16px;\"> \n",
    "        Prepared by <a href=\"https://gitlab.com/sabahuddin.ahmad\" target=\"_blank\"> Sabah Ud Din Ahmad </a></td>\n",
    "    </tr> \n",
    " </table>\n",
    " \n",
    "<hr>"
   ]
  },
  {
   "cell_type": "markdown",
   "metadata": {},
   "source": [
    "## <font color=\"blue\"> Solutions for </font> QUBO Examples - Travelling Salesman Problem"
   ]
  },
  {
   "cell_type": "markdown",
   "metadata": {},
   "source": [
    "<a id=\"task1\"></a>\n",
    "### Task 1\n",
    "\n",
    "Let's assume we have the following fully-connected, undirected graph of 4 nodes / cities and 6 edges, $G = (4,6)$. \n",
    "\n",
    "<img src=\"../images/tsp_1.png\" width=\"250\">\n",
    "\n",
    "Determine the matrix Q for this graph. (You may assume suitable values for A and B). "
   ]
  },
  {
   "cell_type": "markdown",
   "metadata": {},
   "source": [
    "<h3> Solution </h3>"
   ]
  },
  {
   "cell_type": "markdown",
   "metadata": {},
   "source": [
    "Since the objective function to be minimizied (including penalties) is, \n",
    "\n",
    "$$C(x) = A\\sum_{(i,j) \\in E} w_{ij} \\sum_{p=1}^{N} x_{i,p} x_{j,p+1} + B\\sum_{p=1}^{N} \\left(1-\\sum_{i=1}^{N}x_{i,p}\\right)^2 + B\\sum_{i=1}^{N} \\left(1-\\sum_{p=1}^{N}x_{i,p}\\right)^2 + B\\sum_{(i,j) \\notin E} \\sum_{p=1}^{N} x_{i,p} x_{j,p+1}$$\n",
    "\n",
    "Let $A=1$ and $B=30$, under the condition $0<A\\max (w_{ij})<B$ since $\\max (w_{ij})=29$. (We won't substitute B for now).\n",
    "\n",
    "Moreover, we must drop the last term as the graph is fully connected. So, with these simplifications, \n",
    "\n",
    "$$C(x) = \\sum_{(i,j) \\in E} w_{ij} \\sum_{p=1}^{4} x_{i,p} x_{j,p+1} + B\\sum_{p=1}^{4} \\left(1-\\sum_{i=1}^{4}x_{i,p}\\right)^2 + B\\sum_{i=1}^{4} \\left(1-\\sum_{p=1}^{4}x_{i,p}\\right)^2$$"
   ]
  },
  {
   "cell_type": "markdown",
   "metadata": {},
   "source": [
    "$$C(x) = \\sum_{(i,j) \\in E} w_{ij} (x_{i1}x_{j2} + x_{i2}x_{j3} + x_{i3}x_{j4} + x_{i4}x_{j5}) + B\\sum_{p=1}^{4} \\left(1 - (x_{1p}+x_{2p}+x_{3p}+x_{4p})\\right)^2 + B\\sum_{i=1}^{4} \\left(1-(x_{i1}+x_{i2}+x_{i3}+x_{i4})\\right)^2$$\n",
    "\n",
    "Let's look at the first term.\n",
    "$$\\sum_{(i,j) \\in E} w_{ij} (x_{i1}x_{j2} + x_{i2}x_{j3} + x_{i3}x_{j4} + x_{i4}x_{j5})$$\n",
    "\n",
    "Here, $E=\\{(1,2),(1,3),(1,4),(2,1),(2,3),(2,4),(3,1),(3,2),(3,4),(4,1),(4,2),(4,3)\\}$. You may notice that the edges are repeated as the graph is undirected. For each $(i,j) \\in E$, corresponding $w_{ij}$ is multiplied with a sum of crossterms ($x_{i,p}x_{j,p+1}$) which are binary variables. The indices i and j in $w_{ij}$ denote the relevant indices of the crossterms. E.g. for $(1,3)$,\n",
    "$$w_{13} (x_{11}x_{32} + x_{12}x_{33} + x_{13}x_{34} + x_{14}x_{35})$$ where $w_{13}=14$.\n",
    "\n",
    "Within the summation, we have a total of 12 terms, one for each $(i,j)\\in E$. Summing up for all,\n",
    "$$w_{12} (x_{11}x_{22} + x_{12}x_{23} + x_{13}x_{24} + x_{14}x_{25})+...........+w_{43} (x_{41}x_{32} + x_{42}x_{33} + x_{43}x_{34} + x_{44}x_{35})$$\n",
    "\n",
    "where $w_{12}=w_{21}=12, w_{13}=w_{31}=14, w_{14}=w_{41}=17, w_{23}=w_{32}=15, w_{24}=w_{42}=18, w_{34}=w_{43}=29$.\n",
    "\n",
    "Let's look at the second term.\n",
    "$$B\\sum_{p=1}^{4} \\left(1 - (x_{1p}+x_{2p}+x_{3p}+x_{4p})\\right)^2$$\n",
    "Expanding the sum,\n",
    "$$B\\left[\\left(1 - (x_{11}+x_{21}+x_{31}+x_{41})\\right)^2+\\left(1 - (x_{12}+x_{22}+x_{32}+x_{42})\\right)^2+\\left(1 - (x_{13}+x_{23}+x_{33}+x_{43})\\right)^2+\\left(1 - (x_{14}+x_{24}+x_{34}+x_{44})\\right)^2\\right]$$\n",
    "This can be simplified by expanding the quadratic expressions to get linear terms ($x_{ip}$), quadratic terms ($x_{ip}^2$), and a constant 4B.\n",
    "\n",
    "Let's look at the third term.\n",
    "$$B\\sum_{i=1}^{4} \\left(1-(x_{i1}+x_{i2}+x_{i3}+x_{i4})\\right)^2$$\n",
    "Expanding the sum,\n",
    "$$B\\left[\\left(1 - (x_{11}+x_{12}+x_{13}+x_{14})\\right)^2+\\left(1 - (x_{21}+x_{22}+x_{23}+x_{24})\\right)^2+\\left(1 - (x_{31}+x_{32}+x_{33}+x_{34})\\right)^2+\\left(1 - (x_{41}+x_{42}+x_{43}+x_{44})\\right)^2\\right]$$\n",
    "This can be simplified by expanding the quadratic expressions to get linear terms ($x_{ip}$), quadratic terms ($x_{ip}^2$), and a constant 4B.\n",
    "\n",
    "Combining all these, \n",
    "\n",
    "$$C(x) = w_{12} (x_{11}x_{22} + x_{12}x_{23} + x_{13}x_{24} + x_{14}x_{25})+...........+w_{43} (x_{41}x_{32} + x_{42}x_{33} + x_{43}x_{34} + x_{44}x_{35})+ \n",
    "B\\left[\\left(1 - (x_{11}+x_{21}+x_{31}+x_{41})\\right)^2+\\left(1 - (x_{12}+x_{22}+x_{32}+x_{42})\\right)^2+\\left(1 - (x_{13}+x_{23}+x_{33}+x_{43})\\right)^2+\\left(1 - (x_{14}+x_{24}+x_{34}+x_{44})\\right)^2\\right]+ \n",
    "B\\left[\\left(1 - (x_{11}+x_{12}+x_{13}+x_{14})\\right)^2+\\left(1 - (x_{21}+x_{22}+x_{23}+x_{24})\\right)^2+\\left(1 - (x_{31}+x_{32}+x_{33}+x_{34})\\right)^2+\\left(1 - (x_{41}+x_{42}+x_{43}+x_{44})\\right)^2\\right]$$\n",
    "\n",
    "For ease in calculations, we can update the double index binary variables with single index binary variables.\n",
    "\n",
    "$$(x_{11}, x_{12}, x_{13}, x_{14}, x_{15}, x_{21}, x_{22}, x_{23}, x_{24}, x_{25}, x_{31}, x_{32}, x_{33}, x_{34}, x_{35}, x_{41}, x_{42}, x_{43}, x_{44}, x_{45}) = (x_1, x_2, x_3, x_4, x_5, x_6, x_7,......x_{18}, x_{19}, x_{20})$$\n",
    "\n",
    "To get the matrix Q, we can replace any term $x_i$ with $x_i^2$ and vice versa since these are binary variables (this doesnt apply to products $x_i x_j$). We will ignore the constant $8B$ while constructing the matrix.\n",
    "\n",
    "So, with these modifications, our simplified objective function expression takes the desired form:\n",
    "\n",
    "$$\\min_{x \\in {0,1}^n} x^T Q x$$\n",
    "\n",
    "where:\n",
    "\n",
    "$$x^T = \\begin{pmatrix}\n",
    "x_1 & x_2 & x_3 & x_4 & x_5 & x_6 & x_7 & x_8 & x_9 & x_{10} & x_{11} & x_{12} & x_{13} & x_{14} & x_{15} & x_{16} & x_{17} & x_{18} & x_{19} & x_{20}\n",
    "\\end{pmatrix}$$\n",
    "\n",
    "and we obtain a $20\\times 20$ upper diagonal matrix Q."
   ]
  },
  {
   "cell_type": "markdown",
   "metadata": {},
   "source": [
    "[Click here for a more detailed solution](QUBO_Examples_TSP_ExtendedSolutions.ipynb#task1)\n",
    "\n",
    "***"
   ]
  },
  {
   "cell_type": "markdown",
   "metadata": {},
   "source": [
    "<a id=\"task2\"></a>\n",
    "### Task 2\n",
    "\n",
    "Assume Node 1 is the first and the final node in our cycle.\n",
    "\n",
    "$$x_{11}=1 \\;\\;\\;\\;\\; x_{14}=1$$\n",
    "$$x_{12}=x_{13}=x_{21}=x_{24}=x_{31}=x_{34}=0$$\n",
    "\n",
    "With these values of the variables, simplify the objective function and obtain the corresponding matrix Q. "
   ]
  },
  {
   "cell_type": "markdown",
   "metadata": {},
   "source": [
    "<h3> Solution </h3>"
   ]
  },
  {
   "cell_type": "markdown",
   "metadata": {},
   "source": [
    "Our objective function for the example with 3 nodes is,\n",
    "\n",
    "$C(x) = w_{12} (x_{11}x_{22} + x_{12}x_{23} + x_{13}x_{24})+..........+w_{32} (x_{31}x_{22} + x_{32}x_{23} + x_{33}x_{24})+ B\\left[\\left(1 - (x_{11}+x_{21}+x_{31})\\right)^2+\\left(1 - (x_{12}+x_{22}+x_{32})\\right)^2+\\left(1 - (x_{13}+x_{23}+x_{33})\\right)^2\\right]+ B\\left[\\left(1 - (x_{11}+x_{12}+x_{13})\\right)^2+\\left(1 - (x_{21}+x_{22}+x_{23})\\right)^2+\\left(1 - (x_{31}+x_{32}+x_{33})\\right)^2\\right]$\n",
    "\n",
    "The objective function expression reduces to,\n",
    "$C(x) = \n",
    "w_{12} (x_{22})+w_{13} (x_{32})+w_{21} (x_{23})+w_{23} (x_{22}x_{33})+w_{31} (x_{33})+w_{32} (x_{32}x_{23})+ \n",
    "B\\left[\\left(1 - (x_{22}+x_{32})\\right)^2+\\left(1 - (x_{23}+x_{33})\\right)^2\\right]+ \n",
    "B\\left[\\left(1 - (x_{22}+x_{23})\\right)^2+\\left(1 - (x_{32}+x_{33})\\right)^2\\right]$\n",
    "\n",
    "$C(x) = \n",
    "w_{12}x_{22}+w_{13}x_{32}+w_{21}x_{23}+w_{23}x_{22}x_{33}+w_{31}x_{33}+w_{32}x_{32}x_{23}+ \n",
    "B\\left[4 - 2x_{22}-2x_{32}+x_{22}^2+x_{32}^2+2x_{22}x_{32}- 2x_{23}-2x_{33}+x_{23}^2+x_{33}^2+2x_{23}x_{33}- 2x_{22}-2x_{23}+x_{22}^2+x_{23}^2+2x_{22}x_{23}- 2x_{32}-2x_{33}+x_{32}^2+x_{33}^2+2x_{32}x_{33}\\right]$\n",
    "\n",
    "Now, we can replace the remaining double index binary variables with single index binary variables.\n",
    "$$(x_{22}, x_{23}, x_{32}, x_{33}) = (x_1, x_2, x_3, x_4)$$\n",
    "\n",
    "$C(x) = \n",
    "w_{12}x_1+w_{13}x_3+w_{21}x_2+w_{23}x_1x_4+w_{31}x_4+w_{32}x_3x_2+ \n",
    "B\\left[4 - 4x_1-4x_3+2x_1^2+2x_3^2+2x_1x_3-4x_2-4x_4+2x_2^2+2x_4^2+2x_2x_4+2x_1x_2+2x_3x_4\\right]$\n",
    "\n",
    "To get the matrix Q, we can replace any term $x_i$ with $x_i^2$ and vice versa since these are binary variables (this doesnt apply to products $x_ix_j$). \n",
    "\n",
    "$C(x) = \n",
    "(w_{12}-2B)x_1^2+(w_{21}-2B)x_2^2+(w_{13}-2B)x_3^2+(w_{31}-2B)x_4^2+w_{23}x_1x_4+w_{32}x_3x_2+2Bx_1x_3+2Bx_2x_4+2Bx_1x_2+2Bx_3x_4+4B$\n",
    "\n",
    "We will ignore the constant $4B$ while constructing the matrix. So, with these modifications, our simplified objective function expression takes the desired form:\n",
    "\n",
    "$$\\min_{x \\in {0,1}^n} x^T Q x$$\n",
    "\n",
    "where:\n",
    "\n",
    "$$x^T = \\begin{pmatrix}\n",
    "x_1 & x_2 & x_3 & x_4\n",
    "\\end{pmatrix}$$\n",
    "\n",
    "and we obtain a $4\\times 4$ upper diagonal matrix Q."
   ]
  },
  {
   "cell_type": "markdown",
   "metadata": {},
   "source": [
    "$$Q = \\begin{pmatrix}\n",
    "(w_{12}-2B) & 2B        & 2B        & w_{23}\\\\\n",
    "0         & w_{21}-2B & w_{32}    & 2B\\\\\n",
    "0         &         0 & w_{13}-2B & 2B\\\\\n",
    "0         &         0 &         0 & w_{31}-2B\\\\\n",
    "\\end{pmatrix}$$\n",
    "\n",
    "where $B=20, w_{12}=w_{21}=15, w_{13}=w_{31}=14, w_{23}=w_{32}=8$.\n",
    "\n",
    "$$Q = \\begin{pmatrix}\n",
    "-25 & 40  &  40 & 8\\\\\n",
    "0   & -25 &  8  & 40\\\\\n",
    "0   &   0 & -26 & 40\\\\\n",
    "0   &   0 &   0 & -26\\\\\n",
    "\\end{pmatrix}$$"
   ]
  },
  {
   "cell_type": "markdown",
   "metadata": {},
   "source": [
    "<a id=\"task3\"></a>\n",
    "### Task 3\n",
    "\n",
    "Input matrix Q calculated in Task 2 to the function *qubo_solver()* and determine $x$ which minimizes $x^T Qx$ and the corresponding minimum value."
   ]
  },
  {
   "cell_type": "markdown",
   "metadata": {},
   "source": [
    "<h3> Solution </h3>"
   ]
  },
  {
   "cell_type": "code",
   "execution_count": 2,
   "metadata": {},
   "outputs": [
    {
     "data": {
      "text/plain": [
       "'The vector (1, 0, 0, 1) minimizes the objective function to a value of -43.'"
      ]
     },
     "execution_count": 2,
     "metadata": {},
     "output_type": "execute_result"
    }
   ],
   "source": [
    "# Access the qubo_solver() function\n",
    "%run qubo_functions.py\n",
    "\n",
    "# Define the Q matrix\n",
    "\n",
    "Q=np.array([[ -25,  40,  40,   8],\n",
    "            [   0, -25,   8,  40],\n",
    "            [   0,   0, -26,  40],\n",
    "            [   0,   0,   0, -26]])\n",
    "\n",
    "\n",
    "# Pass the matrix as an argument to the function\n",
    "qubo_solver(Q)"
   ]
  },
  {
   "cell_type": "markdown",
   "metadata": {},
   "source": [
    "The result in the original notation of variables is $x_{22}=x_{33}=1$. \n",
    "\n",
    "This means that the salesman travels on the following route: $1 \\to 2 \\to 3 \\to 1$. "
   ]
  },
  {
   "cell_type": "markdown",
   "metadata": {},
   "source": [
    "<a id=\"task4\"></a>\n",
    "### Task 4\n",
    "\n",
    "Using the QUBO algebraic expression and testing all possibilities of $x$, verify your result for Task 3. \n",
    "\n",
    "(You may use a Python code for this task)."
   ]
  },
  {
   "cell_type": "markdown",
   "metadata": {},
   "source": [
    "<h3> Solution </h3>"
   ]
  },
  {
   "cell_type": "code",
   "execution_count": 6,
   "metadata": {},
   "outputs": [
    {
     "name": "stdout",
     "output_type": "stream",
     "text": [
      "---\n",
      "The vector x = (1, 0, 0, 1) minimizes the objective function to a value of -43\n"
     ]
    }
   ],
   "source": [
    "#Create a function to evaluate the value of objective function for each x.\n",
    "\n",
    "def tsp_task_4(x):\n",
    "    #INSERT YOUR CODE HERE!\n",
    "    \n",
    "    x1 = x[0]\n",
    "    x2 = x[1]\n",
    "    x3 = x[2]\n",
    "    x4 = x[3]\n",
    "    \n",
    "    B=20\n",
    "    w_12=15\n",
    "    w_21=15\n",
    "    w_13=14\n",
    "    w_31=14\n",
    "    w_23=8\n",
    "    w_32=8\n",
    "    \n",
    "    y = (w_12-2*B)*(x1)**2+(w_21-2*B)*(x2)**2+(w_13-2*B)*(x3)**2+(w_31-2*B)*(x4)**2+w_23*x1*x4+w_32*x3*x2+2*B*x1*x3+2*B*x2*x4+2*B*x1*x2+2*B*x3*x4\n",
    "    return y\n",
    "\n",
    "#Minimize the function for all possibilites of x.\n",
    "#The following code generates the possile permutations of x and calculates the value of the objectve funtion for each.\n",
    "import numpy as np\n",
    "import itertools\n",
    "possible_values = {}\n",
    "vec_permutations = itertools.product([0,1], repeat=4)    # A list of all the possible permutations for x vector\n",
    "for permutation in vec_permutations:\n",
    "    x = np.array([[var] for var in permutation])         # Converts the permutation into a column vector\n",
    "    value = tsp_task_4(x)\n",
    "    possible_values[value[0]] = x\n",
    "    vector = tuple(x.T[0])\n",
    "    #print(\"Vector x =\", vector, \"; Value =\",int(value))  # Displays every vector with its corresponding value\n",
    "    \n",
    "min_value = min(possible_values.keys())                  # Lowest value of the objective function\n",
    "opt_vector = tuple(possible_values[min_value].T[0])      # Optimum x corresponding to lowest value\n",
    "print(\"---\")\n",
    "print(\"The vector x =\", opt_vector, \"minimizes the objective function to a value of\", int(min_value)) "
   ]
  },
  {
   "cell_type": "markdown",
   "metadata": {},
   "source": [
    "The result in the original notation of variables is $x_{22}=x_{33}=1$. \n",
    "\n",
    "This means that the salesman travels on the following route: $1 \\to 2 \\to 3 \\to 1$. "
   ]
  },
  {
   "cell_type": "markdown",
   "metadata": {},
   "source": [
    "<a id=\"task5\"></a>\n",
    "### Task 5\n",
    "\n",
    "Let's assume we have the following fully-connected, undirected graph of 5 nodes / cities and 10 edges, $G = (5,10)$. \n",
    "\n",
    "<img src=\"../images/tsp_2.png\" width=\"250\">\n",
    "\n",
    "Determine the objective function for this graph including the constraints. You may assume suitable values for A and B. Furthermore, identify possible edges and corresponding costs. \n",
    "\n",
    "(Note: You don't need to solve and simplify the expression.)"
   ]
  },
  {
   "cell_type": "markdown",
   "metadata": {},
   "source": [
    "<h3> Solution </h3>"
   ]
  },
  {
   "cell_type": "markdown",
   "metadata": {},
   "source": [
    "Since the objective function to be minimizied (including penalties) is, \n",
    "\n",
    "$$C(x) = A\\sum_{(i,j) \\in E} w_{ij} \\sum_{p=1}^{N} x_{i,p} x_{j,p+1} + B\\sum_{p=1}^{N} \\left(1-\\sum_{i=1}^{N}x_{i,p}\\right)^2 + B\\sum_{i=1}^{N} \\left(1-\\sum_{p=1}^{N}x_{i,p}\\right)^2 + B\\sum_{(i,j) \\notin E} \\sum_{p=1}^{N} x_{i,p} x_{j,p+1}$$\n",
    "\n",
    "Let $A=1$ and $B=30$, under the condition $0<A\\max (w_{ij})<B$ since $\\max (w_{ij})=20$.\n",
    "\n",
    "Moreover, we must drop the last term as the graph is fully connected. So, with these simplifications, \n",
    "\n",
    "$$C(x) = \\sum_{(i,j) \\in E} w_{ij} \\sum_{p=1}^{5} x_{i,p} x_{j,p+1} + B\\sum_{p=1}^{5} \\left(1-\\sum_{i=1}^{5}x_{i,p}\\right)^2 + B\\sum_{i=1}^{5} \\left(1-\\sum_{p=1}^{5}x_{i,p}\\right)^2$$\n",
    "\n",
    "Here, $E=\\{(1,2),(1,3),(1,4),(1,5),(2,1),(2,3),(2,4),(2,5),(3,1),(3,2),(3,4),(3,5),(4,1),(4,2),(4,3),(4,5),(5,1),(5,2),(5,3),(5,4)\\}$. \n",
    "\n",
    "You may notice that the edges are repeated as the graph is undirected. \n",
    "\n",
    "For each $(i,j) \\in E$, corresponding costs $w_{ij}$ are: \n",
    "$$w_{12}=w_{21}=12, w_{13}=w_{31}=10, w_{14}=w_{41}=19, w_{15}=w_{51}=8, w_{23}=w_{32}=3$$ \n",
    "$$w_{24}=w_{42}=7, w_{25}=w_{52}=2, w_{34}=w_{43}=6, w_{35}=w_{53}=20, w_{45}=w_{54}=4$$"
   ]
  },
  {
   "cell_type": "markdown",
   "metadata": {},
   "source": [
    "<a id=\"task6\"></a>\n",
    "### Task 6\n",
    "\n",
    "Let's assume we have the following undirected graph of 5 nodes / cities and 8 edges, $G = (5,8)$. Note, its not fully connected. \n",
    "\n",
    "<img src=\"../images/tsp_4.png\" width=\"250\">\n",
    "\n",
    "Determine the objective function for this graph including the constraints. You may assume suitable values for A and B. Furthermore, identify possible edges and corresponding costs. \n",
    "\n",
    "(Note: You don't need to solve and simplify the expression.)"
   ]
  },
  {
   "cell_type": "markdown",
   "metadata": {},
   "source": [
    "<h3> Solution </h3>"
   ]
  },
  {
   "cell_type": "markdown",
   "metadata": {},
   "source": [
    "Since the objective function to be minimizied (including penalties) is, \n",
    "\n",
    "$$C(x) = A\\sum_{(i,j) \\in E} w_{ij} \\sum_{p=1}^{N} x_{i,p} x_{j,p+1} + B\\sum_{p=1}^{N} \\left(1-\\sum_{i=1}^{N}x_{i,p}\\right)^2 + B\\sum_{i=1}^{N} \\left(1-\\sum_{p=1}^{N}x_{i,p}\\right)^2 + B\\sum_{(i,j) \\notin E} \\sum_{p=1}^{N} x_{i,p} x_{j,p+1}$$\n",
    "\n",
    "Let $A=1$ and $B=30$, under the condition $0<A\\max (w_{ij})<B$ since $\\max (w_{ij})=20$.\n",
    "\n",
    "So, with these simplifications, \n",
    "\n",
    "$$C(x) = \\sum_{(i,j) \\in E} w_{ij} \\sum_{p=1}^{5} x_{i,p} x_{j,p+1} + B\\sum_{p=1}^{5} \\left(1-\\sum_{i=1}^{5}x_{i,p}\\right)^2 + B\\sum_{i=1}^{5} \\left(1-\\sum_{p=1}^{5}x_{i,p}\\right)^2+B\\sum_{(i,j) \\notin E} \\sum_{p=1}^{5} x_{i,p} x_{j,p+1}$$\n",
    "\n",
    "Here, $E=\\{(1,2),(1,3),(1,5),(2,1),(2,3),(2,4),(2,5),(3,1),(3,2),(3,4),(4,2),(4,3),(4,5),(5,1),(5,2),(5,4)\\}$. \n",
    "\n",
    "You may notice that the edges are repeated as the graph is undirected. \n",
    "\n",
    "For each $(i,j) \\in E$, corresponding costs $w_{ij}$ are: \n",
    "$$w_{12}=w_{21}=12, w_{13}=w_{31}=10, w_{15}=w_{51}=8, w_{23}=w_{32}=3$$ \n",
    "$$w_{24}=w_{42}=7, w_{25}=w_{52}=20, w_{34}=w_{43}=6, w_{45}=w_{54}=4$$"
   ]
  },
  {
   "cell_type": "markdown",
   "metadata": {},
   "source": [
    "<div class=\"alert alert-block alert-info\">Note the 4th term here. The sum is over those edges which aren't connected. Hence, $(i,j)\\notin E$. These edges are $(1,4),(4,1),(3,5),(5,3)$. This term makes sure that a relevant penalty is added in the objective function, so that it doesn't result in a minima for such non-connected nodes.</div>"
   ]
  }
 ],
 "metadata": {
  "kernelspec": {
   "display_name": "Python 3",
   "language": "python",
   "name": "python3"
  },
  "language_info": {
   "codemirror_mode": {
    "name": "ipython",
    "version": 3
   },
   "file_extension": ".py",
   "mimetype": "text/x-python",
   "name": "python",
   "nbconvert_exporter": "python",
   "pygments_lexer": "ipython3",
   "version": "3.8.3"
  },
  "latex_envs": {
   "LaTeX_envs_menu_present": true,
   "autoclose": true,
   "autocomplete": true,
   "bibliofile": "biblio.bib",
   "cite_by": "apalike",
   "current_citInitial": 1,
   "eqLabelWithNumbers": true,
   "eqNumInitial": 1,
   "hotkeys": {
    "equation": "Ctrl-E",
    "itemize": "Ctrl-I"
   },
   "labels_anchors": false,
   "latex_user_defs": false,
   "report_style_numbering": false,
   "user_envs_cfg": false
  },
  "toc": {
   "base_numbering": 1,
   "nav_menu": {},
   "number_sections": true,
   "sideBar": true,
   "skip_h1_title": false,
   "title_cell": "Table of Contents",
   "title_sidebar": "Contents",
   "toc_cell": false,
   "toc_position": {},
   "toc_section_display": true,
   "toc_window_display": false
  }
 },
 "nbformat": 4,
 "nbformat_minor": 5
}
