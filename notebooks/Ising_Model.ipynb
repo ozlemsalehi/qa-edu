{
 "cells": [
  {
   "cell_type": "markdown",
   "metadata": {},
   "source": [
    " "
   ]
  },
  {
   "cell_type": "markdown",
   "metadata": {},
   "source": [
    "<table width = \"100%\">\n",
    "  <tr style=\"background-color:white;\">\n",
    "    <!-- QWorld Logo -->\n",
    "    <td style=\"text-align:left;width:200px;\"> \n",
    "        <img src=\"../images/QWorld.png\"> </td>\n",
    "    <td style=\"text-align:right;vertical-align:bottom;font-size:16px;\"> \n",
    "        Prepared by <a href=\"https://gitlab.com/pjr1363\" target=\"_blank\"> Paul Joseph Robin </a></td>\n",
    "    </tr> \n",
    " </table>\n",
    " \n",
    "<hr>"
   ]
  },
  {
   "cell_type": "markdown",
   "metadata": {},
   "source": [
    "## The Ising Model"
   ]
  },
  {
   "cell_type": "markdown",
   "metadata": {},
   "source": [
    "Consider the following collection of $N$ spins arranged linearly. Each spin is equally spaced and may be either up or down. This is the **1-Dimensional Ising model**.\n",
    "\n",
    "<figure>\n",
    "    <img src='../images/Ising_1D.png' alt='Ising 1 D' />\n",
    "</figure>"
   ]
  },
  {
   "cell_type": "markdown",
   "metadata": {},
   "source": [
    "Now, extend the above model to 2 dimensions. Arrange these spins on a 2-D lattice. This collection of random spins is the **2-Dimensional Ising model**.\n",
    "\n",
    "<figure>\n",
    "    <img src='../images/Ising_2D.png' alt='Ising 1 D' />\n",
    "</figure>\n",
    "\n",
    "---"
   ]
  },
  {
   "cell_type": "markdown",
   "metadata": {},
   "source": [
    "<!-- A brief history of the model-->\n",
    "The Ising model was first proposed by Wilhelm Lenz who gave it as a problem to his graduate student Ernst Ising, after whom this model is named. The 1-D model was solved by Ising in his 1924 thesis. Later, in 1944 Lars Onsager solved the 2-D model with the transfer matrix approach$^\\href{https://en.wikipedia.org/wiki/Ising_model/}{ [Wikipedia]}$.  It is powerful in modelling many thermodynamical phenomena and in explaining phase transitions and universality$^\\href{https://www.quantamagazine.org/the-cartoon-picture-of-magnets-that-has-transformed-science-20200624/}{ [Q]}$.\n",
    "\n",
    "<!-- Applications-->\n",
    "Spin Glasses are disordered magnetic materials, which form an important part of condensed matter and statistical physics $^\\href{http://assets.press.princeton.edu/chapters/i9917.pdf}{ [Princeton]}$. It is an alloy of magnetic impurities diluted in a nonmagnetic metal. At 0 K, the spin glass system attains a minimum energy configuration, called the ground state. This state can be found by minimizing the Hamiltonian associated with the system. The spin glass system, due to the intrinsic disorderness, is also related to several optimization problems. \n",
    "\n",
    "The Ising model is a good representation for the study of spin glasses. So, minimizing the Ising Hamiltonian (*introduced below*) gives the ground state (or low energy states) for spin glass systems. Thus, minimizing   is equivalent to the optimal solution for problems like the Max-Cut problem and the Travelling Salesperson problem.\n",
    "\n",
    "---"
   ]
  },
  {
   "cell_type": "markdown",
   "metadata": {},
   "source": [
    " ##### Building the model:\n",
    "- Each spin variable $s_i$ take the values $\\{up \\: (\\uparrow): +1, \\; down \\: (\\downarrow): -1\\}$.\n",
    "- Each spin state (variable) interacts with its nearest neighbour ($NN$) spin. The coupling strength, of this spin-spin interaction, is characterized by the constant $J$.\n",
    " > The number of nearest neighbours in any spin system is given by: &nbsp;&nbsp; $NN_{1-D} = 2$, $NN_{2-D} = 4$, $\\ldots$ , $NN_{i-D} = 2i$\n",
    "- The spins also interact with the external magnetic field $h$, if present. \n",
    "- Conventionally in Physics, both these energy contributions are denoted as negative.\n",
    "\n",
    "##### Definition:\n",
    "$$ H_{ising}(\\mathbf{s}) =   \\sum_{i<j} J_{i,j} s_i s_j + \\sum_i h_{i} s_i $$ \n",
    "where $H$ represents the energy of the Ising model, $h$ corresponds to qubit biases (or to external magnetic fieds in other systems), and $J$ corresponds to the coupling strengths.\n"
   ]
  },
  {
   "cell_type": "markdown",
   "metadata": {},
   "source": [
    " ---"
   ]
  },
  {
   "cell_type": "markdown",
   "metadata": {},
   "source": [
    "### Task 1"
   ]
  },
  {
   "cell_type": "markdown",
   "metadata": {},
   "source": [
    "Given the following Ising formulation, calculate the energy for different spin assignments. Hence, find the lowest energy state.\n",
    "\n",
    "1. Given a set of $3$ positive numbers $\\{4, 2, 6\\}$, consider the following energy function $H$:\n",
    "     $$ H = \\left( \\sum_{i=1}^{3} n_i s_i \\right)^2 $$ where $s_i = \\pm 1$ is the Ising spin and $n_i$ is the $i$-th member of the set.\n",
    "     \n",
    "> **Hint:** Expand the summation, without opening the bracket. Now, evaluate $H$ for all possible values of $s_i$'s.\n",
    "\n",
    "2. Find the lowest energy state(s). Does it have any significance?"
   ]
  },
  {
   "cell_type": "markdown",
   "metadata": {},
   "source": [
    "<a href=\"Ising_Model_Solutions.ipynb#Task1\">Click for the solution >></a>\n",
    "\n",
    "The above problem which you just solved, is formally known as the *Number Partitioning problem*. It is widely used in spin glass studies, to understand computational hardness. Read on to explore the formal Ising formulation of the Number Partitioning problem."
   ]
  },
  {
   "cell_type": "markdown",
   "metadata": {},
   "source": [
    "---\n",
    "### The Number Partitioning Problem: An Ising formulation"
   ]
  },
  {
   "cell_type": "markdown",
   "metadata": {},
   "source": [
    "Given $N$ positive numbers $S = \\{n_1, n_2, ... , n_N\\}$, consider a partition into two disjoint subsets $S_1$ and $S_2$ such that **the sum of elements in both subsets is the same**.\n",
    "\n",
    "#### Ising Formulation:\n",
    "Let $n_i$ where $i = 1, 2, ... , N = |S|$ describe the elements of the set $S$ and let\n",
    "$$ H(\\mathbf{s}) = A \\left( \\sum_{i=1}^{N} n_i s_i \\right)^2 $$ be the Hamilatonian, representing the energy of the system with $s_i = \\pm 1$ . $A$ is a positive constant, which is typically scaled to $1$."
   ]
  },
  {
   "cell_type": "markdown",
   "metadata": {},
   "source": [
    "Essentially we are searching for a configuration where the sum of $n_i$ for $+1$ spins $=$ the sum for $-1$ spins. We find that $H = 0$ is the ideal configuration which minimizes the Hamiltonian of this model. Hence, a solution to the number partitioning problem exists.\n",
    "\n",
    "##### Degenerate States:\n",
    "In the previous task, you will have noticed that two solutions exist which are equivalent. This happens because the choice of labelling $+1$ or $-1$ spin is arbitrary. This double degenracy can be removed, as suggested by Lucas, by fixing the first spin state $s_1 = +1$, which ensures that only $N-1$ spins will be used.\n",
    "\n",
    "#### $H \\neq 0$ :\n",
    "Sometimes, the Hamiltonian does not go to $0$, or a perfect solution does not exist for the partitioning problem. In this case, the lowest energy state found is one of the best possible solutions and ensures that there is minimal difference in the sums of the two sets."
   ]
  },
  {
   "cell_type": "markdown",
   "metadata": {},
   "source": [
    "---"
   ]
  },
  {
   "cell_type": "markdown",
   "metadata": {},
   "source": [
    "<a href=\"Ising_Model_2.ipynb\">Click for the continuation notebook >></a>"
   ]
  },
  {
   "cell_type": "markdown",
   "metadata": {},
   "source": [
    " "
   ]
  }
 ],
 "metadata": {
  "kernelspec": {
   "display_name": "Python 3",
   "language": "python",
   "name": "python3"
  },
  "language_info": {
   "codemirror_mode": {
    "name": "ipython",
    "version": 3
   },
   "file_extension": ".py",
   "mimetype": "text/x-python",
   "name": "python",
   "nbconvert_exporter": "python",
   "pygments_lexer": "ipython3",
   "version": "3.7.6"
  }
 },
 "nbformat": 4,
 "nbformat_minor": 4
}
