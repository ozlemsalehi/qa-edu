{
 "cells": [
  {
   "cell_type": "markdown",
   "id": "f7b56d96",
   "metadata": {},
   "source": [
    "<table width = \"100%\">\n",
    "  <tr style=\"background-color:white;\">\n",
    "    <!-- QWorld Logo -->\n",
    "    <td style=\"text-align:left;width:200px;\"> \n",
    "        <a href=\"https://qworld.net/\" target=\"_blank\"><img src=\"../images/QWorld.png\"> </a></td>\n",
    "    <td style=\"text-align:right;vertical-align:bottom;font-size:16px;\"> \n",
    "        Prepared by <a href=\"https://gitlab.com/sabahuddin.ahmad\" target=\"_blank\"> Sabah Ud Din Ahmad </a></td>\n",
    "    </tr> \n",
    " </table>\n",
    " \n",
    "<hr>"
   ]
  },
  {
   "cell_type": "markdown",
   "id": "5781150f",
   "metadata": {},
   "source": [
    "## Examples for QUBO Formulation"
   ]
  },
  {
   "cell_type": "markdown",
   "id": "3f09bf22",
   "metadata": {},
   "source": [
    "In the previous section, we learnt about the objective functions and QUBO problems. Now, lets apply the QUBO formulation to some of the combinatorial optimization problems. "
   ]
  },
  {
   "cell_type": "markdown",
   "id": "feabe937",
   "metadata": {},
   "source": [
    "### Maximum Cut"
   ]
  },
  {
   "cell_type": "markdown",
   "id": "909ef764",
   "metadata": {},
   "source": [
    "\n",
    "\n",
    "Given a graph, the problem requires splitting the vertices/nodes into two disjoint groups so that there are as many edges as possible between the groups. The partition of two adjacent vertices into disjoint sets is called a cut. The goal of this problem is to find a cut in such a way that the cut covers the maximum number of edges.\n",
    "\n",
    "Since we have to partition the vertices in the graph, we will assign a binary variable for each vertex, i.e. variable $x_i$:\n",
    "\n",
    "$$x_{i}=\n",
    "\\left\\{\n",
    "\\begin{array}{ll} \n",
    "      0, & \\text{if vertex i is a part of Group 1} \\\\\n",
    "      1, & \\text{if vertex i is a part of Group 2} \\\\\n",
    "\\end{array}\n",
    "\\right.$$\n",
    "\n",
    "**The objective function for optimization is maximizing the number of cut edges.** \n",
    "\n",
    "For a particular graph, let's consider a single edge. We only want to count an edge if the endpoints/vertices are in different groups. Let this be denoted by a function i.e. edge_count$(x_i,x_j)$ which depends on the values of $x_i$ & $x_j$. If vertices are in different groups, edge_count$(x_i,x_j)$ gives a 1; otherwise 0.\n",
    "\n",
    "|$x_i$ |$x_j$|edge_count$(x_i,x_j)$|Comment|\n",
    "|:-----|:----:|:----:|:----:|\n",
    "|0 |0 |0 |Vertices are in the same group|\n",
    "|0 |1 |1 |Vertices are in different groups|\n",
    "|1 |0 |1 |Vertices are in different groups|\n",
    "|1 |1 |0 |Vertices are in the same group|\n",
    "\n",
    "From this table, we observe that we can use the expression $x_i+x_j-2x_ix_j$ to calculate the edge_count in the table. \n",
    "\n"
   ]
  },
  {
   "cell_type": "markdown",
   "id": "cc9a0199",
   "metadata": {},
   "source": [
    "### Task 1\n",
    "\n",
    "Verify that the expression $x_i+x_j-2x_ix_j$ gives correct values of edge_count in the table. "
   ]
  },
  {
   "cell_type": "markdown",
   "id": "3005abd8",
   "metadata": {},
   "source": [
    "[Click here for solution](QUBO_Examples_MaximumCut_Solutions.ipynb#task1)\n",
    "\n",
    "***"
   ]
  },
  {
   "cell_type": "markdown",
   "id": "5a285cd3",
   "metadata": {},
   "source": [
    "Since our objective function is maximizing the total number of cut edges, for our entire graph, our objective function is:\n",
    "\n",
    "$$\\max \\sum_{(i,j) \\in E} (x_i+x_j-2x_ix_j)$$\n",
    "\n",
    "where the sum is over edge set E in the graph.\n",
    "\n",
    "Since QUBO formulation minimizes an objective function, we must convert this maximization problem to a minimization problem by multiplying the expression by -1. Our final QUBO expression is the following:\n",
    "\n",
    "$$\\min \\sum_{(i,j) \\in E} (-x_i-x_j+2x_ix_j)$$\n",
    "\n",
    "### Example 1\n",
    "\n",
    "Let's assume we have a simple network of 5 vertices and 6 edges. \n",
    "\n",
    "<img src=\"../images/max-cut1.png\" width=\"250\">\n",
    "\n",
    "**QUBO Algebraic Expression**\n",
    "\n",
    "Using the QUBO expression $\\min \\sum_{(i,j) \\in E} (-x_i-x_j+2x_ix_j)$ and summing over the edges,\n",
    "\n",
    "$\\min y = (-x_1-x_2+2x_1x_2)+(-x_1-x_3+2x_1x_3)+(-x_2-x_4+2x_2x_4)+(-x_3-x_4+2x_3x_4)+(-x_3-x_5+2x_3x_5)+(-x_4-x_5+2x_4x_5)$\n",
    "\n",
    "$\\min y = -2x_1-2x_2-3x_3-3x_4-2x_5+2x_1x_2+2x_1x_3+2x_2x_4+2x_3x_4+2x_3x_5+2x_4x_5$\n",
    "\n",
    "**QUBO Matrix Formulation**\n",
    "\n",
    "Since QUBO doesn't have squared binary variables as its 0 and 1 values remain unchanged when squared, so we can replace any term $x_i^2$ with $x_i$, and vice versa (this doesnt apply to products $x_i x_j$).\n",
    "\n",
    "$\\min y = -2x_1^2-2x_2^2-3x_3^2-3x_4^2-2x_5^2+2x_1x_2+2x_1x_3+2x_2x_4+2x_3x_4+2x_3x_5+2x_4x_5$\n",
    "\n",
    "This takes the desired form:\n",
    "\n",
    "$$\\min_{x \\in {0,1}^n} x^T Q x$$\n",
    "\n",
    "where $x$ is:\n",
    "\n",
    "$$x = \\begin{pmatrix}\n",
    "x_1 \\\\\n",
    "x_2 \\\\\n",
    "x_3 \\\\\n",
    "x_4 \\\\\n",
    "x_5 \n",
    "\\end{pmatrix}$$\n",
    "\n",
    "and the upper diagonal matrix Q is:\n",
    "\n",
    "$$Q = \\begin{pmatrix}\n",
    "-2 & 2 & 2 & 0 & 0\\\\\n",
    "0 & -2 & 0 & 2 & 0\\\\\n",
    "0 & 0 & -3 & 2 & 2\\\\\n",
    "0 & 0 & 0 & -3 & 2\\\\\n",
    "0 & 0 & 0 & 0 & -2\n",
    "\\end{pmatrix}$$\n",
    "\n",
    "If we dont replace the binary variables, this can be visualized this way that the linear terms determine the elements on the main diagonal of Q and the quadratic terms determine the off-diagonal elements. \n",
    "\n",
    "\n",
    "Now, let's minimize our QUBO objective function and find the optimum $x$ that results in a division of vertices with the greatest edge-cut size. Edge-cut size is a measure of the total number of edges crossed by a cut. "
   ]
  },
  {
   "cell_type": "markdown",
   "id": "d229940f",
   "metadata": {},
   "source": [
    "**Identification of $x$** \n",
    "\n",
    "For our graph of 5 vertices, suppose we have the following cut:\n",
    "<img src=\"../images/max-cut3.png\" width=\"300\">\n",
    "The cut partitions vertices 1, 4 & 5 in one group (assume it to be Group 1) and vertices 2 & 3 in the other group (Group 2). From our definition of the binary variable $x_i$, $x_1 = x_4 = x_5 = 0$ and $x_2 = x_3 = 1$. So, $x=(0,1,1,0,0)$. \n",
    "\n",
    "Similarly, we can identify $x$ for other possible cuts too. \n"
   ]
  },
  {
   "cell_type": "markdown",
   "id": "c1ea5163",
   "metadata": {},
   "source": [
    "### Task 2\n",
    "\n",
    "For our graph in Example 1, we have some possible cuts as shown below: \n",
    "\n",
    "<img src=\"../images/max-cut5.png\">\n",
    "\n",
    "Identify $x$ and the edge-cut size for each cut. Then, evaluate the value of the objective function with the identified $x$ using QUBO matrix formulation."
   ]
  },
  {
   "cell_type": "markdown",
   "id": "ce6febd6",
   "metadata": {},
   "source": [
    "[Click here for solution](QUBO_Examples_MaximumCut_Solutions.ipynb#task2)\n",
    "\n",
    "***"
   ]
  },
  {
   "cell_type": "markdown",
   "id": "b1056da9",
   "metadata": {},
   "source": [
    "### Task 3\n",
    "\n",
    "Input matrix Q calculated in Example 1 to the function *qubo_solver()* and determine $x$ which minimizes $x^T Qx$ and the corresponding minimum value.\n",
    "\n",
    "$$Q = \\begin{pmatrix}\n",
    "-2 & 2 & 2 & 0 & 0\\\\\n",
    "0 & -2 & 0 & 2 & 0\\\\\n",
    "0 & 0 & -3 & 2 & 2\\\\\n",
    "0 & 0 & 0 & -3 & 2\\\\\n",
    "0 & 0 & 0 & 0 & -2\n",
    "\\end{pmatrix}$$"
   ]
  },
  {
   "cell_type": "code",
   "execution_count": 4,
   "id": "6f853c10",
   "metadata": {},
   "outputs": [],
   "source": [
    "# Access the qubo_solver() function\n",
    "%run qubo_functions.py\n",
    "\n",
    "# Define the Q matrix\n",
    "\n",
    "\n",
    "\n",
    "# Pass the matrix as an argument to the function\n",
    "qubo_solver(Q)"
   ]
  },
  {
   "cell_type": "markdown",
   "id": "efd9df2e",
   "metadata": {},
   "source": [
    "[Click here for solution](QUBO_Examples_MaximumCut_Solutions.ipynb#task3)\n",
    "\n",
    "***"
   ]
  },
  {
   "cell_type": "markdown",
   "id": "3ca9d25d",
   "metadata": {},
   "source": [
    "Now, let's verify our result using the QUBO algebraic formulation."
   ]
  },
  {
   "cell_type": "markdown",
   "id": "303dfdbe",
   "metadata": {},
   "source": [
    "### Task 4\n",
    "\n",
    "Using the QUBO algebraic expression and testing all possibilities of $x$ for the possible cuts, verify that the QUBO model in Example 1 has a minima at $x=(1,0,0,1,1)$ with a maximum edge-cut size of 5. \n",
    "\n",
    "(You may use a Python code for this task)."
   ]
  },
  {
   "cell_type": "code",
   "execution_count": 2,
   "id": "279f48dc",
   "metadata": {},
   "outputs": [],
   "source": [
    "#Create a function to evaluate the value of objective function for each x.\n",
    "\n",
    "def maxcut_task_3(x):\n",
    "    #INSERT YOUR CODE HERE!\n",
    "    \n",
    "    \n",
    "    \n",
    "    return y\n",
    "\n",
    "#Minimize the function for all possibilites of x.\n",
    "#The following code generates the possile permutations of x and calculates the value of the objectve funtion for each.\n",
    "import numpy as np\n",
    "import itertools\n",
    "possible_values = {}                                     # Creating a dictionary\n",
    "vec_permutations = itertools.product([0,1], repeat=5)    # A list of all the possible permutations for x vector\n",
    "for permutation in vec_permutations:\n",
    "    x = np.array([[var] for var in permutation])         # Converts the permutation into a column vector\n",
    "    value = maxcut_task_3(x)                             # Call to the function\n",
    "    possible_values[value[0]] = x                        # Storing vectors and values in dictionary\n",
    "    vector = tuple(x.T[0])\n",
    "    print(\"Vector x =\", vector, \"; Value =\",int(value))\n",
    "    \n",
    "min_value = min(possible_values.keys())                  # Lowest value of the objective function\n",
    "opt_vector = tuple(possible_values[min_value].T[0])      # Optimum x corresponding to lowest value\n",
    "print(\"---\")\n",
    "print(\"The vector x =\", opt_vector, \"minimizes the objective function to a value of\", int(min_value))"
   ]
  },
  {
   "cell_type": "markdown",
   "id": "dcd51f08",
   "metadata": {},
   "source": [
    "[Click here for solution](QUBO_Examples_MaximumCut_Solutions.ipynb#task4)\n",
    "\n",
    "***"
   ]
  },
  {
   "cell_type": "markdown",
   "id": "c38f718f",
   "metadata": {},
   "source": [
    "### Task 5\n",
    "\n",
    "Let's assume we have a simple network of 5 vertices and 7 edges. \n",
    "\n",
    "<img src=\"../images/max-cut2.png\" width=\"250\">\n",
    "\n",
    "Using the QUBO expression $\\min \\sum_{(i,j) \\in E} (-x_i-x_j+2x_ix_j)$, determine the matrix Q for this graph. "
   ]
  },
  {
   "cell_type": "markdown",
   "id": "41a3def5",
   "metadata": {},
   "source": [
    "[Click here for solution](QUBO_Examples_MaximumCut_Solutions.ipynb#task5)\n",
    "\n",
    "***"
   ]
  },
  {
   "cell_type": "markdown",
   "id": "d489158c",
   "metadata": {},
   "source": [
    "### Task 6\n",
    "\n",
    "Repeat Task 3 for the matrix Q calculated in Task 5."
   ]
  },
  {
   "cell_type": "code",
   "execution_count": null,
   "id": "f302d5d4",
   "metadata": {},
   "outputs": [],
   "source": [
    "#Access the qubo_solver() function\n",
    "%run qubo_functions.py\n",
    "\n",
    "# Define the Q matrix\n",
    "#Assign it the name Q2\n",
    "\n",
    "\n",
    "\n",
    "# Pass the matrix as an argument to the function\n",
    "qubo_solver(Q2)"
   ]
  },
  {
   "cell_type": "markdown",
   "id": "90919bb2",
   "metadata": {},
   "source": [
    "[Click here for solution](QUBO_Examples_MaximumCut_Solutions.ipynb#task6)\n",
    "\n",
    "***"
   ]
  },
  {
   "cell_type": "markdown",
   "id": "5e6f4a56",
   "metadata": {},
   "source": [
    "### Task 7\n",
    "\n",
    "Using the QUBO algebraic expression, verify your result for Task 6. \n",
    "\n",
    "(You may use a Python code for this task)."
   ]
  },
  {
   "cell_type": "code",
   "execution_count": null,
   "id": "f7c7b22e",
   "metadata": {},
   "outputs": [],
   "source": [
    "#Create a function to evaluate the value of objective function for each x.\n",
    "\n",
    "def maxcut_task_7(x):\n",
    "    #INSERT YOUR CODE HERE!\n",
    "    \n",
    "    \n",
    "    \n",
    "    return y\n",
    "\n",
    "#Minimize the function for all possibilites of x.\n",
    "#The following code generates the possile permutations of x and calculates the value of the objectve funtion for each.\n",
    "import numpy as np\n",
    "import itertools\n",
    "possible_values_7 = {}\n",
    "vec_permutations = itertools.product([0,1], repeat=5)    # A list of all the possible permutations for x vector\n",
    "for permutation in vec_permutations:\n",
    "    x = np.array([[var] for var in permutation])         # Converts the permutation into a column vector\n",
    "    value = maxcut_task_7(x)\n",
    "    possible_values_7[value[0]] = x\n",
    "    vector = tuple(x.T[0])\n",
    "    # print(\"Vector x =\", vector, \"; Value =\",int(value))  # Displays every vector with its corresponding value\n",
    "    \n",
    "min_value = min(possible_values_7.keys())                  # Lowest value of the objective function\n",
    "opt_vector = tuple(possible_values_7[min_value].T[0])      # Optimum x corresponding to lowest value\n",
    "print(\"---\")\n",
    "print(\"The vector x =\", opt_vector, \"minimizes the objective function to a value of\", int(min_value)) "
   ]
  },
  {
   "cell_type": "markdown",
   "id": "3f3ba361",
   "metadata": {},
   "source": [
    "[Click here for solution](QUBO_Examples_MaximumCut_Solutions.ipynb#task7)\n",
    "\n",
    "***"
   ]
  },
  {
   "cell_type": "markdown",
   "id": "1c46bc86",
   "metadata": {},
   "source": [
    "### References\n",
    "***\n",
    "1. D-Wave Systems Examples. (2021). *Maximum Cut.* Github https://github.com/dwave-examples/maximum-cut\n",
    "2. Fred Glover, Gary Kochenberger, Yu Du. (2019). *Quantum Bridge Analytics I: A Tutorial on Formulating and Using QUBO Models.* [[arXiv Preprint]](https://arxiv.org/abs/1811.11538)"
   ]
  },
  {
   "cell_type": "code",
   "execution_count": null,
   "id": "c4de4666",
   "metadata": {},
   "outputs": [],
   "source": []
  }
 ],
 "metadata": {
  "kernelspec": {
   "display_name": "Python 3 (ipykernel)",
   "language": "python",
   "name": "python3"
  },
  "language_info": {
   "codemirror_mode": {
    "name": "ipython",
    "version": 3
   },
   "file_extension": ".py",
   "mimetype": "text/x-python",
   "name": "python",
   "nbconvert_exporter": "python",
   "pygments_lexer": "ipython3",
   "version": "3.9.5"
  },
  "latex_envs": {
   "LaTeX_envs_menu_present": true,
   "autoclose": true,
   "autocomplete": true,
   "bibliofile": "biblio.bib",
   "cite_by": "apalike",
   "current_citInitial": 1,
   "eqLabelWithNumbers": true,
   "eqNumInitial": 1,
   "hotkeys": {
    "equation": "Ctrl-E",
    "itemize": "Ctrl-I"
   },
   "labels_anchors": false,
   "latex_user_defs": false,
   "report_style_numbering": false,
   "user_envs_cfg": false
  },
  "toc": {
   "base_numbering": 1,
   "nav_menu": {},
   "number_sections": true,
   "sideBar": true,
   "skip_h1_title": false,
   "title_cell": "Table of Contents",
   "title_sidebar": "Contents",
   "toc_cell": false,
   "toc_position": {},
   "toc_section_display": true,
   "toc_window_display": false
  }
 },
 "nbformat": 4,
 "nbformat_minor": 5
}
