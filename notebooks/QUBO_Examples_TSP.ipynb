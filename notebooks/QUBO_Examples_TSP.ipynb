{
 "cells": [
  {
   "cell_type": "markdown",
   "id": "disciplinary-spring",
   "metadata": {},
   "source": [
    "<table width = \"100%\">\n",
    "  <tr style=\"background-color:white;\">\n",
    "    <!-- QWorld Logo -->\n",
    "    <td style=\"text-align:left;width:200px;\"> \n",
    "        <a href=\"https://qworld.net/\" target=\"_blank\"><img src=\"../images/QWorld.png\"> </a></td>\n",
    "    <td style=\"text-align:right;vertical-align:bottom;font-size:16px;\"> \n",
    "        Prepared by <a href=\"https://gitlab.com/sabahuddin.ahmad\" target=\"_blank\"> Sabah Ud Din Ahmad </a></td>\n",
    "    </tr> \n",
    " </table>\n",
    " \n",
    "<hr>"
   ]
  },
  {
   "cell_type": "markdown",
   "id": "impressive-cleaner",
   "metadata": {},
   "source": [
    "## Examples for QUBO Formulation"
   ]
  },
  {
   "cell_type": "markdown",
   "id": "gross-craft",
   "metadata": {},
   "source": [
    "In the previous section, we learnt about the penalty method for constrained problems. Now, lets apply it to some important constrained optimization problems. "
   ]
  },
  {
   "cell_type": "markdown",
   "id": "quick-contribution",
   "metadata": {},
   "source": [
    "### Travelling Salesman Problem (TSP)"
   ]
  },
  {
   "cell_type": "markdown",
   "id": "upset-working",
   "metadata": {},
   "source": [
    "Recall, given a set of cities and corresponding distances between each pair of cities, the problem is to find the shortest possible route such that a salesman visits every city exactly once and returns to the starting point / hometown. So, eventually, the salesman maximizes his sales by minimizng the total cost of travelling between the nodes. \n",
    "\n",
    "#### Hamiltonian Cycle\n",
    "\n",
    "A path through a graph that visits each node (city) exactly once is called a Hamiltonian path or a **Hamiltonian cycle**. To define the mathematical formulation, the problem asks for the shortest Hamiltonian cycle that can be taken through each of the nodes. So, we will find the shortest Hamiltonian cycle in a graph $G = (V,E)$ with N nodes and costs $w_{ij}$ (cost of travelling from node $i$ to node $j$). Here $V =\\{1,...N\\}$ is the set of nodes and E is the edge set. \n",
    "\n",
    "The cycle is defined using $N^2$ binary variables $x_{i,p}$, where $i$ represents the node and $p$ represents the order in that cycle. The variable results in 1 if salesman passes node $i$ if its at position $p$ in the route.\n",
    "$$x_{ip}=\n",
    "\\left\\{\n",
    "\\begin{array}{ll} \n",
    "      1, & \\text{node i is at position p in the route} \\\\\n",
    "      0, & \\text{otherwise} \\\\\n",
    "\\end{array}\n",
    "\\right.$$\n",
    "\n",
    "#### Directed vs Undirected Graphs\n",
    "\n",
    "The nodes are labelled 1 to N and the edge set can be:\n",
    "* directed: order $(i,j)$ matters\n",
    "* undirected: order doesn't matter \n",
    "\n",
    "We will assume our graph to be directed with edge set $(i,j)$. We can extend to undirected graphs by just considering a directed graph with $(j,i)$ added to the edge set E whenever $(i,j)$ is added to the edge set E.\n",
    "\n",
    "#### Constraints\n",
    "\n",
    "The problem involves the following constraints:\n",
    "1. Each node can only appear once in the whole cycle.\n",
    "$$\\sum_{i=1}^{N} x_{i,p} = 1 \\;\\;\\;\\;\\; \\forall p$$\n",
    "\n",
    "The equivalent penalty is,\n",
    "$$B\\sum_{p=1}^{N} \\left(1-\\sum_{i=1}^{N}x_{i,p}\\right)^2$$\n",
    "\n",
    "2. For each time, a node has to occur.\n",
    "$$\\sum_{p=1}^{N} x_{i,p} = 1 \\;\\;\\;\\;\\; \\forall i$$\n",
    "\n",
    "The equivalent penalty is,\n",
    "$$B\\sum_{i=1}^{N} \\left(1-\\sum_{p=1}^{N}x_{i,p}\\right)^2$$\n",
    "\n",
    "3. If the graph isn't fully connected such that there exists $(i,j) \\notin E$, so for a given route order, if $x_{i,p}$ and $x_{j,p+1}$ are both 1 (the nodes are in a given order but there is no edge linking them), there will be an energy penalty.\n",
    "$$x_{i,p} + x_{j,p+1} \\leq 1 \\;\\;\\;\\;\\;  p=1,...,K $$\n",
    "\n",
    "The  equivalent penalty is,\n",
    "$$B\\sum_{(i,j) \\notin E} \\sum_{p=1}^{N} x_{i,p} x_{j,p+1} > 0$$\n",
    "\n",
    "#### Objective Function\n",
    "\n",
    "The cost that needs to be minimized is:\n",
    "$$C(x) = \\sum_{(i,j) \\in E} w_{ij} \\sum_{p=1}^{N} x_{i,p} x_{j,p+1}$$\n",
    "\n",
    "Now, including the constraints to get a single objective function:\n",
    "$$C(x) = A\\sum_{(i,j) \\in E} w_{ij} \\sum_{p=1}^{N} x_{i,p} x_{j,p+1} + B\\sum_{p=1}^{N} \\left(1-\\sum_{i=1}^{N}x_{i,p}\\right)^2 + B\\sum_{i=1}^{N} \\left(1-\\sum_{p=1}^{N}x_{i,p}\\right)^2 + B\\sum_{(i,j) \\notin E} \\sum_{p=1}^{N} x_{i,p} x_{j,p+1}$$\n",
    "\n",
    "Here, A should be small enough so not to violate the constraints whereas B is a positive penalty parameter that should be sufficiently large for the constraints to be considered. One possibility can be $0<A\\max (w_{ij})<B$ (assuming that $w_{ij} \\geq 0$ for each $(i,j) \\in E$)."
   ]
  },
  {
   "cell_type": "markdown",
   "id": "danish-confusion",
   "metadata": {},
   "source": [
    "<a id=\"example\"></a>\n",
    "### Example: TSP with 3 Nodes\n",
    "\n",
    "Let's assume we have the following fully-connected, undirected graph of 3 nodes / cities and 3 edges, $G = (3,3)$. \n",
    "\n",
    "<img src=\"../images/tsp_3.png\" width=\"250\">\n",
    "\n",
    "We will now **determine the matrix Q** for this graph. \n",
    "\n",
    "Since the graph is fully connected, we must drop the last term corresponding to the 3rd constraint. Let $A=1$ and $B=20$, under the condition $0<A\\max (w_{ij})<B$ since $\\max (w_{ij})=15$.\n",
    "So, with these simplifications,\n",
    "\n",
    "$$C(x) = \\sum_{(i,j) \\in E} w_{ij} \\sum_{p=1}^{3} x_{i,p} x_{j,p+1} + B\\sum_{p=1}^{3} \\left(1-\\sum_{i=1}^{3}x_{i,p}\\right)^2 + B\\sum_{i=1}^{3} \\left(1-\\sum_{p=1}^{3}x_{i,p}\\right)^2$$\n",
    "$$C(x) = \\sum_{(i,j) \\in E} w_{ij} (x_{i1}x_{j2} + x_{i2}x_{j3} + x_{i3}x_{j4}) + B\\sum_{p=1}^{3} \\left(1 - (x_{1p}+x_{2p}+x_{3p})\\right)^2 + B\\sum_{i=1}^{3} \\left(1-(x_{i1}+x_{i2}+x_{i3})\\right)^2$$\n",
    "\n",
    "Let's look at the first term.\n",
    "$$\\sum_{(i,j) \\in E} w_{ij} (x_{i1}x_{j2} + x_{i2}x_{j3} + x_{i3}x_{j4})$$\n",
    "\n",
    "Here, $E=\\{(1,2),(1,3),(2,1),(2,3),(3,1),(3,2)\\}$. You may notice that the edges are repeated as the graph is undirected. For each $(i,j) \\in E$, corresponding $w_{ij}$ is multiplied with a sum of crossterms ($x_{i,p}x_{j,p+1}$) which are binary variables. The indices i and j in $w_{ij}$ denote the relevant indices of the crossterms. E.g. for $(1,2)$,\n",
    "$$w_{12} (x_{11}x_{22} + x_{12}x_{23} + x_{13}x_{24})$$ where $w_{12}=15$.\n",
    "\n",
    "Within the summation, we have a total of 6 terms, one for each $(i,j)\\in E$. Summing up for all,\n",
    "$$w_{12} (x_{11}x_{22} + x_{12}x_{23} + x_{13}x_{24})+..........+w_{32} (x_{31}x_{22} + x_{32}x_{23} + x_{33}x_{24})$$\n",
    "\n",
    "where $w_{12}=w_{21}=15, w_{13}=w_{31}=14, w_{23}=w_{32}=8$.\n",
    "\n",
    "Let's look at the second term.\n",
    "$$B\\sum_{p=1}^{3} \\left(1 - (x_{1p}+x_{2p}+x_{3p})\\right)^2$$\n",
    "Expanding the sum,\n",
    "$$B\\left[\\left(1 - (x_{11}+x_{21}+x_{31})\\right)^2+\\left(1 - (x_{12}+x_{22}+x_{32})\\right)^2+\\left(1 - (x_{13}+x_{23}+x_{33})\\right)^2\\right]$$\n",
    "This can be simplified by expanding the quadratic expressions to get linear terms ($x_{ip}$), quadratic terms ($x_{ip}^2$), and a constant 3B.\n",
    "\n",
    "Let's look at the third term.\n",
    "$$B\\sum_{i=1}^{3} \\left(1-(x_{i1}+x_{i2}+x_{i3})\\right)^2$$\n",
    "Expanding the sum,\n",
    "$$B\\left[\\left(1 - (x_{11}+x_{12}+x_{13})\\right)^2+\\left(1 - (x_{21}+x_{22}+x_{23})\\right)^2+\\left(1 - (x_{31}+x_{32}+x_{33})\\right)^2\\right]$$\n",
    "This can be simplified by expanding the quadratic expressions to get linear terms ($x_{ip}$), quadratic terms ($x_{ip}^2$), and a constant 3B.\n",
    "\n",
    "Combining all these, \n",
    "\n",
    "$$C(x) = w_{12} (x_{11}x_{22} + x_{12}x_{23} + x_{13}x_{24})+..........+w_{32} (x_{31}x_{22} + x_{32}x_{23} + x_{33}x_{24})+ B\\left[\\left(1 - (x_{11}+x_{21}+x_{31})\\right)^2+\\left(1 - (x_{12}+x_{22}+x_{32})\\right)^2+\\left(1 - (x_{13}+x_{23}+x_{33})\\right)^2\\right]+ B\\left[\\left(1 - (x_{11}+x_{12}+x_{13})\\right)^2+\\left(1 - (x_{21}+x_{22}+x_{23})\\right)^2+\\left(1 - (x_{31}+x_{32}+x_{33})\\right)^2\\right]$$\n",
    "\n",
    "For ease in calculations, we can replace double index binary variables with single index binary variables.\n",
    "\n",
    "$$(x_{11}, x_{12}, x_{13}, x_{14}, x_{21}, x_{22}, x_{23}, x_{24}, x_{31}, x_{32}, x_{33}, x_{34}) = (x_1, x_2, x_3, x_4, x_5, x_6, x_7,x_8,x_9,x_{10},x_{11}, x_{12})$$\n",
    "\n",
    "To get the matrix Q, we can replace any term $x_i$ with $x_i^2$ and vice versa since these are binary variables (this doesnt apply to products $x_i x_j$). We will ignore the constant $6B$ while constructing the matrix.\n",
    "\n",
    "So, with these modifications, our simplified objective function expression takes the desired form:\n",
    "\n",
    "$$\\min_{x \\in {0,1}^n} x^T Q x$$\n",
    "\n",
    "where:\n",
    "\n",
    "$$x^T = \\begin{pmatrix}\n",
    "x_1 & x_2 & x_3 & x_4 & x_5 & x_6 & x_7 & x_8 & x_9 & x_{10} & x_{11} & x_{12}\n",
    "\\end{pmatrix}$$\n",
    "\n",
    "and we obtain a $12\\times 12$ upper diagonal matrix Q. "
   ]
  },
  {
   "cell_type": "markdown",
   "id": "corrected-group",
   "metadata": {},
   "source": [
    "### Task 1\n",
    "\n",
    "Let's assume we have the following fully-connected, undirected graph of 4 nodes / cities and 6 edges, $G = (4,6)$. \n",
    "\n",
    "<img src=\"../images/tsp_1.png\" width=\"250\">\n",
    "\n",
    "Determine the matrix Q for this graph. (You may assume suitable values for A and B). "
   ]
  },
  {
   "cell_type": "markdown",
   "id": "hourly-colonial",
   "metadata": {},
   "source": [
    "[Click here for solution](QUBO_Examples_TSP_Solutions.ipynb#task1)\n",
    "\n",
    "***"
   ]
  },
  {
   "cell_type": "markdown",
   "id": "meaningful-institution",
   "metadata": {},
   "source": [
    "### Fixing Initial and Final Node\n",
    "\n",
    "In order to simplify the algebraic expressions for a particular graph, we can have a specific case where the initial and final node is fixed. This reduces the number of variables. \n",
    "\n",
    "Let's continue with [Example: TSP with 3 Nodes](#example)."
   ]
  },
  {
   "cell_type": "markdown",
   "id": "designing-scenario",
   "metadata": {},
   "source": [
    "### Task 2\n",
    "\n",
    "Assume Node 1 is the first and the final node in our cycle.\n",
    "\n",
    "$$x_{11}=1 \\;\\;\\;\\;\\; x_{14}=1$$\n",
    "$$x_{12}=x_{13}=x_{21}=x_{24}=x_{31}=x_{34}=0$$\n",
    "\n",
    "With these values of the variables, simplify the objective function and obtain the corresponding matrix Q.  "
   ]
  },
  {
   "cell_type": "markdown",
   "id": "electrical-quest",
   "metadata": {},
   "source": [
    "[Click here for solution](QUBO_Examples_TSP_Solutions.ipynb#task2)\n",
    "\n",
    "***"
   ]
  },
  {
   "cell_type": "markdown",
   "id": "numerous-variable",
   "metadata": {},
   "source": [
    "### Task 3\n",
    "\n",
    "Input matrix Q calculated in Task 2 to the function *qubo_solver()* and determine $x$ which minimizes $x^T Qx$ and the corresponding minimum value."
   ]
  },
  {
   "cell_type": "code",
   "execution_count": null,
   "id": "neutral-sunset",
   "metadata": {},
   "outputs": [],
   "source": [
    "# Access the qubo_solver() function\n",
    "%run qubo_functions.py\n",
    "\n",
    "# Define the Q matrix\n",
    "\n",
    "\n",
    "\n",
    "# Pass the matrix as an argument to the function\n",
    "qubo_solver(Q)"
   ]
  },
  {
   "cell_type": "markdown",
   "id": "expensive-control",
   "metadata": {},
   "source": [
    "[Click here for solution](QUBO_Examples_TSP_Solutions.ipynb#task3)\n",
    "\n",
    "***"
   ]
  },
  {
   "cell_type": "markdown",
   "id": "confused-fields",
   "metadata": {},
   "source": [
    "### Task 4\n",
    "\n",
    "Using the QUBO algebraic expression and testing all possibilities of $x$, verify your result for Task 3. \n",
    "\n",
    "(You may use a Python code for this task)."
   ]
  },
  {
   "cell_type": "code",
   "execution_count": null,
   "id": "static-oxide",
   "metadata": {},
   "outputs": [],
   "source": [
    "#Create a function to evaluate the value of objective function for each x.\n",
    "\n",
    "def tsp_task_4(x):\n",
    "    #INSERT YOUR CODE HERE!\n",
    "    \n",
    "    \n",
    "    \n",
    "    return y\n",
    "\n",
    "#Minimize the function for all possibilites of x.\n",
    "#The following code generates the possile permutations of x and calculates the value of the objectve funtion for each.\n",
    "import numpy as np\n",
    "import itertools\n",
    "possible_values = {}\n",
    "vec_permutations = itertools.product([0,1], repeat=4)    # A list of all the possible permutations for x vector\n",
    "for permutation in vec_permutations:\n",
    "    x = np.array([[var] for var in permutation])         # Converts the permutation into a column vector\n",
    "    value = tsp_task_4(x)\n",
    "    possible_values[value[0]] = x\n",
    "    vector = tuple(x.T[0])\n",
    "    #print(\"Vector x =\", vector, \"; Value =\",int(value))  # Displays every vector with its corresponding value\n",
    "    \n",
    "min_value = min(possible_values.keys())                  # Lowest value of the objective function\n",
    "opt_vector = tuple(possible_values[min_value].T[0])      # Optimum x corresponding to lowest value\n",
    "print(\"---\")\n",
    "print(\"The vector x =\", opt_vector, \"minimizes the objective function to a value of\", int(min_value)) "
   ]
  },
  {
   "cell_type": "markdown",
   "id": "regulated-injury",
   "metadata": {},
   "source": [
    "[Click here for solution](QUBO_Examples_TSP_Solutions.ipynb#task4)\n",
    "\n",
    "***"
   ]
  },
  {
   "cell_type": "markdown",
   "id": "bright-orleans",
   "metadata": {},
   "source": [
    "### Task 5\n",
    "\n",
    "Let's assume we have the following fully-connected, undirected graph of 5 nodes / cities and 10 edges, $G = (5,10)$. \n",
    "\n",
    "<img src=\"../images/tsp_2.png\" width=\"250\">\n",
    "\n",
    "Determine the objective function for this graph including the constraints. You may assume suitable values for A and B. Furthermore, identify possible edges and corresponding costs. \n",
    "\n",
    "(Note: You don't need to solve and simplify the expression.) "
   ]
  },
  {
   "cell_type": "markdown",
   "id": "honest-quilt",
   "metadata": {},
   "source": [
    "[Click here for solution](QUBO_Examples_TSP_Solutions.ipynb#task5)\n",
    "\n",
    "***"
   ]
  },
  {
   "cell_type": "markdown",
   "id": "cubic-netherlands",
   "metadata": {},
   "source": [
    "### Task 6\n",
    "\n",
    "Let's assume we have the following undirected graph of 5 nodes / cities and 8 edges, $G = (5,8)$. Note, its not fully connected. \n",
    "\n",
    "<img src=\"../images/tsp_4.png\" width=\"250\">\n",
    "\n",
    "Determine the objective function for this graph including the constraints. You may assume suitable values for A and B. Furthermore, identify possible edges and corresponding costs. \n",
    "\n",
    "(Note: You don't need to solve and simplify the expression.)"
   ]
  },
  {
   "cell_type": "markdown",
   "id": "certain-anderson",
   "metadata": {},
   "source": [
    "[Click here for solution](QUBO_Examples_TSP_Solutions.ipynb#task6)\n",
    "\n",
    "***"
   ]
  },
  {
   "cell_type": "markdown",
   "id": "metric-korean",
   "metadata": {},
   "source": [
    "### References\n",
    "***\n",
    "1. Qiskit Tutorials. (n.d.). *Max-Cut and Traveling Salesman Problem.* Qiskit. [Link](https://qiskit.org/documentation/optimization/tutorials/06_examples_max_cut_and_tsp.html) \n",
    "2. Andrew Lucas. (2014). *Ising formulations of many NP problems.* Frontiers in Physics, Volume 2, Article 5. [Link](https://doi.org/10.3389/fphy.2014.00005)\n",
    "3. Ozlem Salehi, & Adam Glos, & Jaroslaw Adam Miszczak. (2021). *Unconstrained Binary Models of the Travelling Salesman Problem Variants for Quantum Optimization.* [[arXiv Preprint]](https://arxiv.org/abs/2106.09056)"
   ]
  }
 ],
 "metadata": {
  "kernelspec": {
   "display_name": "Python 3",
   "language": "python",
   "name": "python3"
  },
  "language_info": {
   "codemirror_mode": {
    "name": "ipython",
    "version": 3
   },
   "file_extension": ".py",
   "mimetype": "text/x-python",
   "name": "python",
   "nbconvert_exporter": "python",
   "pygments_lexer": "ipython3",
   "version": "3.7.3"
  },
  "latex_envs": {
   "LaTeX_envs_menu_present": true,
   "autoclose": true,
   "autocomplete": true,
   "bibliofile": "biblio.bib",
   "cite_by": "apalike",
   "current_citInitial": 1,
   "eqLabelWithNumbers": true,
   "eqNumInitial": 1,
   "hotkeys": {
    "equation": "Ctrl-E",
    "itemize": "Ctrl-I"
   },
   "labels_anchors": false,
   "latex_user_defs": false,
   "report_style_numbering": false,
   "user_envs_cfg": false
  },
  "toc": {
   "base_numbering": 1,
   "nav_menu": {},
   "number_sections": true,
   "sideBar": true,
   "skip_h1_title": false,
   "title_cell": "Table of Contents",
   "title_sidebar": "Contents",
   "toc_cell": false,
   "toc_position": {},
   "toc_section_display": true,
   "toc_window_display": false
  }
 },
 "nbformat": 4,
 "nbformat_minor": 5
}
