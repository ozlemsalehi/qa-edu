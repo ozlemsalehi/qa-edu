{
 "cells": [
  {
   "cell_type": "markdown",
   "metadata": {},
   "source": [
    "<table width = \"100%\">\n",
    "  <tr style=\"background-color:white;\">\n",
    "    <!-- QWorld Logo -->\n",
    "    <td style=\"text-align:left;width:200px;\"> \n",
    "        <a href=\"https://qworld.net/\" target=\"_blank\"><img src=\"../images/QWorld.png\"> </a></td>\n",
    "    <td style=\"text-align:right;vertical-align:bottom;font-size:16px;\"> \n",
    "        Prepared by <a href=\"https://gitlab.com/sabahuddin.ahmad\" target=\"_blank\"> Sabah Ud Din Ahmad </a></td>\n",
    "    </tr> \n",
    " </table>\n",
    " \n",
    "<hr>"
   ]
  },
  {
   "cell_type": "markdown",
   "metadata": {},
   "source": [
    "## <font color=\"blue\"> Solutions for </font> QUBO Examples - Graph Coloring"
   ]
  },
  {
   "cell_type": "markdown",
   "metadata": {},
   "source": [
    "<a id=\"task1\"></a>\n",
    "### Task 1\n",
    "\n",
    "Give the mathematical expressions for the constraints of the Graph Coloring problem. \n",
    "\n",
    "Moreover, give the expressions of the equivalent penalties and then determine the expression of the objective function that has to be minimized. \n",
    "\n",
    "**Hint**: To get equivalent penalties, you can review the [Specific Cases](QUBO_PenaltyMethod.ipynb#cases) in the Penalty Method notebook."
   ]
  },
  {
   "cell_type": "markdown",
   "metadata": {},
   "source": [
    "<h3> Solution </h3>"
   ]
  },
  {
   "cell_type": "markdown",
   "metadata": {},
   "source": [
    "#### Constraints & Penalties\n",
    "\n",
    "The problem involves the following constraints:\n",
    "1. *Each node must be colored.*\n",
    "\n",
    "The mathematical expression is,\n",
    "$$\\sum_{p=1}^{K} x_{i,p} = 1 \\;\\;\\;\\;\\;  i=1,...,N $$\n",
    "\n",
    "where N is the total number of nodes in the graph.\n",
    "\n",
    "The equivalent penalty is,\n",
    "$$P\\sum_{i=1}^{N} \\left(1-\\sum_{p=1}^{K}x_{i,p}\\right)^2$$\n",
    "\n",
    "2. *Adjacent nodes must be assigned different colors.*\n",
    "\n",
    "The mathematical expression is,\n",
    "$$x_{i,p} + x_{j,p} \\leq 1 \\;\\;\\;\\;\\;  p=1,...,K $$\n",
    "\n",
    "for all adjacent nodes $(i,j)$ in the graph. \n",
    "\n",
    "The equivalent penalty is,\n",
    "$$P\\sum_{(i,j) \\in E} \\sum_{p=1}^{K} x_{i,p}x_{j,p}$$\n",
    "\n",
    "#### Objective Function\n",
    "\n",
    "Including the penalties, our objective function is,\n",
    "$$O(x)=P\\sum_{i=1}^{N} \\left(1-\\sum_{p=1}^{K}x_{i,p}\\right)^2 + P\\sum_{(i,j) \\in E} \\sum_{p=1}^{K} x_{i,p}x_{j,p}$$\n",
    "\n",
    "Here, P is a positive, scalar penalty parameter and it must be chosen to be sufficiently large."
   ]
  },
  {
   "cell_type": "markdown",
   "metadata": {},
   "source": [
    "<a id=\"task2\"></a>\n",
    "### Task 2\n",
    "\n",
    "Let's assume we have the following graph.  \n",
    "\n",
    "<img src=\"../images/gc_1.png\" width=\"250\">\n",
    "\n",
    "Determine the objective function for this graph so that a feasible coloring is possible using $K=3$ colors."
   ]
  },
  {
   "cell_type": "markdown",
   "metadata": {},
   "source": [
    "<h3> Solution </h3>"
   ]
  },
  {
   "cell_type": "markdown",
   "metadata": {},
   "source": [
    "Objective function for the given graph is,\n",
    "$$O(x)=P\\sum_{i=1}^{5} \\left(1-\\sum_{p=1}^{3}x_{i,p}\\right)^2 + P\\sum_{(i,j) \\in E} \\sum_{p=1}^{3} x_{i,p}x_{j,p}$$\n",
    "\n",
    "Let's look at the first term.\n",
    "$$P\\sum_{i=1}^{5} \\left(1-\\sum_{p=1}^{3}x_{i,p}\\right)^2$$\n",
    "Expanding the sum,\n",
    "$$P\\left[\\left(1-(x_{11}+x_{12}+x_{13})\\right)^2+\\left(1-(x_{21}+x_{22}+x_{23})\\right)^2+\\left(1-(x_{31}+x_{32}+x_{33})\\right)^2+\\left(1-(x_{41}+x_{42}+x_{43})\\right)^2+\\left(1-(x_{51}+x_{52}+x_{53})\\right)^2\\right]$$\n",
    "\n",
    "This can be simplified by expanding the quadratic expressions to get linear terms ($x_{ip}$), quadratic terms ($x_{ip}^2$), and a constant 5P.\n",
    "\n",
    "Let's look at the second term.\n",
    "$$P\\sum_{(i,j) \\in E} \\sum_{p=1}^{3} x_{i,p}x_{j,p}$$\n",
    "$$P\\sum_{(i,j) \\in E}\\left(x_{i1}x_{j1}+x_{i2}x_{j2}+x_{i3}x_{j3}\\right)$$\n",
    "\n",
    "Here, $E=\\{(1,2),(1,5),(2,1),(2,3),(2,4),(2,5),(3,2),(3,4),(4,2),(4,3),(4,5),(5,1),(5,2),(5,4)\\}$. You may notice that the edges are repeated as the graph is undirected. For each $(i,j) \\in E$, we have a sum of crossterms ($x_{i,p}x_{j,p}$) which are binary variables. The indices i and j of the edges denote the relevant indices of the crossterms. E.g. for $(1,2)$,\n",
    "$$x_{11}x_{21}+x_{12}x_{22}+x_{13}x_{23}$$\n",
    "\n",
    "Within the summation, we have a total of 14 terms, one for each $(i,j)\\in E$. Summing up for all,\n",
    "$$P\\left(x_{11}x_{21}+x_{12}x_{22}+x_{13}x_{23}+..........+x_{51}x_{41}+x_{52}x_{42}+x_{53}x_{43}\\right)$$\n",
    "\n",
    "Combining all these, \n",
    "\n",
    "$$O(x) = P\\left[\\left(1-(x_{11}+x_{12}+x_{13})\\right)^2+\\left(1-(x_{21}+x_{22}+x_{23})\\right)^2+\\left(1-(x_{31}+x_{32}+x_{33})\\right)^2+\\left(1-(x_{41}+x_{42}+x_{43})\\right)^2+\\left(1-(x_{51}+x_{52}+x_{53})\\right)^2\\right]+P\\left(x_{11}x_{21}+x_{12}x_{22}+x_{13}x_{23}+..........+x_{51}x_{41}+x_{52}x_{42}+x_{53}x_{43}\\right)$$\n"
   ]
  },
  {
   "cell_type": "markdown",
   "metadata": {},
   "source": [
    "<a id=\"task2\"></a>\n",
    "### Task 3\n",
    "\n",
    "Let's assume we have the same graph in the following state.  \n",
    "\n",
    "<img src=\"../images/gc_2.png\" width=\"250\">\n",
    "\n",
    "Determine the matrix Q for this graph so that a feasible coloring is possible using $K=3$ colors. \n",
    "\n",
    "Let $p=1$: Yellow, $p=2$: Green, and $p=3$: Blue."
   ]
  },
  {
   "cell_type": "markdown",
   "metadata": {},
   "source": [
    "<h3> Solution </h3>"
   ]
  },
  {
   "cell_type": "markdown",
   "metadata": {},
   "source": [
    "The objective function is,\n",
    "$$O(x) = P\\left[\\left(1-(x_{11}+x_{12}+x_{13})\\right)^2+\\left(1-(x_{21}+x_{22}+x_{23})\\right)^2+\\left(1-(x_{31}+x_{32}+x_{33})\\right)^2+\\left(1-(x_{41}+x_{42}+x_{43})\\right)^2+\\left(1-(x_{51}+x_{52}+x_{53})\\right)^2\\right]+P\\left(x_{11}x_{21}+x_{12}x_{22}+x_{13}x_{23}+..........+x_{51}x_{41}+x_{52}x_{42}+x_{53}x_{43}\\right)$$\n",
    "\n",
    "This fixes some variables.\n",
    "$$x_{21}=1$$\n",
    "$$x_{11}=x_{22}=x_{23}=x_{31}=x_{41}=x_{51}=0$$\n",
    "\n",
    "The objective function reduces to,\n",
    "$$O(x) = P\\left[\\left(1-(x_{12}+x_{13})\\right)^2+\\left(1-(x_{32}+x_{33})\\right)^2+\\left(1-(x_{42}+x_{43})\\right)^2+\\left(1-(x_{52}+x_{53})\\right)^2\\right]+\n",
    "P\\left(x_{12}x_{52}+x_{13}x_{53}+x_{32}x_{42}+x_{33}x_{43}+x_{42}x_{32}+x_{43}x_{33}+x_{42}x_{52}+x_{43}x_{53}+x_{52}x_{12}+x_{53}x_{13}+x_{52}x_{42}+x_{53}x_{43}\\right)$$\n",
    "\n",
    "For ease in calculations, we can replace double index binary variables with single index binary variables.\n",
    "\n",
    "$$(x_{12}, x_{13}, x_{32}, x_{33}, x_{42}, x_{43}, x_{52}, x_{53}) = (x_1, x_2, x_3, x_4, x_5, x_6, x_7,x_8)$$\n",
    "\n",
    "$$O(x) = P\\left(4-2x_1-2x_2+x_1^2+x_2^2+2x_1x_2-2x_3-2x_4+x_3^2+x_4^2+2x_3x_4-2x_5-2x_6+x_5^2+x_6^2+2x_5x_6-2x_7-2x_8+x_7^2+x_8^2+2x_7x_8+x_1x_7+x_2x_8+x_3x_5+x_4x_6+x_5x_3+x_6x_4+x_5x_7+x_6x_8+x_7x_1+x_8x_2+x_7x_5+x_8x_6\\right)$$\n",
    "\n",
    "To get the matrix Q, we can replace any term $x_i$ with $x_i^2$ and vice versa since these are binary variables (this doesnt apply to products $x_i x_j$).\n",
    "$$O(x) = P\\left(4-x_1^2-x_2^2+2x_1x_2-x_3^2-x_4^2+2x_3x_4-x_5^2-x_6^2+2x_5x_6-x_7^2-x_8^2+2x_7x_8+2x_1x_7+2x_2x_8+2x_3x_5+2x_4x_6+2x_5x_7+2x_6x_8\\right)$$\n",
    "\n",
    "We will ignore the constant $4P$ while constructing the matrix.\n",
    "\n",
    "So, with these modifications, our simplified objective function expression takes the desired form:\n",
    "\n",
    "$$\\min_{x \\in {0,1}^n} x^T Q x$$\n",
    "\n",
    "where:\n",
    "\n",
    "$$x^T = \\begin{pmatrix}\n",
    "x_1 & x_2 & x_3 & x_4 & x_5 & x_6 & x_7 & x_8\n",
    "\\end{pmatrix}$$\n",
    "\n",
    "and we obtain a $8\\times 8$ upper diagonal matrix Q. \n",
    "\n",
    "$$Q = \\begin{pmatrix}\n",
    "-P & 2P & 0 & 0 & 0 & 0 & 2P & 0\\\\\n",
    "0 & -P & 0 & 0 & 0 & 0 & 0 & 2P\\\\\n",
    "0 & 0 & -P & 2P & 2P & 0 & 0 & 0\\\\\n",
    "0 & 0 & 0 & -P & 0 & 2P & 0 & 0\\\\\n",
    "0 & 0 & 0 & 0 & -P & 2P & 2P & 0\\\\\n",
    "0 & 0 & 0 & 0 & 0 & -P & 0 & 2P\\\\\n",
    "0 & 0 & 0 & 0 & 0 & 0 & -P & 2P\\\\\n",
    "0 & 0 & 0 & 0 & 0 & 0 & 0 & -P\\\\\n",
    "\\end{pmatrix}$$\n",
    "\n",
    "Let $P=10$."
   ]
  },
  {
   "cell_type": "markdown",
   "metadata": {},
   "source": [
    "<a id=\"task4\"></a>\n",
    "### Task 4\n",
    "\n",
    "Input matrix Q calculated in Task 3 to the function *qubo_solver()* and determine $x$ which minimizes $x^T Qx$ and the corresponding minimum value."
   ]
  },
  {
   "cell_type": "markdown",
   "metadata": {},
   "source": [
    "<h3> Solution </h3>"
   ]
  },
  {
   "cell_type": "code",
   "execution_count": 1,
   "metadata": {},
   "outputs": [
    {
     "data": {
      "text/plain": [
       "'The vector (1, 0, 0, 1, 1, 0, 0, 1) minimizes the objective function to a value of -40.'"
      ]
     },
     "execution_count": 1,
     "metadata": {},
     "output_type": "execute_result"
    }
   ],
   "source": [
    "# Access the qubo_solver() function\n",
    "%run qubo_functions.py\n",
    "\n",
    "# Define the Q matrix\n",
    "P=10\n",
    "Q=np.array([[-P,2*P,  0,  0,  0, 0, 2*P,  0],\n",
    "            [ 0, -P,  0,  0,  0,  0,  0,2*P],\n",
    "            [ 0,  0, -P,2*P,2*P,  0,  0,  0],\n",
    "            [ 0,  0,  0, -P,  0,2*P,  0,  0],\n",
    "            [ 0,  0,  0,  0, -P,2*P,2*P,  0],\n",
    "            [ 0,  0,  0,  0,  0, -P,  0,2*P],\n",
    "            [ 0,  0,  0,  0,  0,  0, -P,2*P],\n",
    "            [ 0,  0,  0,  0,  0,  0,  0, -P]])\n",
    "\n",
    "# Pass the matrix as an argument to the function\n",
    "qubo_solver(Q)"
   ]
  },
  {
   "cell_type": "markdown",
   "metadata": {},
   "source": [
    "The result in the original notation of variables is $x_{12}=x_{33}=x_{42}=x_{53}=1$. \n",
    "\n",
    "This means that Node 1 & Node 4 are assigned color $p=2$ (Green) and Node 3 & Node 5 are assigned color $p=3$ (Blue). \n",
    "\n",
    "<img src=\"../images/gc_3.png\" width=\"250\">"
   ]
  },
  {
   "cell_type": "markdown",
   "metadata": {},
   "source": [
    "<a id=\"task5\"></a>\n",
    "### Task 5\n",
    "\n",
    "Let's assume we have the following graph.  \n",
    "\n",
    "<img src=\"../images/gc_5.png\" width=\"200\">\n",
    "\n",
    "Is it possible to color all nodes using $K=2$ colors?\n",
    "\n",
    "You can evaluate the objective function and use the code to check its value for different assignments. "
   ]
  },
  {
   "cell_type": "markdown",
   "metadata": {},
   "source": [
    "<h3> Solution </h3>"
   ]
  },
  {
   "cell_type": "markdown",
   "metadata": {},
   "source": [
    "Objective function for the given graph is,\n",
    "$$O(x)=P\\sum_{i=1}^{3} \\left(1-\\sum_{p=1}^{2}x_{i,p}\\right)^2 + P\\sum_{(i,j) \\in E} \\sum_{p=1}^{2} x_{i,p}x_{j,p}$$\n",
    "\n",
    "Let's look at the first term.\n",
    "$$P\\sum_{i=1}^{3} \\left(1-\\sum_{p=1}^{2}x_{i,p}\\right)^2$$\n",
    "Expanding the sum,\n",
    "\n",
    "$$P\\left[\\left(1-(x_{11}+x_{12})\\right)^2+\\left(1-(x_{21}+x_{22})\\right)^2+\\left(1-(x_{31}+x_{32})\\right)^2\\right]$$\n",
    "\n",
    "Let's look at the second term.\n",
    "$$P\\sum_{(i,j) \\in E} \\sum_{p=1}^{2} x_{i,p}x_{j,p}$$\n",
    "$$P\\sum_{(i,j) \\in E}\\left(x_{i1}x_{j1}+x_{i2}x_{j2}\\right)$$\n",
    "\n",
    "Here, $E=\\{(1,2),(1,3),(2,1),(2,3),(3,1),(3,2)\\}$. You may notice that the edges are repeated as the graph is undirected.\n",
    "\n",
    "Summing up for all,\n",
    "$$P\\left(x_{11}x_{21}+x_{12}x_{22}+x_{11}x_{31}+x_{12}x_{32}+x_{21}x_{11}+x_{22}x_{12}+x_{21}x_{31}+x_{22}x_{32}+x_{31}x_{11}+x_{32}x_{12}+x_{31}x_{21}+x_{32}x_{22}\\right)$$\n",
    "\n",
    "Combining both, \n",
    "\n",
    "$$O(x) = P\\left[\\left(1-(x_{11}+x_{12})\\right)^2+\\left(1-(x_{21}+x_{22})\\right)^2+\\left(1-(x_{31}+x_{32})\\right)^2+x_{11}x_{21}+x_{12}x_{22}+x_{11}x_{31}+x_{12}x_{32}+x_{21}x_{11}+x_{22}x_{12}+x_{21}x_{31}+x_{22}x_{32}+x_{31}x_{11}+x_{32}x_{12}+x_{31}x_{21}+x_{32}x_{22}\\right]$$\n",
    "\n",
    "For ease in calculations, we can replace double index binary variables with single index binary variables.\n",
    "\n",
    "$$(x_{11}, x_{12}, x_{21}, x_{22}, x_{31}, x_{32}) = (x_1, x_2, x_3, x_4, x_5, x_6)$$\n",
    "\n",
    "We can replace any term $x_i$ with $x_i^2$ and vice versa since these are binary variables (this doesnt apply to products $x_i x_j$).\n",
    "\n",
    "$$O(x) = P\\left[3-x_1^2-x_2^2+2x_1x_2-x_3^2-x_4^2+2x_3x_4-x_5^2-x_6^2+2x_5x_6+2x_1x_3+2x_2x_4+2x_1x_5+2x_2x_6+2x_3x_5+2x_4x_6 \\right]$$"
   ]
  },
  {
   "cell_type": "code",
   "execution_count": 21,
   "metadata": {},
   "outputs": [
    {
     "name": "stdout",
     "output_type": "stream",
     "text": [
      "---\n",
      "The vectors that minimize the objective function to a value of 10 are:\n",
      "[(0, 0, 0, 1, 1, 0), (0, 0, 1, 0, 0, 1), (0, 1, 0, 0, 1, 0), (0, 1, 1, 0, 0, 0), (1, 0, 0, 0, 0, 1), (1, 0, 0, 1, 0, 0)]\n"
     ]
    }
   ],
   "source": [
    "#Create a function to evaluate the value of objective function for each x.\n",
    "\n",
    "def gc_task_5(x):\n",
    "    #INSERT YOUR CODE HERE!\n",
    "    \n",
    "    x1 = x[0]\n",
    "    x2 = x[1]\n",
    "    x3 = x[2]\n",
    "    x4 = x[3]\n",
    "    x5 = x[4]\n",
    "    x6 = x[5]\n",
    "    \n",
    "    P=10\n",
    "    y = P*(3-x1**2-x2**2+2*x1*x2-x3**2-x4**2+2*x3*x4-x5**2-x6**2+2*x5*x6+2*x1*x3+2*x2*x4+2*x1*x5+2*x2*x6+2*x3*x5+2*x4*x6)\n",
    "    return y\n",
    "\n",
    "#Minimize the function for all possibilites of x.\n",
    "#The following code generates the possile permutations of x and calculates the value of the objectve funtion for each.\n",
    "import numpy as np\n",
    "import itertools\n",
    "min_vector=[]\n",
    "min_value=1000\n",
    "vec_permutations = itertools.product([0,1], repeat=6)    # A list of all the possible permutations for x vector\n",
    "for permutation in vec_permutations:\n",
    "    x = np.array([[var] for var in permutation])         # Converts the permutation into a column vector\n",
    "    value = gc_task_5(x)\n",
    "    if value==10:\n",
    "        min_vector.append(tuple(x.T[0]))\n",
    "    if value<min_value:\n",
    "        min_value=value\n",
    "    vector = tuple(x.T[0])\n",
    "    print(\"Vector x =\", vector, \"; Value =\",int(value))  # Displays every vector with its corresponding value\n",
    "    \n",
    "print(\"---\")\n",
    "print(\"The vectors that minimize the objective function to a value of\", int(min_value), \"are:\")\n",
    "print(min_vector)"
   ]
  },
  {
   "cell_type": "markdown",
   "metadata": {},
   "source": [
    "The results are,\n",
    "* $(0, 0, 0, 1, 1, 0)$ means $x_{22}=x_{31}=1$: Node 2 is assigned color $p=2$ & Node 3 is assigned color $p=1$. No color is assigned to Node 1.\n",
    "* $(0, 0, 1, 0, 0, 1)$ means $x_{21}=x_{32}=1$: No color is assigned to Node 1.\n",
    "* $(0, 1, 0, 0, 1, 0)$ means $x_{12}=x_{31}=1$: No color is assigned to Node 2.\n",
    "* $(0, 1, 1, 0, 0, 0)$ means $x_{12}=x_{21}=1$: No color is assigned to Node 3.\n",
    "* $(1, 0, 0, 0, 0, 1)$ means $x_{11}=x_{32}=1$: No color is assigned to Node 2.\n",
    "* $(1, 0, 0, 1, 0, 0)$ means $x_{11}=x_{22}=1$: No color is assigned to Node 3.\n",
    "\n",
    "In each case, one node isn't colored. So, **it isn't possible to color all nodes using $K=2$ colors**."
   ]
  }
 ],
 "metadata": {
  "kernelspec": {
   "display_name": "Python 3",
   "language": "python",
   "name": "python3"
  },
  "language_info": {
   "codemirror_mode": {
    "name": "ipython",
    "version": 3
   },
   "file_extension": ".py",
   "mimetype": "text/x-python",
   "name": "python",
   "nbconvert_exporter": "python",
   "pygments_lexer": "ipython3",
   "version": "3.8.3"
  },
  "latex_envs": {
   "LaTeX_envs_menu_present": true,
   "autoclose": true,
   "autocomplete": true,
   "bibliofile": "biblio.bib",
   "cite_by": "apalike",
   "current_citInitial": 1,
   "eqLabelWithNumbers": true,
   "eqNumInitial": 1,
   "hotkeys": {
    "equation": "Ctrl-E",
    "itemize": "Ctrl-I"
   },
   "labels_anchors": false,
   "latex_user_defs": false,
   "report_style_numbering": false,
   "user_envs_cfg": false
  },
  "toc": {
   "base_numbering": 1,
   "nav_menu": {},
   "number_sections": true,
   "sideBar": true,
   "skip_h1_title": false,
   "title_cell": "Table of Contents",
   "title_sidebar": "Contents",
   "toc_cell": false,
   "toc_position": {},
   "toc_section_display": true,
   "toc_window_display": false
  }
 },
 "nbformat": 4,
 "nbformat_minor": 5
}
