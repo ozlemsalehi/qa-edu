{
 "cells": [
  {
   "cell_type": "markdown",
   "metadata": {},
   "source": [
    "<table width = \"100%\">\n",
    "  <tr style=\"background-color:white;\">\n",
    "    <!-- QWorld Logo -->\n",
    "    <td style=\"text-align:left;width:200px;\"> \n",
    "        <img src=\"../images/QWorld.png\"> </td>\n",
    "    <td style=\"text-align:right;vertical-align:bottom;font-size:16px;\"> \n",
    "        Prepared by <a href=\"https://gitlab.com/pjr1363\" target=\"_blank\"> Paul Joseph Robin </a></td>\n",
    "    </tr> \n",
    " </table>\n",
    " \n",
    "<hr>"
   ]
  },
  {
   "cell_type": "markdown",
   "metadata": {},
   "source": [
    "## Ising to QUBO conversion \n",
    "\n",
    "The Ising problems are in the space $\\{-1, 1\\}^n$, while QUBO formulations are in the space $\\{0, 1\\}^n$. Therefore, Ising problems can be converted into equivalent QUBO formulations by the following transformation:\n",
    "$$ x_j = \\frac{s_j + 1}{2} $$\n",
    "where $x_j$ is the QUBO variable and $s_j$ is the Ising variable. Substituting the value of the variable will result in conversion from one model to the other."
   ]
  },
  {
   "cell_type": "markdown",
   "metadata": {},
   "source": [
    "---\n",
    "### Task 2\n",
    "Convert the following QUBO formulation into Ising formulation:\n",
    "$$f (x_1, x_2) = 5x_1 + 7x_1 x_2 - 3x_2$$\n",
    "\n",
    "> **Hint:** The above formulation is **QUBO**!\n",
    "\n",
    "<a href=\"Ising_Model_2_Solutions.ipynb#Task2\">Click for the solution >></a>"
   ]
  },
  {
   "cell_type": "markdown",
   "metadata": {},
   "source": [
    "---\n",
    "### Task 3\n",
    "Convert the following Ising energy function into QUBO formulation and find the lowest energy state for both formulations:\n",
    "$$H (\\mathbf{s}) = \\sum_{i = 1}^{3} (s_i + 1) (s_i + 3)$$\n",
    "\n",
    "> **Hint:** Do not solve this by hand. Instead, use *itertools* to generate the possible variables; See below an example for 3 variable Ising Spins:\n",
    "~~~python\n",
    "import itertools\n",
    "x = [1, -1]\n",
    "v = [i for i in itertools.product(x, repeat=3)]\n",
    "~~~"
   ]
  },
  {
   "cell_type": "markdown",
   "metadata": {},
   "source": [
    "<a href=\"Ising_Model_2_Solutions.ipynb#Task3\">Click for the solution >></a>"
   ]
  },
  {
   "cell_type": "markdown",
   "metadata": {},
   "source": [
    "---\n",
    "### The Max-Cut Problem (An Ising Representation)\n"
   ]
  },
  {
   "cell_type": "markdown",
   "metadata": {},
   "source": [
    "##### The Problem:\n",
    "Given an undirected graph $G(V, E)$, partition it into two sets such that the number of edges between these subsets is maximum. (*The set is said to be severed by the cut*).\n",
    "\n",
    "\n",
    "$$\n",
    "\\begin{array}{ll}\n",
    "s_j = 1 & \\quad \\mbox{if vertex $j$ $\\in$ subset 1} \\\\ \n",
    "s_j = -1 & \\quad \\mbox{otherwise} \n",
    "\\end{array}\n",
    "$$\n",
    "\n",
    "##### Conditions:\n",
    "\n",
    "$$\n",
    "\\begin{array}{lll}\n",
    "if & \\frac{1}{2}(1 - s_is_j) = 0 & \\quad \\mbox{$\\Rightarrow$ both $s_i$ and $s_j$ are either 1 or -1.} \\\\\n",
    "   &  & \\quad \\mbox{So, they are in the same subset and edge $(i, j)$ is not in the cut.} \\\\ \n",
    "if & \\frac{1}{2}(1 - s_is_j) = 1 & \\quad \\mbox{$\\Rightarrow$ Exactly one of $s_i$ and $s_j$ is 1, the other being -1.} \\\\\n",
    "   &  & \\quad \\mbox{So, the edge $(i, j)$ is in the cut.} \n",
    "\\end{array}\n",
    "$$\n",
    "\n",
    "##### Formulation:\n",
    "$$\\text{max:$\\quad$}   y = \\frac{1}{2} \\sum_{(i, j) \\in E} (1 - s_is_j) $$ "
   ]
  },
  {
   "cell_type": "markdown",
   "metadata": {},
   "source": [
    "---\n",
    "### Task 4\n",
    "Convert the above Ising formulation for Maximum Cut into QUBO formulation:\n",
    "\n",
    "<a href=\"Ising_Model_2_Solutions.ipynb#Task4\">Click for the solution >></a>"
   ]
  },
  {
   "cell_type": "markdown",
   "metadata": {},
   "source": [
    "---\n",
    "### Yet Another Task (5)!\n",
    "Calculate the energies for all binary and spin (i.e. QUBO and Ising respectively) variables, for the following graph with Max-Cut $= 5$. Compare these energies.\n",
    "> Use the above conversion task (4) for the objective functions.\n",
    "\n",
    "<figure>\n",
    "    <img src='../images/MaxCut_Ising.png' alt='MaxCut' style=\"width: 300px;\" />\n",
    "</figure>\n",
    "\n",
    "<a href=\"Ising_Model_2_Solutions.ipynb#YATask5\">Click for the solution >></a>"
   ]
  },
  {
   "cell_type": "markdown",
   "metadata": {},
   "source": [
    "---\n",
    "## References\n",
    "1. Classical Ising Model *(Quantum Machine Learning MOOC: Peter Wittek)* &nbsp;&nbsp; [[YouTube: (5:35 mins)]](https://youtu.be/Wy9YoEYv-fA)\n",
    "2. Ising Model *(Prof. G. Ceder)* &nbsp;&nbsp; [[Ceder Group, MIT]](http://web.mit.edu/ceder/publications/Ising%20Model.pdf)\n",
    "<!--2. Handout 12: Ising Model *(ME346A Introduction to Statistical Mechanics: Wei Cai)* &nbsp;&nbsp; [[Stanford University]](http://micro.stanford.edu/~caiwei/me334/Chap12_Ising_Model_v04.pdf) -->\n",
    "<!--3. Ising Model: Connection to graph maximum cut &nbsp;&nbsp; [[Wikipedia]](https://en.wikipedia.org/wiki/Ising_model#Connection_to_graph_maximum_cut)-->\n",
    "3. An Application of Combinatorial Optimization to Statistical Physics and Circuit Layout Design *(Francisco Barahona, Martin Grötschel, Michael Jünger and Gerhard Reinelt )* &nbsp;&nbsp; [[JSTOR]](http://www.jstor.org/stable/170992)\n",
    "4. Ising formulations of many NP problems *(Andrew Lucas)* [[Frontiers: Open Access]](https://www.frontiersin.org/articles/10.3389/fphy.2014.00005/full)\n",
    "5. Quantum Bridge Analytics I: A Tutorial on Formulating and Using QUBO Models *(Fred Glover, Gary Kochenberger, Yu Du)* [[arXiv Preprint]](https://arxiv.org/abs/1811.11538)"
   ]
  },
  {
   "cell_type": "markdown",
   "metadata": {},
   "source": [
    " "
   ]
  }
 ],
 "metadata": {
  "kernelspec": {
   "display_name": "Python 3",
   "language": "python",
   "name": "python3"
  },
  "language_info": {
   "codemirror_mode": {
    "name": "ipython",
    "version": 3
   },
   "file_extension": ".py",
   "mimetype": "text/x-python",
   "name": "python",
   "nbconvert_exporter": "python",
   "pygments_lexer": "ipython3",
   "version": "3.7.6"
  }
 },
 "nbformat": 4,
 "nbformat_minor": 4
}
