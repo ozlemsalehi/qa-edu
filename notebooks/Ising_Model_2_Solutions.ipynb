{
 "cells": [
  {
   "cell_type": "markdown",
   "metadata": {},
   "source": [
    "<table width = \"100%\">\n",
    "  <tr style=\"background-color:white;\">\n",
    "    <!-- QWorld Logo -->\n",
    "    <td style=\"text-align:left;width:200px;\"> \n",
    "        <img src=\"../images/QWorld.png\"> </td>\n",
    "    <td style=\"text-align:right;vertical-align:bottom;font-size:16px;\"> \n",
    "        Prepared by <a href=\"https://gitlab.com/pjr1363\" target=\"_blank\"> Paul Joseph Robin </a></td>\n",
    "    </tr> \n",
    " </table>\n",
    " \n",
    "<hr>"
   ]
  },
  {
   "cell_type": "markdown",
   "metadata": {},
   "source": [
    "# Solutions for Ising Model"
   ]
  },
  {
   "cell_type": "markdown",
   "metadata": {},
   "source": [
    "<a id=\"Task2\"></a>\n",
    "### Task 2"
   ]
  },
  {
   "cell_type": "markdown",
   "metadata": {},
   "source": [
    "The Ising formulation is given as:\n",
    "$$g (s_1, s_2) = \\frac{1}{4}(17s_1 - s_2 + 7s_1 s_2 + 11)$$\n",
    "\n",
    "---"
   ]
  },
  {
   "cell_type": "markdown",
   "metadata": {},
   "source": [
    "<a id=\"Task3\"></a>\n",
    "### Task 3"
   ]
  },
  {
   "cell_type": "markdown",
   "metadata": {},
   "source": [
    "The QUBO formulation is given as:\n",
    "$$H (\\mathbf{x}) = 4 \\sum_{i = 1}^{3} x_i (x_i + 1)$$"
   ]
  },
  {
   "cell_type": "markdown",
   "metadata": {},
   "source": [
    "##### Defining the objective functions:"
   ]
  },
  {
   "cell_type": "code",
   "execution_count": 1,
   "metadata": {},
   "outputs": [],
   "source": [
    "def Ising(s1, s2, s3):    # The objective function\n",
    "    return (s1**2 + s2**2 + s3**2 + 4*(s1 + s2 +s3) + 9)   # Expanding the summation\n",
    "\n",
    "def QUBO(x1, x2, x3):    \n",
    "    return 8*(x1 + x2 + x3)    # x^2 = x !"
   ]
  },
  {
   "cell_type": "code",
   "execution_count": 2,
   "metadata": {},
   "outputs": [
    {
     "data": {
      "text/plain": [
       "[(0, 0, 0),\n",
       " (0, 0, 1),\n",
       " (0, 1, 0),\n",
       " (0, 1, 1),\n",
       " (1, 0, 0),\n",
       " (1, 0, 1),\n",
       " (1, 1, 0),\n",
       " (1, 1, 1)]"
      ]
     },
     "execution_count": 2,
     "metadata": {},
     "output_type": "execute_result"
    }
   ],
   "source": [
    "import itertools\n",
    "x = [-1, 1]\n",
    "vi = [p for p in itertools.product(x, repeat=3)]    # The sample space for all possible Ising states.\n",
    "\n",
    "y = [ 0, 1]\n",
    "vq = [p for p in itertools.product(y, repeat=3)]    # The sample space for all possible QUBO states.\n",
    "vq"
   ]
  },
  {
   "cell_type": "markdown",
   "metadata": {},
   "source": [
    " ##### Calculating value of the objective function for each set of values"
   ]
  },
  {
   "cell_type": "code",
   "execution_count": 3,
   "metadata": {},
   "outputs": [
    {
     "name": "stdout",
     "output_type": "stream",
     "text": [
      "(-1, -1, -1)  ->  0\n",
      "(-1, -1, 1)  ->  8\n",
      "(-1, 1, -1)  ->  8\n",
      "(-1, 1, 1)  ->  16\n",
      "(1, -1, -1)  ->  8\n",
      "(1, -1, 1)  ->  16\n",
      "(1, 1, -1)  ->  16\n",
      "(1, 1, 1)  ->  24\n"
     ]
    }
   ],
   "source": [
    "# Ising\n",
    "for i in range(len(vi)):\n",
    "    s1, s2, s3 = [int(s) for s in vi[i]]\n",
    "    print(\"({}, {}, {})  ->  {}\".format(s1, s2, s3, Ising(s1, s2, s3)) )"
   ]
  },
  {
   "cell_type": "code",
   "execution_count": 4,
   "metadata": {},
   "outputs": [
    {
     "name": "stdout",
     "output_type": "stream",
     "text": [
      "(0, 0, 0)  ->  0\n",
      "(0, 0, 1)  ->  8\n",
      "(0, 1, 0)  ->  8\n",
      "(0, 1, 1)  ->  16\n",
      "(1, 0, 0)  ->  8\n",
      "(1, 0, 1)  ->  16\n",
      "(1, 1, 0)  ->  16\n",
      "(1, 1, 1)  ->  24\n"
     ]
    }
   ],
   "source": [
    "# QUBO\n",
    "for q in range(len(vq)):\n",
    "    x1, x2, x3 = [int(x) for x in vq[q]]\n",
    "    print(\"({}, {}, {})  ->  {}\".format(x1, x2, x3, QUBO(x1, x2, x3)) )"
   ]
  },
  {
   "cell_type": "markdown",
   "metadata": {},
   "source": [
    "In this task, both the Ising and QUBO energies are same, with the ground states being $(-1, -1, -1)$ and $(0, 0, 0)$ respectively. This, however, is not a rule and the Ising and QUBO energy values could vary but they always represent the same ground state."
   ]
  },
  {
   "cell_type": "markdown",
   "metadata": {},
   "source": [
    "---\n",
    "<a id=\"Task4\"></a>\n",
    "### Task 4\n",
    "\n",
    "**Ising:** $\\text{$\\quad\\quad$ max:$\\quad$}   y = \\frac{1}{2} \\sum_{(i, j) \\in E} (1 - s_is_j) $ \n",
    "\n",
    "For the above Ising formulation, QUBO is given as:\n",
    "\n",
    "**QUBO:**  $\\text{$\\quad$  max:$\\quad$} y = \\sum_{(i,j) \\in E} (x_i+x_j-2x_ix_j)$\n"
   ]
  },
  {
   "cell_type": "markdown",
   "metadata": {},
   "source": [
    "---\n",
    "<a id=\"YATask5\"></a>\n",
    "### Yet Another Task (5)!"
   ]
  },
  {
   "cell_type": "code",
   "execution_count": 5,
   "metadata": {},
   "outputs": [],
   "source": [
    "import itertools\n",
    "x = [-1, 1]\n",
    "vi = [p for p in itertools.product(x, repeat=5)]    # The sample space for all possible Ising states.\n",
    "\n",
    "y = [ 0, 1]\n",
    "vq = [p for p in itertools.product(y, repeat=5)]    # The sample space for all possible QUBO states."
   ]
  },
  {
   "cell_type": "markdown",
   "metadata": {},
   "source": [
    "##### Defining the objective function"
   ]
  },
  {
   "cell_type": "code",
   "execution_count": 6,
   "metadata": {},
   "outputs": [],
   "source": [
    "def Oi(s1, s2, s3, s4, s5):    # The objective function for Ising\n",
    "    return (5 - s1*s2 - s2*s4 - s4*s5 - s5*s3 - s3*s1 - s3*s4)/2\n",
    "\n",
    "def Oq(x1, x2, x3, x4, x5):    # The objective function for QUBO\n",
    "    return (2*x1 + 2*x2 + 3*x3 + 3*x4 + 2*x5 - 2*x1*x2 - 2*x1*x3 - 2*x2*x4 - 2*x3*x4 - 2*x3*x5 - 2*x4*x5)"
   ]
  },
  {
   "cell_type": "markdown",
   "metadata": {},
   "source": [
    " ##### Calculating value of the objective function for each set of values"
   ]
  },
  {
   "cell_type": "code",
   "execution_count": 7,
   "metadata": {},
   "outputs": [
    {
     "name": "stdout",
     "output_type": "stream",
     "text": [
      "For Ising energies:\n",
      "(-1, -1, -1, -1, -1)  ->  -0.5\n",
      "(-1, -1, -1, -1, 1)  ->  1.5\n",
      "(-1, -1, -1, 1, -1)  ->  2.5\n",
      "(-1, -1, -1, 1, 1)  ->  2.5\n",
      "(-1, -1, 1, -1, -1)  ->  2.5\n",
      "(-1, -1, 1, -1, 1)  ->  2.5\n",
      "(-1, -1, 1, 1, -1)  ->  3.5\n",
      "(-1, -1, 1, 1, 1)  ->  1.5\n",
      "(-1, 1, -1, -1, -1)  ->  1.5\n",
      "(-1, 1, -1, -1, 1)  ->  3.5\n",
      "(-1, 1, -1, 1, -1)  ->  2.5\n",
      "(-1, 1, -1, 1, 1)  ->  2.5\n",
      "(-1, 1, 1, -1, -1)  ->  4.5\n",
      "(-1, 1, 1, -1, 1)  ->  4.5\n",
      "(-1, 1, 1, 1, -1)  ->  3.5\n",
      "(-1, 1, 1, 1, 1)  ->  1.5\n",
      "(1, -1, -1, -1, -1)  ->  1.5\n",
      "(1, -1, -1, -1, 1)  ->  3.5\n",
      "(1, -1, -1, 1, -1)  ->  4.5\n",
      "(1, -1, -1, 1, 1)  ->  4.5\n",
      "(1, -1, 1, -1, -1)  ->  2.5\n",
      "(1, -1, 1, -1, 1)  ->  2.5\n",
      "(1, -1, 1, 1, -1)  ->  3.5\n",
      "(1, -1, 1, 1, 1)  ->  1.5\n",
      "(1, 1, -1, -1, -1)  ->  1.5\n",
      "(1, 1, -1, -1, 1)  ->  3.5\n",
      "(1, 1, -1, 1, -1)  ->  2.5\n",
      "(1, 1, -1, 1, 1)  ->  2.5\n",
      "(1, 1, 1, -1, -1)  ->  2.5\n",
      "(1, 1, 1, -1, 1)  ->  2.5\n",
      "(1, 1, 1, 1, -1)  ->  1.5\n",
      "(1, 1, 1, 1, 1)  ->  -0.5\n"
     ]
    }
   ],
   "source": [
    "print(\"For Ising energies:\")\n",
    "for i in range(len(vi)):\n",
    "    s1, s2, s3, s4, s5 = [int(s) for s in vi[i]]\n",
    "    print(\"({}, {}, {}, {}, {})  ->  {}\".format(s1, s2, s3, s4, s5, Oi(s1, s2, s3, s4, s5)) )"
   ]
  },
  {
   "cell_type": "code",
   "execution_count": 8,
   "metadata": {},
   "outputs": [
    {
     "name": "stdout",
     "output_type": "stream",
     "text": [
      "For QUBO energies:\n",
      "(0, 0, 0, 0, 0)  ->  0\n",
      "(0, 0, 0, 0, 1)  ->  2\n",
      "(0, 0, 0, 1, 0)  ->  3\n",
      "(0, 0, 0, 1, 1)  ->  3\n",
      "(0, 0, 1, 0, 0)  ->  3\n",
      "(0, 0, 1, 0, 1)  ->  3\n",
      "(0, 0, 1, 1, 0)  ->  4\n",
      "(0, 0, 1, 1, 1)  ->  2\n",
      "(0, 1, 0, 0, 0)  ->  2\n",
      "(0, 1, 0, 0, 1)  ->  4\n",
      "(0, 1, 0, 1, 0)  ->  3\n",
      "(0, 1, 0, 1, 1)  ->  3\n",
      "(0, 1, 1, 0, 0)  ->  5\n",
      "(0, 1, 1, 0, 1)  ->  5\n",
      "(0, 1, 1, 1, 0)  ->  4\n",
      "(0, 1, 1, 1, 1)  ->  2\n",
      "(1, 0, 0, 0, 0)  ->  2\n",
      "(1, 0, 0, 0, 1)  ->  4\n",
      "(1, 0, 0, 1, 0)  ->  5\n",
      "(1, 0, 0, 1, 1)  ->  5\n",
      "(1, 0, 1, 0, 0)  ->  3\n",
      "(1, 0, 1, 0, 1)  ->  3\n",
      "(1, 0, 1, 1, 0)  ->  4\n",
      "(1, 0, 1, 1, 1)  ->  2\n",
      "(1, 1, 0, 0, 0)  ->  2\n",
      "(1, 1, 0, 0, 1)  ->  4\n",
      "(1, 1, 0, 1, 0)  ->  3\n",
      "(1, 1, 0, 1, 1)  ->  3\n",
      "(1, 1, 1, 0, 0)  ->  3\n",
      "(1, 1, 1, 0, 1)  ->  3\n",
      "(1, 1, 1, 1, 0)  ->  2\n",
      "(1, 1, 1, 1, 1)  ->  0\n"
     ]
    }
   ],
   "source": [
    "print(\"For QUBO energies:\")\n",
    "for q in range(len(vq)):\n",
    "    x1, x2, x3, x4, x5 = [int(x) for x in vq[q]]\n",
    "    print(\"({}, {}, {}, {}, {})  ->  {}\".format(x1, x2, x3, x4, x5, Oq(x1, x2, x3, x4, x5)) )"
   ]
  },
  {
   "cell_type": "markdown",
   "metadata": {},
   "source": [
    "The **maximal energy states** in either model represents the solution for the MaxCut problem. While the value of energy is not the the same, the solution is essentially the same. Also, note the *degenerate states*."
   ]
  },
  {
   "cell_type": "markdown",
   "metadata": {},
   "source": [
    "--- "
   ]
  }
 ],
 "metadata": {
  "kernelspec": {
   "display_name": "Python 3",
   "language": "python",
   "name": "python3"
  },
  "language_info": {
   "codemirror_mode": {
    "name": "ipython",
    "version": 3
   },
   "file_extension": ".py",
   "mimetype": "text/x-python",
   "name": "python",
   "nbconvert_exporter": "python",
   "pygments_lexer": "ipython3",
   "version": "3.7.6"
  }
 },
 "nbformat": 4,
 "nbformat_minor": 4
}
