{
 "cells": [
  {
   "cell_type": "markdown",
   "id": "cfeacae4",
   "metadata": {},
   "source": [
    "<table width = \"100%\">\n",
    "  <tr style=\"background-color:white;\">\n",
    "    <!-- QWorld Logo -->\n",
    "    <td style=\"text-align:left;width:200px;\"> \n",
    "        <a href=\"https://qworld.net/\" target=\"_blank\"><img src=\"../images/QWorld.png\"> </a></td>\n",
    "    <td style=\"text-align:right;vertical-align:bottom;font-size:16px;\"> \n",
    "        Prepared by <a href=\"https://gitlab.com/AkashNarayanan\" target=\"_blank\"> Akash Narayanan B</a></td>    \n",
    "</table>\n",
    "<hr>"
   ]
  },
  {
   "cell_type": "markdown",
   "id": "3abf5cc8",
   "metadata": {},
   "source": [
    "Let us look at the different ways to convert between QUBO and BQM formulations.\n",
    "\n",
    "# Converting a QUBO to a BQM\n",
    "\n",
    "## QUBO - NumPy Representation\n",
    "\n",
    "We have already learned to define a QUBO matrix as a NumPy matrix. It is possible to convert a NumPy matrix to a Binary Quadratic Model by using the `from_numpy_matrix` method.\n",
    "\n",
    "Let's consider the following objective function\n",
    "\n",
    "$$f(x_1, x_2, x_3, x_4) = - 5x_1 - 3x_2 - 8x_3 - 6x_4 + 4x_1 x_2 + 8x_1 x_3 + 2x_2 x_3 + 10x_3 x_4$$\n",
    "\n",
    "The QUBO matrix Q for the objective function is \n",
    "\n",
    "$$\n",
    "Q = \\begin{bmatrix}\n",
    "        -5  &  4   &  8   &  0  \\\\ \n",
    "        0   &  -3  &  2   &  0  \\\\ \n",
    "        0   &  0   &  -8  &  10  \\\\ \n",
    "        0   &  0   &  0   &  -6  \\\\ \n",
    "    \\end{bmatrix}\n",
    "$$\n",
    "\n",
    "The NumPy matrix `Q` is"
   ]
  },
  {
   "cell_type": "code",
   "execution_count": 1,
   "id": "ea69be38",
   "metadata": {
    "ExecuteTime": {
     "end_time": "2021-09-23T11:52:12.026704Z",
     "start_time": "2021-09-23T11:52:11.939928Z"
    }
   },
   "outputs": [],
   "source": [
    "import numpy as np\n",
    "\n",
    "Q = np.array([[ -5,  4,  8,  0],\n",
    "              [  0, -3,  2,  0],\n",
    "              [  0,  0, -8, 10],\n",
    "              [  0,  0,  0, -6]])"
   ]
  },
  {
   "cell_type": "markdown",
   "id": "7bf35d02",
   "metadata": {},
   "source": [
    "## `from_numpy_matrix` Method\n",
    "\n",
    "### Parameters\n",
    "\n",
    "- `Q` - The QUBO as a NumPy matrix\n",
    "- `offset` (optional) - Constant offset\n",
    "\n",
    "Now let's create a BQM from the above NumPy matrix. We have to pass `Q` as an argument to the `from_numpy_matrix()` method of the `BinaryQuadraticModel` class."
   ]
  },
  {
   "cell_type": "code",
   "execution_count": 2,
   "id": "f19a8e07",
   "metadata": {
    "ExecuteTime": {
     "end_time": "2021-09-23T11:52:12.089763Z",
     "start_time": "2021-09-23T11:52:12.033500Z"
    }
   },
   "outputs": [
    {
     "name": "stdout",
     "output_type": "stream",
     "text": [
      "BinaryQuadraticModel({0: -5.0, 1: -3.0, 2: -8.0, 3: -6.0}, {(0, 1): 4, (0, 2): 8, (1, 2): 2, (2, 3): 10}, 0.0, 'BINARY')\n"
     ]
    }
   ],
   "source": [
    "import dimod\n",
    "\n",
    "bqm_np = dimod.BinaryQuadraticModel.from_numpy_matrix(Q)\n",
    "\n",
    "print(bqm_np)"
   ]
  },
  {
   "cell_type": "markdown",
   "id": "0fdd292a",
   "metadata": {},
   "source": [
    "So far we have used strings as keys to represent the variables in linear and quadratic arguments of a BQM class. It is also valid to use integers as keys. In the above output, the integers represent the position of the values in the matrix.\n",
    "\n",
    "For example, the first term of the linear part `0: -5.0` represents that the value `-5.0` is at the position `(0, 0)` in the matrix. The first term of the quadratic part `(0, 1): 4` represents that the value `4` is at the position `(0, 1)` in the matrix.\n",
    "\n",
    "<div class=\"alert alert-block alert-info\">\n",
    "The keys for the linear and quadratic arguments of the BQM class can either be strings or integers.\n",
    "</div>"
   ]
  },
  {
   "cell_type": "markdown",
   "id": "d12fc67f",
   "metadata": {},
   "source": [
    "## QUBO - Dictionary Representation\n",
    "\n",
    "We can also represent a QUBO problem as a dictionary. What is the need for it you may ask? Dictionary representation can be very helpful for problems with a large number of variables.\n",
    "\n",
    "In the dictionary representation, only the non-zero terms of a QUBO matrix are considered. This saves up space and improves the efficiency of the problem solving process.\n",
    "\n",
    "Let's consider a $3 \\times 3$ matrix\n",
    "\n",
    "$$\n",
    "Q = \\begin{bmatrix}\n",
    "        Q_{11} & Q_{12} & Q_{13}  \\\\ \n",
    "        0      & Q_{22} & Q_{23}  \\\\ \n",
    "        0      & 0      & Q_{33}  \\\\ \n",
    "    \\end{bmatrix}\n",
    "$$\n",
    "\n",
    "In the dictionary representation, the keys should be variables and their values should be the coefficients associated with these variables. The variables can be represented either as a tuple of variable names or as a tuple of numbers. The key for the term $Q_{11}$ in the above matrix can be represented as\n",
    "\n",
    "- `('x1', 'x1')` - Tuple of variable names\n",
    "- `(0, 0)` - Tuple of numbers that indicate the position of the term in the matrix\n",
    "\n",
    "The advantage of dictionary representation becomes apparent when we consider a large QUBO matrix.\n",
    "\n",
    "<div class=\"alert alert-block alert-danger\">\n",
    "This example has to be improved.\n",
    "</div>\n",
    "\n",
    "$$\n",
    "Q_L = \\begin{bmatrix}\n",
    "        \\bf{3} & 0 & 0 & 0 & 0 & \\bf{4} & 0 & 0 \\\\\n",
    "        0 & 0 & 0 & 0 & 0 & 0 & 0 & 0 \\\\\n",
    "        0 & 0 & 0 & 0 & 0 & 0 & \\bf{9} & 0 \\\\\n",
    "        0 & 0 & 0 & \\bf{1} & 0 & 0 & 0 & 0 \\\\\n",
    "        0 & 0 & 0 & 0 & \\bf{4} & 0 & 0 & 0 \\\\\n",
    "        0 & 0 & 0 & 0 & 0 & 0 & 0 & 0 \\\\\n",
    "        0 & 0 & 0 & 0 & 0 & 0 & 0 & 0 \\\\\n",
    "        0 & 0 & 0 & 0 & 0 & 0 & 0 & \\bf{8} \\\\\n",
    "      \\end{bmatrix}\n",
    "$$\n",
    "\n",
    "The above matrix $Q_L$ can be represented as"
   ]
  },
  {
   "cell_type": "code",
   "execution_count": 3,
   "id": "117efc32",
   "metadata": {
    "ExecuteTime": {
     "end_time": "2021-09-23T11:52:12.139953Z",
     "start_time": "2021-09-23T11:52:12.096820Z"
    }
   },
   "outputs": [],
   "source": [
    "Q_Large = {('x1', 'x1'): 3, ('x4', 'x4'): 1, ('x5', 'x5'): 4,\n",
    "           ('x8', 'x8'): 8, ('x1', 'x6'): 4, ('x3', 'x7'): 9}"
   ]
  },
  {
   "cell_type": "markdown",
   "id": "3f259309",
   "metadata": {},
   "source": [
    "How simple and concise was that?!\n",
    "\n",
    "A QUBO problem in dictionary form can be converted to a BQM using the `from_qubo` method of the `BinaryQuadraticModel` class.\n",
    "\n",
    "## `from_qubo` Method\n",
    "\n",
    "### Parameters\n",
    "\n",
    "- `Q` - The QUBO in dictionary form\n",
    "- `offset` (optional) - Constant offset\n",
    "\n",
    "Now let's a create a BQM by passing the dictionary `Q_Large` as an argument to the `from_qubo` method."
   ]
  },
  {
   "cell_type": "code",
   "execution_count": 4,
   "id": "454b010c",
   "metadata": {
    "ExecuteTime": {
     "end_time": "2021-09-23T11:52:12.190559Z",
     "start_time": "2021-09-23T11:52:12.144452Z"
    }
   },
   "outputs": [
    {
     "name": "stdout",
     "output_type": "stream",
     "text": [
      "BinaryQuadraticModel({x1: 3.0, x4: 1.0, x5: 4.0, x8: 8.0, x6: 0.0, x3: 0.0, x7: 0.0}, {('x1', 'x6'): 4, ('x3', 'x7'): 9}, 0, 'BINARY')\n"
     ]
    }
   ],
   "source": [
    "bqm_qubo = dimod.BinaryQuadraticModel.from_qubo(Q_Large)\n",
    "\n",
    "print(bqm_qubo)"
   ]
  },
  {
   "cell_type": "markdown",
   "id": "04828356",
   "metadata": {},
   "source": [
    "# Converting a BQM to a QUBO\n",
    "\n",
    "It is also possible to convert a Binary Quadratic Model to a QUBO model.\n",
    "\n",
    "## `to_numpy_matrix` Method\n",
    "\n",
    "### Parameter\n",
    "\n",
    "- `variable_order` (optional) - Variable order as a list should be passed as an argument if there are variable names as keys in the BQM.\n",
    "\n",
    "Let us consider the following BQM where the keys for the `linear` and `quadratic` arguments are variable names as strings."
   ]
  },
  {
   "cell_type": "code",
   "execution_count": 5,
   "id": "e0110c43",
   "metadata": {
    "ExecuteTime": {
     "end_time": "2021-09-23T11:52:12.237686Z",
     "start_time": "2021-09-23T11:52:12.197544Z"
    }
   },
   "outputs": [],
   "source": [
    "bqm_str = dimod.BinaryQuadraticModel({'x1': -5.0, 'x2': -3.0,\n",
    "                                      'x3': -8.0, 'x4': -6.0},\n",
    "                                     {('x1', 'x2'): 4, ('x1', 'x3'): 8,\n",
    "                                     ('x2', 'x3'): 2, ('x3', 'x4'): 10},\n",
    "                                     0,\n",
    "                                     'BINARY')"
   ]
  },
  {
   "cell_type": "markdown",
   "id": "a3130c8c",
   "metadata": {},
   "source": [
    "In this case, the variable order as a list should be passed as an argument to the `to_numpy_matrix` method. Without that there would be an error."
   ]
  },
  {
   "cell_type": "code",
   "execution_count": 6,
   "id": "2b345192",
   "metadata": {
    "ExecuteTime": {
     "end_time": "2021-09-23T11:52:12.289523Z",
     "start_time": "2021-09-23T11:52:12.240164Z"
    }
   },
   "outputs": [
    {
     "name": "stdout",
     "output_type": "stream",
     "text": [
      "[[-5.0 4 8 0.0]\n",
      " [0 -3.0 2 0.0]\n",
      " [0 0 -8.0 10]\n",
      " [0 0 0 -6.0]]\n"
     ]
    }
   ],
   "source": [
    "np_mat_str = bqm_str.to_numpy_matrix(['x1', 'x2', 'x3', 'x4'])\n",
    "\n",
    "print(np_mat_str)"
   ]
  },
  {
   "cell_type": "markdown",
   "id": "5d3cc490",
   "metadata": {},
   "source": [
    "If the keys of the `linear` and `quadratic` arguments are numbers, the `variable_order` is optional."
   ]
  },
  {
   "cell_type": "code",
   "execution_count": 7,
   "id": "c16759fc",
   "metadata": {
    "ExecuteTime": {
     "end_time": "2021-09-23T11:52:12.342900Z",
     "start_time": "2021-09-23T11:52:12.292212Z"
    }
   },
   "outputs": [
    {
     "name": "stdout",
     "output_type": "stream",
     "text": [
      "[[-5.0 4 8 0.0]\n",
      " [0 -3.0 2 0.0]\n",
      " [0 0 -8.0 10]\n",
      " [0 0 0 -6.0]]\n"
     ]
    }
   ],
   "source": [
    "bqm_num = dimod.BinaryQuadraticModel({0: -5.0, 1: -3.0, 2: -8.0, 3: -6.0},\n",
    "                                     {(0, 1): 4, (0, 2): 8,\n",
    "                                      (1, 2): 2, (2, 3): 10},\n",
    "                                     0.0,\n",
    "                                     'BINARY')\n",
    "\n",
    "np_mat_num = bqm_num.to_numpy_matrix()\n",
    "\n",
    "print(np_mat_num)"
   ]
  },
  {
   "cell_type": "markdown",
   "id": "43e1a905",
   "metadata": {},
   "source": [
    "## `to_qubo` Method\n",
    "\n",
    "This method can be used to convert a Binary Quadratic Model to a QUBO form. If the `vartype` of the BQM is `'SPIN'`, it is converted to `'BINARY'`.\n",
    "\n",
    "This method returns a tuple of form `(biases, offset)` where `biases` is a dictionary of the linear and quadratic terms and `offset` is a number.\n",
    "\n",
    "Let's consider the same `bqm_str` used in the previous example. The QUBO form of the BQM is"
   ]
  },
  {
   "cell_type": "code",
   "execution_count": 8,
   "id": "85ff0bea",
   "metadata": {
    "ExecuteTime": {
     "end_time": "2021-09-23T11:52:12.396848Z",
     "start_time": "2021-09-23T11:52:12.355517Z"
    }
   },
   "outputs": [
    {
     "name": "stdout",
     "output_type": "stream",
     "text": [
      "({('x1', 'x2'): 4, ('x1', 'x3'): 8, ('x2', 'x3'): 2, ('x3', 'x4'): 10, ('x1', 'x1'): -5.0, ('x2', 'x2'): -3.0, ('x3', 'x3'): -8.0, ('x4', 'x4'): -6.0}, 0)\n"
     ]
    }
   ],
   "source": [
    "qubo_str = bqm_str.to_qubo()\n",
    "\n",
    "print(qubo_str)"
   ]
  },
  {
   "cell_type": "markdown",
   "id": "689e7d3d",
   "metadata": {},
   "source": [
    "In the above output,\n",
    "\n",
    "- The first terms of the tuple correspond to the linear and quadratic terms of the QUBO\n",
    "    \n",
    "    ```python\n",
    "    {('x1', 'x2'): 4, ('x1', 'x3'): 8, ('x2', 'x3'): 2, ('x3', 'x4'): 10,\n",
    "     ('x1', 'x1'): -5.0, ('x2', 'x2'): -3.0, ('x3', 'x3'): -8.0, ('x4', 'x4'): -6.0}\n",
    "    ```\n",
    "    \n",
    "- The second term corresponds to the offset `0`.    "
   ]
  }
 ],
 "metadata": {
  "kernelspec": {
   "display_name": "Python 3 (ipykernel)",
   "language": "python",
   "name": "python3"
  },
  "language_info": {
   "codemirror_mode": {
    "name": "ipython",
    "version": 3
   },
   "file_extension": ".py",
   "mimetype": "text/x-python",
   "name": "python",
   "nbconvert_exporter": "python",
   "pygments_lexer": "ipython3",
   "version": "3.9.5"
  },
  "latex_envs": {
   "LaTeX_envs_menu_present": true,
   "autoclose": true,
   "autocomplete": true,
   "bibliofile": "biblio.bib",
   "cite_by": "apalike",
   "current_citInitial": 1,
   "eqLabelWithNumbers": true,
   "eqNumInitial": 1,
   "hotkeys": {
    "equation": "Ctrl-E",
    "itemize": "Ctrl-I"
   },
   "labels_anchors": false,
   "latex_user_defs": false,
   "report_style_numbering": false,
   "user_envs_cfg": false
  },
  "toc": {
   "base_numbering": 1,
   "nav_menu": {},
   "number_sections": false,
   "sideBar": true,
   "skip_h1_title": false,
   "title_cell": "Table of Contents",
   "title_sidebar": "Contents",
   "toc_cell": false,
   "toc_position": {},
   "toc_section_display": true,
   "toc_window_display": false
  }
 },
 "nbformat": 4,
 "nbformat_minor": 5
}
