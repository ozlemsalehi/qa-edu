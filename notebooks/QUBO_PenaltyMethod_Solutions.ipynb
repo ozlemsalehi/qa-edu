{
 "cells": [
  {
   "cell_type": "markdown",
   "metadata": {},
   "source": [
    "<table width = \"100%\">\n",
    "  <tr style=\"background-color:white;\">\n",
    "    <!-- QWorld Logo -->\n",
    "    <td style=\"text-align:left;width:200px;\"> \n",
    "        <a href=\"https://qworld.net/\" target=\"_blank\"><img src=\"../images/QWorld.png\"> </a></td>\n",
    "    <td style=\"text-align:right;vertical-align:bottom;font-size:16px;\"> \n",
    "        Prepared by <a href=\"https://gitlab.com/sabahuddin.ahmad\" target=\"_blank\"> Sabah Ud Din Ahmad </a></td>\n",
    "    </tr> \n",
    " </table>\n",
    " \n",
    "<hr>"
   ]
  },
  {
   "cell_type": "markdown",
   "metadata": {},
   "source": [
    "## <font color=\"blue\"> Solutions for </font> QUBO Formulation with Penalty Method"
   ]
  },
  {
   "cell_type": "markdown",
   "metadata": {},
   "source": [
    "<a id=\"task1\"></a>\n",
    "### Task 1\n",
    "\n",
    "Consider a constrained problem of the form:\n",
    "$$\\min y = f(x)$$\n",
    "\n",
    "which is subjected to the constraint $x_1+ x_2 \\leq 1$ ($x_1$ & $x_2$ are binary variables). What will be the equivalent penalty for this problem? What will be the form of the related unconstrained problem?"
   ]
  },
  {
   "cell_type": "markdown",
   "metadata": {},
   "source": [
    "<h3> Solution </h3>"
   ]
  },
  {
   "cell_type": "markdown",
   "metadata": {},
   "source": [
    "From the table, the equivalent quadratic penalty is:\n",
    "\n",
    "$$Px_1x_2$$\n",
    "\n",
    "For a sufficiently large value of P, the form of the unconstrained problem is:\n",
    "\n",
    "$$\\min y = f(x)+Px_1x_2$$.\n",
    "\n",
    "**Comments:** The optimizer will avoid solutions having both $x_1$ & $x_2$ equal to 1. If this happens, a large penalty is added to the objective function corresponding to infeasible solutions. "
   ]
  },
  {
   "cell_type": "markdown",
   "metadata": {},
   "source": [
    "<a id=\"task2\"></a>\n",
    "### Task 2\n",
    "\n",
    "Consider a constrained problem of the form:\n",
    "$$\\min y = f(x)$$\n",
    "\n",
    "which is subjected to the constraint $x_1+ x_2 = 1$ ($x_1$ & $x_2$ are binary variables). What will be the equivalent penalty for this problem? What will be the form of the related unconstrained problem?\n"
   ]
  },
  {
   "cell_type": "markdown",
   "metadata": {},
   "source": [
    "<h3> Solution </h3>"
   ]
  },
  {
   "cell_type": "markdown",
   "metadata": {},
   "source": [
    "From the table, the equivalent quadratic penalty is:\n",
    "\n",
    "$$P(1-x_1-x_2+2x_1x_2)$$\n",
    "\n",
    "For a sufficiently large value of P, the form of the unconstrained problem is:\n",
    "\n",
    "$$\\min y = f(x)+P(1-x_1-x_2+2x_1x_2)$$."
   ]
  },
  {
   "cell_type": "markdown",
   "metadata": {},
   "source": [
    "<a id=\"task3\"></a>\n",
    "### Task 3\n",
    "\n",
    "Consider the following constraint $y_1+ y_2 \\geq 10$, where $y_1$ & $y_2$ are integer variables and $0 \\leq y_1 \\leq 8$ and $0 \\leq y_2 \\leq 5$. What will be the equivalent penalty? \n",
    "\n",
    "Suppose that $f(y_1, y_2)$ is the objective function to be minimized, what will be the new objective function including the penalty? "
   ]
  },
  {
   "cell_type": "markdown",
   "metadata": {},
   "source": [
    "<h3> Solution </h3>"
   ]
  },
  {
   "cell_type": "markdown",
   "metadata": {},
   "source": [
    "Let's convert the inequality to an equality by introducing a slack variable.\n",
    "\n",
    "$$y_1 + y_2 - \\eta =10$$\n",
    "\n",
    "The objective function (including the penalty term) is,\n",
    "\n",
    "$$f(y_1,y_2)+P\\left( \\sum_{i=1}^{2}a_iy_i-\\eta-10\\right)^2$$\n",
    "\n",
    "$$f(y_1,y_2)+P\\left(y_1+y_2-\\eta-10\\right)^2$$\n",
    "\n",
    "Since $\\eta$ is an integer variable, we need its upper and lower bounds to convert it to binary. For the lower bound of $\\eta$, when $y_1+y_2=10$, then $\\eta=0$. The smallest value of $y_1+y_2$ possible is 0, hence $\\eta$ can be as large as 10.\n",
    "\n",
    "Mathematically, $\\eta$ is bounded as follows,\n",
    "\n",
    "$$0\\leq \\eta \\leq - \\left(\\sum_{i=1}^{k} \\min \\{a_i\\underline{\\rm y_i}, a_i\\overline{\\rm y_i}\\}-b\\right)$$\n",
    "where $\\underline{\\rm y_1} = 0$, $\\underline{\\rm y_2} = 0$, $\\overline{\\rm y_1}=8$, $\\overline{\\rm y_2}=5$ and $b=10$.\n",
    "\n",
    "$$0\\leq \\eta \\leq - \\left(\\min \\{0,8\\}+\\min \\{0,5\\}-10\\right)$$\n",
    "\n",
    "$$0\\leq \\eta \\leq 10$$\n",
    "\n",
    "We will now convert the integer variables to binary variables. \n",
    "\n",
    "Using $$y_i = \\sum_{j=0}^{\\lfloor \\log_2 (\\overline{\\rm y_i}) \\rfloor} 2^j x^i_j $$ where $x_j \\in \\{0,1\\} \\forall j \\in \\{0,...,\\lfloor \\log_2 (\\overline{\\rm y_i}) \\rfloor\\}$.\n",
    "\n",
    "$$y_1 = \\sum_{j=0}^{3} 2^j x^1_j $$\n",
    "$$y_2 = \\sum_{j=0}^{2} 2^j x^2_j $$\n",
    "$$\\eta = \\sum_{j=0}^{3} 2^j x^\\eta_j $$\n",
    "\n",
    "The objective function after transformation of variables is,\n",
    "$$f(x^1_j,x^2_j,x^\\eta_j)+P\\left(\\sum_{j=0}^{3} 2^j x^1_j+\\sum_{j=0}^{2} 2^j x^2_j-\\sum_{j=0}^{3} 2^j x^\\eta_j-10\\right)^2$$"
   ]
  },
  {
   "cell_type": "code",
   "execution_count": null,
   "metadata": {},
   "outputs": [],
   "source": []
  }
 ],
 "metadata": {
  "kernelspec": {
   "display_name": "Python 3",
   "language": "python",
   "name": "python3"
  },
  "language_info": {
   "codemirror_mode": {
    "name": "ipython",
    "version": 3
   },
   "file_extension": ".py",
   "mimetype": "text/x-python",
   "name": "python",
   "nbconvert_exporter": "python",
   "pygments_lexer": "ipython3",
   "version": "3.8.3"
  },
  "latex_envs": {
   "LaTeX_envs_menu_present": true,
   "autoclose": true,
   "autocomplete": true,
   "bibliofile": "biblio.bib",
   "cite_by": "apalike",
   "current_citInitial": 1,
   "eqLabelWithNumbers": true,
   "eqNumInitial": 1,
   "hotkeys": {
    "equation": "Ctrl-E",
    "itemize": "Ctrl-I"
   },
   "labels_anchors": false,
   "latex_user_defs": false,
   "report_style_numbering": false,
   "user_envs_cfg": false
  },
  "toc": {
   "base_numbering": 1,
   "nav_menu": {},
   "number_sections": true,
   "sideBar": true,
   "skip_h1_title": false,
   "title_cell": "Table of Contents",
   "title_sidebar": "Contents",
   "toc_cell": false,
   "toc_position": {},
   "toc_section_display": true,
   "toc_window_display": false
  }
 },
 "nbformat": 4,
 "nbformat_minor": 5
}
