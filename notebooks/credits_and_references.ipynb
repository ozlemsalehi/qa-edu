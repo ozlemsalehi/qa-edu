{
 "cells": [
  {
   "cell_type": "markdown",
   "id": "naked-cover",
   "metadata": {},
   "source": [
    "<table width = \"100%\">\n",
    "  <tr style=\"background-color:white;\">\n",
    "    <!-- QWorld Logo -->\n",
    "    <td style=\"text-align:left; padding:0px; width:200px;\"> \n",
    "        <img src=\"images/QWorld.png\"> </td>\n",
    "    <!-- Padding -->\n",
    "    <td width=\"*\">&nbsp;&nbsp;&nbsp;&nbsp;&emsp;&emsp;&emsp;&nbsp;&nbsp;</td>\n",
    "    <td style=\"padding:0px;width:250px;\"></td>\n",
    "    <!-- Social Media Links -->\n",
    "    <td> <a href=\"https://qworld.net\" target=\"_blank\">\n",
    "        <img align=\"right\" src=\"images/Website.png\" style=\"width:50px;\" > </a></td>\n",
    "    <td> <a href=\"https://discord.gg/akCvr7U87g\" target=\"_blank\">\n",
    "        <img align=\"right\" src=\"images/Discord.png\" style=\"width:50px;\"> </a></td>\n",
    "    <td> <a href=\"https://twitter.com/QWorld19\" target=\"_blank\">\n",
    "        <img align=\"right\" src=\"images/Twitter.png\" width=50 > </a></td>\n",
    "    <td> <a href=\"https://www.youtube.com/qworld19\" target=\"_blank\">\n",
    "        <img align=\"right\" src=\"images/YouTube.png\" width=50 > </a></td>\n",
    "    <td> <a href=\"https://www.facebook.com/qworld19/\" target=\"_blank\">\n",
    "        <img align=\"right\" src=\"images/Facebook.png\" width=50 > </a></td>\n",
    "    <td> <a href=\"https://www.linkedin.com/company/qworld19/\" target=\"_blank\">\n",
    "        <img align=\"right\" src=\"images/LinkedIn.png\" width=50 > </a></td>\n",
    "  </tr> \n",
    " </table>\n",
    " \n",
    "<hr>"
   ]
  },
  {
   "cell_type": "markdown",
   "id": "dutch-automation",
   "metadata": {},
   "source": [
    "## Credits"
   ]
  },
  {
   "cell_type": "markdown",
   "id": "described-lunch",
   "metadata": {},
   "source": [
    "Most of this tutorial is developed during [QIntern 2021](https://qworld.net/qintern-2021/) organized by [QWorld](https://qworld.net/) under the project \"Educational material development for quantum annealing\". We would like to thank the organizers for this event."
   ]
  },
  {
   "cell_type": "markdown",
   "id": "impressed-exposure",
   "metadata": {},
   "source": [
    "The project is lead by [Dr.Özlem Salehi Köken](https://www.cmpe.boun.edu.tr/~ozlem.salehi/). The notebooks are developed by [Akash Narayanan B](https://gitlab.com/AkashNarayanan), [Paul Joseph Robin](https://gitlab.com/pjr1363), [Sabah Ud Din Ahmad](https://gitlab.com/sabahuddin.ahmad), [Sourabh Nutakki](https://gitlab.com/Sourabh499). [Manan Sood](https://gitlab.com/Manan-Sood) contributed in one notebook.\n",
    "\n",
    "\n",
    "---"
   ]
  },
  {
   "cell_type": "markdown",
   "id": "agreed-radar",
   "metadata": {},
   "source": [
    "## References"
   ]
  },
  {
   "cell_type": "markdown",
   "id": "australian-bubble",
   "metadata": {},
   "source": [
    "[D-Wave Documentation](https://docs.dwavesys.com/docs/latest/c_gs_1.html)\n",
    "\n",
    "Glover, Fred, Gary Kochenberger, and Yu Du. \"[Quantum Bridge Analytics I: a tutorial on formulating and using QUBO models.](http://meta-analytics.net/wp-content/uploads/2020/08/Quantum-Bridge-Analytics-Part-1-Glover2019.pdf)\" 4OR 17.4 (2019): 335-371.\n",
    "\n",
    "Lucas, Andrew. \"[Ising formulations of many NP problems.](https://www.frontiersin.org/articles/10.3389/fphy.2014.00005/full)\" Frontiers in physics 2 (2014): 5.\n",
    "\n",
    "McGeoch, Catherine C. \"[Adiabatic quantum computation and quantum annealing: Theory and practice.](https://ieeexplore.ieee.org/document/7055969)\" Synthesis Lectures on Quantum Computing 5.2 (2014): 1-93.\n",
    "\n",
    "Salehi, Özlem, Adam Glos, and Jarosław Adam Miszczak. \"[Unconstrained Binary Models of the Travelling Salesman Problem Variants for Quantum Optimization.](https://arxiv.org/pdf/2106.09056.pdf)\" arXiv preprint arXiv:2106.09056 (2021)."
   ]
  }
 ],
 "metadata": {
  "kernelspec": {
   "display_name": "Python 3",
   "language": "python",
   "name": "python3"
  },
  "language_info": {
   "codemirror_mode": {
    "name": "ipython",
    "version": 3
   },
   "file_extension": ".py",
   "mimetype": "text/x-python",
   "name": "python",
   "nbconvert_exporter": "python",
   "pygments_lexer": "ipython3",
   "version": "3.7.3"
  }
 },
 "nbformat": 4,
 "nbformat_minor": 5
}
